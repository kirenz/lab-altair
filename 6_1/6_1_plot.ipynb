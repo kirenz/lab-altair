{
 "cells": [
  {
   "attachments": {},
   "cell_type": "markdown",
   "metadata": {},
   "source": [
    "# Possible solution to exercise 6.1"
   ]
  },
  {
   "attachments": {},
   "cell_type": "markdown",
   "metadata": {},
   "source": [
    "## Setup"
   ]
  },
  {
   "cell_type": "code",
   "execution_count": 87,
   "metadata": {},
   "outputs": [],
   "source": [
    "import pandas as pd\n",
    "import altair as alt"
   ]
  },
  {
   "attachments": {},
   "cell_type": "markdown",
   "metadata": {},
   "source": [
    "## Data import"
   ]
  },
  {
   "cell_type": "code",
   "execution_count": 88,
   "metadata": {},
   "outputs": [
    {
     "data": {
      "text/html": [
       "<div>\n",
       "<style scoped>\n",
       "    .dataframe tbody tr th:only-of-type {\n",
       "        vertical-align: middle;\n",
       "    }\n",
       "\n",
       "    .dataframe tbody tr th {\n",
       "        vertical-align: top;\n",
       "    }\n",
       "\n",
       "    .dataframe thead th {\n",
       "        text-align: right;\n",
       "    }\n",
       "</style>\n",
       "<table border=\"1\" class=\"dataframe\">\n",
       "  <thead>\n",
       "    <tr style=\"text-align: right;\">\n",
       "      <th></th>\n",
       "      <th>Date</th>\n",
       "      <th>Company</th>\n",
       "      <th>nps</th>\n",
       "    </tr>\n",
       "  </thead>\n",
       "  <tbody>\n",
       "    <tr>\n",
       "      <th>0</th>\n",
       "      <td>2019-01-01</td>\n",
       "      <td>OUR COMPANY</td>\n",
       "      <td>29.0</td>\n",
       "    </tr>\n",
       "    <tr>\n",
       "      <th>1</th>\n",
       "      <td>2019-02-01</td>\n",
       "      <td>OUR COMPANY</td>\n",
       "      <td>29.0</td>\n",
       "    </tr>\n",
       "    <tr>\n",
       "      <th>2</th>\n",
       "      <td>2019-03-01</td>\n",
       "      <td>OUR COMPANY</td>\n",
       "      <td>31.0</td>\n",
       "    </tr>\n",
       "    <tr>\n",
       "      <th>3</th>\n",
       "      <td>2019-04-01</td>\n",
       "      <td>OUR COMPANY</td>\n",
       "      <td>34.0</td>\n",
       "    </tr>\n",
       "    <tr>\n",
       "      <th>4</th>\n",
       "      <td>2019-05-01</td>\n",
       "      <td>OUR COMPANY</td>\n",
       "      <td>34.0</td>\n",
       "    </tr>\n",
       "    <tr>\n",
       "      <th>...</th>\n",
       "      <td>...</td>\n",
       "      <td>...</td>\n",
       "      <td>...</td>\n",
       "    </tr>\n",
       "    <tr>\n",
       "      <th>65</th>\n",
       "      <td>2019-10-01</td>\n",
       "      <td>COMPETITOR D</td>\n",
       "      <td>28.0</td>\n",
       "    </tr>\n",
       "    <tr>\n",
       "      <th>66</th>\n",
       "      <td>2019-11-01</td>\n",
       "      <td>COMPETITOR D</td>\n",
       "      <td>28.0</td>\n",
       "    </tr>\n",
       "    <tr>\n",
       "      <th>67</th>\n",
       "      <td>2019-12-01</td>\n",
       "      <td>COMPETITOR D</td>\n",
       "      <td>29.0</td>\n",
       "    </tr>\n",
       "    <tr>\n",
       "      <th>68</th>\n",
       "      <td>2020-01-01</td>\n",
       "      <td>COMPETITOR D</td>\n",
       "      <td>32.0</td>\n",
       "    </tr>\n",
       "    <tr>\n",
       "      <th>69</th>\n",
       "      <td>2020-02-01</td>\n",
       "      <td>COMPETITOR D</td>\n",
       "      <td>32.0</td>\n",
       "    </tr>\n",
       "  </tbody>\n",
       "</table>\n",
       "<p>70 rows × 3 columns</p>\n",
       "</div>"
      ],
      "text/plain": [
       "          Date       Company   nps\n",
       "0   2019-01-01   OUR COMPANY  29.0\n",
       "1   2019-02-01   OUR COMPANY  29.0\n",
       "2   2019-03-01   OUR COMPANY  31.0\n",
       "3   2019-04-01   OUR COMPANY  34.0\n",
       "4   2019-05-01   OUR COMPANY  34.0\n",
       "..         ...           ...   ...\n",
       "65  2019-10-01  COMPETITOR D  28.0\n",
       "66  2019-11-01  COMPETITOR D  28.0\n",
       "67  2019-12-01  COMPETITOR D  29.0\n",
       "68  2020-01-01  COMPETITOR D  32.0\n",
       "69  2020-02-01  COMPETITOR D  32.0\n",
       "\n",
       "[70 rows x 3 columns]"
      ]
     },
     "execution_count": 88,
     "metadata": {},
     "output_type": "execute_result"
    }
   ],
   "source": [
    "df = pd.read_csv(\"data.csv\")\n",
    "df"
   ]
  },
  {
   "attachments": {},
   "cell_type": "markdown",
   "metadata": {},
   "source": [
    "## Data preparation"
   ]
  },
  {
   "cell_type": "code",
   "execution_count": 89,
   "metadata": {},
   "outputs": [
    {
     "name": "stdout",
     "output_type": "stream",
     "text": [
      "<class 'pandas.core.frame.DataFrame'>\n",
      "RangeIndex: 70 entries, 0 to 69\n",
      "Data columns (total 3 columns):\n",
      " #   Column   Non-Null Count  Dtype  \n",
      "---  ------   --------------  -----  \n",
      " 0   Date     70 non-null     object \n",
      " 1   Company  70 non-null     object \n",
      " 2   nps      70 non-null     float64\n",
      "dtypes: float64(1), object(2)\n",
      "memory usage: 1.8+ KB\n"
     ]
    }
   ],
   "source": [
    "df.info()"
   ]
  },
  {
   "cell_type": "code",
   "execution_count": 90,
   "metadata": {},
   "outputs": [
    {
     "name": "stdout",
     "output_type": "stream",
     "text": [
      "<class 'pandas.core.frame.DataFrame'>\n",
      "RangeIndex: 70 entries, 0 to 69\n",
      "Data columns (total 3 columns):\n",
      " #   Column   Non-Null Count  Dtype         \n",
      "---  ------   --------------  -----         \n",
      " 0   Date     70 non-null     datetime64[ns]\n",
      " 1   Company  70 non-null     category      \n",
      " 2   nps      70 non-null     float64       \n",
      "dtypes: category(1), datetime64[ns](1), float64(1)\n",
      "memory usage: 1.5 KB\n"
     ]
    }
   ],
   "source": [
    "# Change data format\n",
    "df['Company'] = df['Company'].astype('category')\n",
    "df['Date'] =  pd.to_datetime(df['Date'])\n",
    "\n",
    "df.info()\n"
   ]
  },
  {
   "attachments": {},
   "cell_type": "markdown",
   "metadata": {},
   "source": [
    "## Chart\n",
    "\n",
    "### 1) Prepare line chart"
   ]
  },
  {
   "cell_type": "code",
   "execution_count": 91,
   "metadata": {},
   "outputs": [
    {
     "data": {
      "text/plain": [
       "['COMPETITOR A', 'COMPETITOR B', 'COMPETITOR C', 'COMPETITOR D', 'OUR COMPANY']"
      ]
     },
     "execution_count": 91,
     "metadata": {},
     "output_type": "execute_result"
    }
   ],
   "source": [
    "# Get names of companies\n",
    "COMPANY = df['Company'].cat.categories.to_list()\n",
    "COMPANY"
   ]
  },
  {
   "cell_type": "code",
   "execution_count": 92,
   "metadata": {},
   "outputs": [
    {
     "data": {
      "text/plain": [
       "Scale({\n",
       "  domain: ['COMPETITOR A', 'COMPETITOR B', 'COMPETITOR C', 'COMPETITOR D', 'OUR COMPANY'],\n",
       "  range: ['grey', 'grey', 'grey', 'grey', 'black']\n",
       "})"
      ]
     },
     "execution_count": 92,
     "metadata": {},
     "output_type": "execute_result"
    }
   ],
   "source": [
    "# Prepare colors\n",
    "colors = alt.Scale(\n",
    "  domain= COMPANY,\n",
    "  range=['grey', 'grey', 'grey', 'grey', 'black']\n",
    ")\n",
    "colors\n"
   ]
  },
  {
   "cell_type": "code",
   "execution_count": 93,
   "metadata": {},
   "outputs": [
    {
     "data": {
      "text/html": [
       "\n",
       "<div id=\"altair-viz-f286459d31294e4fae75471896ffc508\"></div>\n",
       "<script type=\"text/javascript\">\n",
       "  var VEGA_DEBUG = (typeof VEGA_DEBUG == \"undefined\") ? {} : VEGA_DEBUG;\n",
       "  (function(spec, embedOpt){\n",
       "    let outputDiv = document.currentScript.previousElementSibling;\n",
       "    if (outputDiv.id !== \"altair-viz-f286459d31294e4fae75471896ffc508\") {\n",
       "      outputDiv = document.getElementById(\"altair-viz-f286459d31294e4fae75471896ffc508\");\n",
       "    }\n",
       "    const paths = {\n",
       "      \"vega\": \"https://cdn.jsdelivr.net/npm/vega@5?noext\",\n",
       "      \"vega-lib\": \"https://cdn.jsdelivr.net/npm/vega-lib?noext\",\n",
       "      \"vega-lite\": \"https://cdn.jsdelivr.net/npm/vega-lite@5.6.1?noext\",\n",
       "      \"vega-embed\": \"https://cdn.jsdelivr.net/npm/vega-embed@6?noext\",\n",
       "    };\n",
       "\n",
       "    function maybeLoadScript(lib, version) {\n",
       "      var key = `${lib.replace(\"-\", \"\")}_version`;\n",
       "      return (VEGA_DEBUG[key] == version) ?\n",
       "        Promise.resolve(paths[lib]) :\n",
       "        new Promise(function(resolve, reject) {\n",
       "          var s = document.createElement('script');\n",
       "          document.getElementsByTagName(\"head\")[0].appendChild(s);\n",
       "          s.async = true;\n",
       "          s.onload = () => {\n",
       "            VEGA_DEBUG[key] = version;\n",
       "            return resolve(paths[lib]);\n",
       "          };\n",
       "          s.onerror = () => reject(`Error loading script: ${paths[lib]}`);\n",
       "          s.src = paths[lib];\n",
       "        });\n",
       "    }\n",
       "\n",
       "    function showError(err) {\n",
       "      outputDiv.innerHTML = `<div class=\"error\" style=\"color:red;\">${err}</div>`;\n",
       "      throw err;\n",
       "    }\n",
       "\n",
       "    function displayChart(vegaEmbed) {\n",
       "      vegaEmbed(outputDiv, spec, embedOpt)\n",
       "        .catch(err => showError(`Javascript Error: ${err.message}<br>This usually means there's a typo in your chart specification. See the javascript console for the full traceback.`));\n",
       "    }\n",
       "\n",
       "    if(typeof define === \"function\" && define.amd) {\n",
       "      requirejs.config({paths});\n",
       "      require([\"vega-embed\"], displayChart, err => showError(`Error loading script: ${err.message}`));\n",
       "    } else {\n",
       "      maybeLoadScript(\"vega\", \"5\")\n",
       "        .then(() => maybeLoadScript(\"vega-lite\", \"5.6.1\"))\n",
       "        .then(() => maybeLoadScript(\"vega-embed\", \"6\"))\n",
       "        .catch(showError)\n",
       "        .then(() => displayChart(vegaEmbed));\n",
       "    }\n",
       "  })({\"config\": {\"view\": {\"continuousWidth\": 300, \"continuousHeight\": 300}}, \"data\": {\"name\": \"data-2da0e6f43dc0bab24781ac2807513e61\"}, \"mark\": {\"type\": \"line\"}, \"encoding\": {\"color\": {\"field\": \"Company\", \"legend\": null, \"scale\": {\"domain\": [\"COMPETITOR A\", \"COMPETITOR B\", \"COMPETITOR C\", \"COMPETITOR D\", \"OUR COMPANY\"], \"range\": [\"grey\", \"grey\", \"grey\", \"grey\", \"black\"]}, \"type\": \"nominal\"}, \"strokeWidth\": {\"value\": 4}, \"x\": {\"axis\": {\"format\": \"%b %y\", \"grid\": false, \"labelAngle\": -90, \"title\": \"Time\", \"titleAnchor\": \"start\"}, \"field\": \"Date\", \"type\": \"temporal\"}, \"y\": {\"axis\": {\"grid\": false, \"title\": \"NPS\", \"titleAnchor\": \"end\", \"values\": [0, 10, 20, 30, 40, 50, 60]}, \"field\": \"nps\", \"scale\": {\"domain\": [0, 60]}, \"type\": \"quantitative\"}}, \"height\": 350, \"title\": {\"text\": [\"NPS: we rank 4th among competitors\"], \"subtitle\": [\"Net Promoter Score (NPS) over time\"], \"color\": \"black\", \"subtitleColor\": \"grey\"}, \"width\": 550, \"$schema\": \"https://vega.github.io/schema/vega-lite/v5.6.1.json\", \"datasets\": {\"data-2da0e6f43dc0bab24781ac2807513e61\": [{\"Date\": \"2019-01-01T00:00:00\", \"Company\": \"OUR COMPANY\", \"nps\": 29.0}, {\"Date\": \"2019-02-01T00:00:00\", \"Company\": \"OUR COMPANY\", \"nps\": 29.000000000000004}, {\"Date\": \"2019-03-01T00:00:00\", \"Company\": \"OUR COMPANY\", \"nps\": 31.0}, {\"Date\": \"2019-04-01T00:00:00\", \"Company\": \"OUR COMPANY\", \"nps\": 34.0}, {\"Date\": \"2019-05-01T00:00:00\", \"Company\": \"OUR COMPANY\", \"nps\": 34.0}, {\"Date\": \"2019-06-01T00:00:00\", \"Company\": \"OUR COMPANY\", \"nps\": 34.0}, {\"Date\": \"2019-07-01T00:00:00\", \"Company\": \"OUR COMPANY\", \"nps\": 32.0}, {\"Date\": \"2019-08-01T00:00:00\", \"Company\": \"OUR COMPANY\", \"nps\": 34.0}, {\"Date\": \"2019-09-01T00:00:00\", \"Company\": \"OUR COMPANY\", \"nps\": 35.0}, {\"Date\": \"2019-10-01T00:00:00\", \"Company\": \"OUR COMPANY\", \"nps\": 35.0}, {\"Date\": \"2019-11-01T00:00:00\", \"Company\": \"OUR COMPANY\", \"nps\": 33.0}, {\"Date\": \"2019-12-01T00:00:00\", \"Company\": \"OUR COMPANY\", \"nps\": 34.0}, {\"Date\": \"2020-01-01T00:00:00\", \"Company\": \"OUR COMPANY\", \"nps\": 35.0}, {\"Date\": \"2020-02-01T00:00:00\", \"Company\": \"OUR COMPANY\", \"nps\": 37.0}, {\"Date\": \"2019-01-01T00:00:00\", \"Company\": \"COMPETITOR A\", \"nps\": 49.0}, {\"Date\": \"2019-02-01T00:00:00\", \"Company\": \"COMPETITOR A\", \"nps\": 48.0}, {\"Date\": \"2019-03-01T00:00:00\", \"Company\": \"COMPETITOR A\", \"nps\": 48.0}, {\"Date\": \"2019-04-01T00:00:00\", \"Company\": \"COMPETITOR A\", \"nps\": 47.0}, {\"Date\": \"2019-05-01T00:00:00\", \"Company\": \"COMPETITOR A\", \"nps\": 45.0}, {\"Date\": \"2019-06-01T00:00:00\", \"Company\": \"COMPETITOR A\", \"nps\": 46.0}, {\"Date\": \"2019-07-01T00:00:00\", \"Company\": \"COMPETITOR A\", \"nps\": 45.0}, {\"Date\": \"2019-08-01T00:00:00\", \"Company\": \"COMPETITOR A\", \"nps\": 45.0}, {\"Date\": \"2019-09-01T00:00:00\", \"Company\": \"COMPETITOR A\", \"nps\": 44.0}, {\"Date\": \"2019-10-01T00:00:00\", \"Company\": \"COMPETITOR A\", \"nps\": 43.0}, {\"Date\": \"2019-11-01T00:00:00\", \"Company\": \"COMPETITOR A\", \"nps\": 42.0}, {\"Date\": \"2019-12-01T00:00:00\", \"Company\": \"COMPETITOR A\", \"nps\": 42.0}, {\"Date\": \"2020-01-01T00:00:00\", \"Company\": \"COMPETITOR A\", \"nps\": 44.0}, {\"Date\": \"2020-02-01T00:00:00\", \"Company\": \"COMPETITOR A\", \"nps\": 47.0}, {\"Date\": \"2019-01-01T00:00:00\", \"Company\": \"COMPETITOR B\", \"nps\": 38.0}, {\"Date\": \"2019-02-01T00:00:00\", \"Company\": \"COMPETITOR B\", \"nps\": 39.0}, {\"Date\": \"2019-03-01T00:00:00\", \"Company\": \"COMPETITOR B\", \"nps\": 39.0}, {\"Date\": \"2019-04-01T00:00:00\", \"Company\": \"COMPETITOR B\", \"nps\": 38.0}, {\"Date\": \"2019-05-01T00:00:00\", \"Company\": \"COMPETITOR B\", \"nps\": 40.0}, {\"Date\": \"2019-06-01T00:00:00\", \"Company\": \"COMPETITOR B\", \"nps\": 40.0}, {\"Date\": \"2019-07-01T00:00:00\", \"Company\": \"COMPETITOR B\", \"nps\": 40.0}, {\"Date\": \"2019-08-01T00:00:00\", \"Company\": \"COMPETITOR B\", \"nps\": 39.0}, {\"Date\": \"2019-09-01T00:00:00\", \"Company\": \"COMPETITOR B\", \"nps\": 38.0}, {\"Date\": \"2019-10-01T00:00:00\", \"Company\": \"COMPETITOR B\", \"nps\": 39.0}, {\"Date\": \"2019-11-01T00:00:00\", \"Company\": \"COMPETITOR B\", \"nps\": 39.0}, {\"Date\": \"2019-12-01T00:00:00\", \"Company\": \"COMPETITOR B\", \"nps\": 40.0}, {\"Date\": \"2020-01-01T00:00:00\", \"Company\": \"COMPETITOR B\", \"nps\": 41.0}, {\"Date\": \"2020-02-01T00:00:00\", \"Company\": \"COMPETITOR B\", \"nps\": 44.0}, {\"Date\": \"2019-01-01T00:00:00\", \"Company\": \"COMPETITOR C\", \"nps\": 36.0}, {\"Date\": \"2019-02-01T00:00:00\", \"Company\": \"COMPETITOR C\", \"nps\": 37.0}, {\"Date\": \"2019-03-01T00:00:00\", \"Company\": \"COMPETITOR C\", \"nps\": 38.0}, {\"Date\": \"2019-04-01T00:00:00\", \"Company\": \"COMPETITOR C\", \"nps\": 37.0}, {\"Date\": \"2019-05-01T00:00:00\", \"Company\": \"COMPETITOR C\", \"nps\": 38.0}, {\"Date\": \"2019-06-01T00:00:00\", \"Company\": \"COMPETITOR C\", \"nps\": 39.0}, {\"Date\": \"2019-07-01T00:00:00\", \"Company\": \"COMPETITOR C\", \"nps\": 38.0}, {\"Date\": \"2019-08-01T00:00:00\", \"Company\": \"COMPETITOR C\", \"nps\": 37.0}, {\"Date\": \"2019-09-01T00:00:00\", \"Company\": \"COMPETITOR C\", \"nps\": 40.0}, {\"Date\": \"2019-10-01T00:00:00\", \"Company\": \"COMPETITOR C\", \"nps\": 38.0}, {\"Date\": \"2019-11-01T00:00:00\", \"Company\": \"COMPETITOR C\", \"nps\": 36.0}, {\"Date\": \"2019-12-01T00:00:00\", \"Company\": \"COMPETITOR C\", \"nps\": 37.0}, {\"Date\": \"2020-01-01T00:00:00\", \"Company\": \"COMPETITOR C\", \"nps\": 38.0}, {\"Date\": \"2020-02-01T00:00:00\", \"Company\": \"COMPETITOR C\", \"nps\": 40.0}, {\"Date\": \"2019-01-01T00:00:00\", \"Company\": \"COMPETITOR D\", \"nps\": 25.0}, {\"Date\": \"2019-02-01T00:00:00\", \"Company\": \"COMPETITOR D\", \"nps\": 25.0}, {\"Date\": \"2019-03-01T00:00:00\", \"Company\": \"COMPETITOR D\", \"nps\": 26.0}, {\"Date\": \"2019-04-01T00:00:00\", \"Company\": \"COMPETITOR D\", \"nps\": 24.0}, {\"Date\": \"2019-05-01T00:00:00\", \"Company\": \"COMPETITOR D\", \"nps\": 25.0}, {\"Date\": \"2019-06-01T00:00:00\", \"Company\": \"COMPETITOR D\", \"nps\": 26.0}, {\"Date\": \"2019-07-01T00:00:00\", \"Company\": \"COMPETITOR D\", \"nps\": 27.0}, {\"Date\": \"2019-08-01T00:00:00\", \"Company\": \"COMPETITOR D\", \"nps\": 26.0}, {\"Date\": \"2019-09-01T00:00:00\", \"Company\": \"COMPETITOR D\", \"nps\": 26.0}, {\"Date\": \"2019-10-01T00:00:00\", \"Company\": \"COMPETITOR D\", \"nps\": 28.0}, {\"Date\": \"2019-11-01T00:00:00\", \"Company\": \"COMPETITOR D\", \"nps\": 28.0}, {\"Date\": \"2019-12-01T00:00:00\", \"Company\": \"COMPETITOR D\", \"nps\": 29.0}, {\"Date\": \"2020-01-01T00:00:00\", \"Company\": \"COMPETITOR D\", \"nps\": 32.0}, {\"Date\": \"2020-02-01T00:00:00\", \"Company\": \"COMPETITOR D\", \"nps\": 32.0}]}}, {\"mode\": \"vega-lite\"});\n",
       "</script>"
      ],
      "text/plain": [
       "alt.Chart(...)"
      ]
     },
     "execution_count": 93,
     "metadata": {},
     "output_type": "execute_result"
    }
   ],
   "source": [
    "# Create line chart\n",
    "line_chart = alt.Chart(df).mark_line().encode(\n",
    "    x=alt.X(\"Date:T\",\n",
    "            axis=alt.Axis(title='Time', \n",
    "                          titleAnchor=\"start\",\n",
    "                          labelAngle=-90,\n",
    "                          grid=False,\n",
    "                          format=\"%b %y\"),\n",
    "                          ),\n",
    "    y=alt.Y(\"nps:Q\",\n",
    "            scale=alt.Scale(domain=[0, 60]),\n",
    "            axis=alt.Axis(title = \"NPS\",\n",
    "                          grid=False,\n",
    "                          titleAnchor=\"end\",\n",
    "                          values=[0,10,20,30,40,50,60])\n",
    "                        ),\n",
    "    color=alt.Color(\"Company:N\", scale=colors, legend=None),\n",
    "    strokeWidth=alt.value(4)\n",
    ").properties(\n",
    "     title={\n",
    "      \"text\": ['NPS: we rank 4th among competitors'], \n",
    "      \"subtitle\": [\"Net Promoter Score (NPS) over time\"],\n",
    "      \"color\": \"black\",\n",
    "      \"subtitleColor\": \"grey\"\n",
    "    },\n",
    "    width=550,\n",
    "    height=350\n",
    ")\n",
    "\n",
    "line_chart\n"
   ]
  },
  {
   "attachments": {},
   "cell_type": "markdown",
   "metadata": {},
   "source": [
    "### 2) Create points at the end of the line"
   ]
  },
  {
   "cell_type": "code",
   "execution_count": 94,
   "metadata": {},
   "outputs": [
    {
     "data": {
      "text/html": [
       "\n",
       "<div id=\"altair-viz-d7969c46501a4a8f8fc7a301e335f87a\"></div>\n",
       "<script type=\"text/javascript\">\n",
       "  var VEGA_DEBUG = (typeof VEGA_DEBUG == \"undefined\") ? {} : VEGA_DEBUG;\n",
       "  (function(spec, embedOpt){\n",
       "    let outputDiv = document.currentScript.previousElementSibling;\n",
       "    if (outputDiv.id !== \"altair-viz-d7969c46501a4a8f8fc7a301e335f87a\") {\n",
       "      outputDiv = document.getElementById(\"altair-viz-d7969c46501a4a8f8fc7a301e335f87a\");\n",
       "    }\n",
       "    const paths = {\n",
       "      \"vega\": \"https://cdn.jsdelivr.net/npm/vega@5?noext\",\n",
       "      \"vega-lib\": \"https://cdn.jsdelivr.net/npm/vega-lib?noext\",\n",
       "      \"vega-lite\": \"https://cdn.jsdelivr.net/npm/vega-lite@5.6.1?noext\",\n",
       "      \"vega-embed\": \"https://cdn.jsdelivr.net/npm/vega-embed@6?noext\",\n",
       "    };\n",
       "\n",
       "    function maybeLoadScript(lib, version) {\n",
       "      var key = `${lib.replace(\"-\", \"\")}_version`;\n",
       "      return (VEGA_DEBUG[key] == version) ?\n",
       "        Promise.resolve(paths[lib]) :\n",
       "        new Promise(function(resolve, reject) {\n",
       "          var s = document.createElement('script');\n",
       "          document.getElementsByTagName(\"head\")[0].appendChild(s);\n",
       "          s.async = true;\n",
       "          s.onload = () => {\n",
       "            VEGA_DEBUG[key] = version;\n",
       "            return resolve(paths[lib]);\n",
       "          };\n",
       "          s.onerror = () => reject(`Error loading script: ${paths[lib]}`);\n",
       "          s.src = paths[lib];\n",
       "        });\n",
       "    }\n",
       "\n",
       "    function showError(err) {\n",
       "      outputDiv.innerHTML = `<div class=\"error\" style=\"color:red;\">${err}</div>`;\n",
       "      throw err;\n",
       "    }\n",
       "\n",
       "    function displayChart(vegaEmbed) {\n",
       "      vegaEmbed(outputDiv, spec, embedOpt)\n",
       "        .catch(err => showError(`Javascript Error: ${err.message}<br>This usually means there's a typo in your chart specification. See the javascript console for the full traceback.`));\n",
       "    }\n",
       "\n",
       "    if(typeof define === \"function\" && define.amd) {\n",
       "      requirejs.config({paths});\n",
       "      require([\"vega-embed\"], displayChart, err => showError(`Error loading script: ${err.message}`));\n",
       "    } else {\n",
       "      maybeLoadScript(\"vega\", \"5\")\n",
       "        .then(() => maybeLoadScript(\"vega-lite\", \"5.6.1\"))\n",
       "        .then(() => maybeLoadScript(\"vega-embed\", \"6\"))\n",
       "        .catch(showError)\n",
       "        .then(() => displayChart(vegaEmbed));\n",
       "    }\n",
       "  })({\"config\": {\"view\": {\"continuousWidth\": 300, \"continuousHeight\": 300}}, \"layer\": [{\"data\": {\"name\": \"data-2da0e6f43dc0bab24781ac2807513e61\"}, \"mark\": {\"type\": \"line\"}, \"encoding\": {\"color\": {\"field\": \"Company\", \"legend\": null, \"scale\": {\"domain\": [\"COMPETITOR A\", \"COMPETITOR B\", \"COMPETITOR C\", \"COMPETITOR D\", \"OUR COMPANY\"], \"range\": [\"grey\", \"grey\", \"grey\", \"grey\", \"black\"]}, \"type\": \"nominal\"}, \"strokeWidth\": {\"value\": 4}, \"x\": {\"axis\": {\"format\": \"%b %y\", \"grid\": false, \"labelAngle\": -90, \"title\": \"Time\", \"titleAnchor\": \"start\"}, \"field\": \"Date\", \"type\": \"temporal\"}, \"y\": {\"axis\": {\"grid\": false, \"title\": \"NPS\", \"titleAnchor\": \"end\", \"values\": [0, 10, 20, 30, 40, 50, 60]}, \"field\": \"nps\", \"scale\": {\"domain\": [0, 60]}, \"type\": \"quantitative\"}}, \"title\": {\"text\": [\"NPS: we rank 4th among competitors\"], \"subtitle\": [\"Net Promoter Score (NPS) over time\"], \"color\": \"black\", \"subtitleColor\": \"grey\"}}, {\"data\": {\"name\": \"data-311ade587f3458019a68a4880523582f\"}, \"mark\": {\"type\": \"circle\", \"opacity\": 1, \"size\": 150}, \"encoding\": {\"color\": {\"field\": \"Company\", \"scale\": {\"domain\": [\"COMPETITOR A\", \"COMPETITOR B\", \"COMPETITOR C\", \"COMPETITOR D\", \"OUR COMPANY\"], \"range\": [\"grey\", \"grey\", \"grey\", \"grey\", \"black\"]}, \"type\": \"nominal\"}, \"x\": {\"field\": \"Date\", \"type\": \"temporal\"}, \"y\": {\"field\": \"nps\", \"type\": \"quantitative\"}}}], \"height\": 350, \"width\": 550, \"$schema\": \"https://vega.github.io/schema/vega-lite/v5.6.1.json\", \"datasets\": {\"data-2da0e6f43dc0bab24781ac2807513e61\": [{\"Date\": \"2019-01-01T00:00:00\", \"Company\": \"OUR COMPANY\", \"nps\": 29.0}, {\"Date\": \"2019-02-01T00:00:00\", \"Company\": \"OUR COMPANY\", \"nps\": 29.000000000000004}, {\"Date\": \"2019-03-01T00:00:00\", \"Company\": \"OUR COMPANY\", \"nps\": 31.0}, {\"Date\": \"2019-04-01T00:00:00\", \"Company\": \"OUR COMPANY\", \"nps\": 34.0}, {\"Date\": \"2019-05-01T00:00:00\", \"Company\": \"OUR COMPANY\", \"nps\": 34.0}, {\"Date\": \"2019-06-01T00:00:00\", \"Company\": \"OUR COMPANY\", \"nps\": 34.0}, {\"Date\": \"2019-07-01T00:00:00\", \"Company\": \"OUR COMPANY\", \"nps\": 32.0}, {\"Date\": \"2019-08-01T00:00:00\", \"Company\": \"OUR COMPANY\", \"nps\": 34.0}, {\"Date\": \"2019-09-01T00:00:00\", \"Company\": \"OUR COMPANY\", \"nps\": 35.0}, {\"Date\": \"2019-10-01T00:00:00\", \"Company\": \"OUR COMPANY\", \"nps\": 35.0}, {\"Date\": \"2019-11-01T00:00:00\", \"Company\": \"OUR COMPANY\", \"nps\": 33.0}, {\"Date\": \"2019-12-01T00:00:00\", \"Company\": \"OUR COMPANY\", \"nps\": 34.0}, {\"Date\": \"2020-01-01T00:00:00\", \"Company\": \"OUR COMPANY\", \"nps\": 35.0}, {\"Date\": \"2020-02-01T00:00:00\", \"Company\": \"OUR COMPANY\", \"nps\": 37.0}, {\"Date\": \"2019-01-01T00:00:00\", \"Company\": \"COMPETITOR A\", \"nps\": 49.0}, {\"Date\": \"2019-02-01T00:00:00\", \"Company\": \"COMPETITOR A\", \"nps\": 48.0}, {\"Date\": \"2019-03-01T00:00:00\", \"Company\": \"COMPETITOR A\", \"nps\": 48.0}, {\"Date\": \"2019-04-01T00:00:00\", \"Company\": \"COMPETITOR A\", \"nps\": 47.0}, {\"Date\": \"2019-05-01T00:00:00\", \"Company\": \"COMPETITOR A\", \"nps\": 45.0}, {\"Date\": \"2019-06-01T00:00:00\", \"Company\": \"COMPETITOR A\", \"nps\": 46.0}, {\"Date\": \"2019-07-01T00:00:00\", \"Company\": \"COMPETITOR A\", \"nps\": 45.0}, {\"Date\": \"2019-08-01T00:00:00\", \"Company\": \"COMPETITOR A\", \"nps\": 45.0}, {\"Date\": \"2019-09-01T00:00:00\", \"Company\": \"COMPETITOR A\", \"nps\": 44.0}, {\"Date\": \"2019-10-01T00:00:00\", \"Company\": \"COMPETITOR A\", \"nps\": 43.0}, {\"Date\": \"2019-11-01T00:00:00\", \"Company\": \"COMPETITOR A\", \"nps\": 42.0}, {\"Date\": \"2019-12-01T00:00:00\", \"Company\": \"COMPETITOR A\", \"nps\": 42.0}, {\"Date\": \"2020-01-01T00:00:00\", \"Company\": \"COMPETITOR A\", \"nps\": 44.0}, {\"Date\": \"2020-02-01T00:00:00\", \"Company\": \"COMPETITOR A\", \"nps\": 47.0}, {\"Date\": \"2019-01-01T00:00:00\", \"Company\": \"COMPETITOR B\", \"nps\": 38.0}, {\"Date\": \"2019-02-01T00:00:00\", \"Company\": \"COMPETITOR B\", \"nps\": 39.0}, {\"Date\": \"2019-03-01T00:00:00\", \"Company\": \"COMPETITOR B\", \"nps\": 39.0}, {\"Date\": \"2019-04-01T00:00:00\", \"Company\": \"COMPETITOR B\", \"nps\": 38.0}, {\"Date\": \"2019-05-01T00:00:00\", \"Company\": \"COMPETITOR B\", \"nps\": 40.0}, {\"Date\": \"2019-06-01T00:00:00\", \"Company\": \"COMPETITOR B\", \"nps\": 40.0}, {\"Date\": \"2019-07-01T00:00:00\", \"Company\": \"COMPETITOR B\", \"nps\": 40.0}, {\"Date\": \"2019-08-01T00:00:00\", \"Company\": \"COMPETITOR B\", \"nps\": 39.0}, {\"Date\": \"2019-09-01T00:00:00\", \"Company\": \"COMPETITOR B\", \"nps\": 38.0}, {\"Date\": \"2019-10-01T00:00:00\", \"Company\": \"COMPETITOR B\", \"nps\": 39.0}, {\"Date\": \"2019-11-01T00:00:00\", \"Company\": \"COMPETITOR B\", \"nps\": 39.0}, {\"Date\": \"2019-12-01T00:00:00\", \"Company\": \"COMPETITOR B\", \"nps\": 40.0}, {\"Date\": \"2020-01-01T00:00:00\", \"Company\": \"COMPETITOR B\", \"nps\": 41.0}, {\"Date\": \"2020-02-01T00:00:00\", \"Company\": \"COMPETITOR B\", \"nps\": 44.0}, {\"Date\": \"2019-01-01T00:00:00\", \"Company\": \"COMPETITOR C\", \"nps\": 36.0}, {\"Date\": \"2019-02-01T00:00:00\", \"Company\": \"COMPETITOR C\", \"nps\": 37.0}, {\"Date\": \"2019-03-01T00:00:00\", \"Company\": \"COMPETITOR C\", \"nps\": 38.0}, {\"Date\": \"2019-04-01T00:00:00\", \"Company\": \"COMPETITOR C\", \"nps\": 37.0}, {\"Date\": \"2019-05-01T00:00:00\", \"Company\": \"COMPETITOR C\", \"nps\": 38.0}, {\"Date\": \"2019-06-01T00:00:00\", \"Company\": \"COMPETITOR C\", \"nps\": 39.0}, {\"Date\": \"2019-07-01T00:00:00\", \"Company\": \"COMPETITOR C\", \"nps\": 38.0}, {\"Date\": \"2019-08-01T00:00:00\", \"Company\": \"COMPETITOR C\", \"nps\": 37.0}, {\"Date\": \"2019-09-01T00:00:00\", \"Company\": \"COMPETITOR C\", \"nps\": 40.0}, {\"Date\": \"2019-10-01T00:00:00\", \"Company\": \"COMPETITOR C\", \"nps\": 38.0}, {\"Date\": \"2019-11-01T00:00:00\", \"Company\": \"COMPETITOR C\", \"nps\": 36.0}, {\"Date\": \"2019-12-01T00:00:00\", \"Company\": \"COMPETITOR C\", \"nps\": 37.0}, {\"Date\": \"2020-01-01T00:00:00\", \"Company\": \"COMPETITOR C\", \"nps\": 38.0}, {\"Date\": \"2020-02-01T00:00:00\", \"Company\": \"COMPETITOR C\", \"nps\": 40.0}, {\"Date\": \"2019-01-01T00:00:00\", \"Company\": \"COMPETITOR D\", \"nps\": 25.0}, {\"Date\": \"2019-02-01T00:00:00\", \"Company\": \"COMPETITOR D\", \"nps\": 25.0}, {\"Date\": \"2019-03-01T00:00:00\", \"Company\": \"COMPETITOR D\", \"nps\": 26.0}, {\"Date\": \"2019-04-01T00:00:00\", \"Company\": \"COMPETITOR D\", \"nps\": 24.0}, {\"Date\": \"2019-05-01T00:00:00\", \"Company\": \"COMPETITOR D\", \"nps\": 25.0}, {\"Date\": \"2019-06-01T00:00:00\", \"Company\": \"COMPETITOR D\", \"nps\": 26.0}, {\"Date\": \"2019-07-01T00:00:00\", \"Company\": \"COMPETITOR D\", \"nps\": 27.0}, {\"Date\": \"2019-08-01T00:00:00\", \"Company\": \"COMPETITOR D\", \"nps\": 26.0}, {\"Date\": \"2019-09-01T00:00:00\", \"Company\": \"COMPETITOR D\", \"nps\": 26.0}, {\"Date\": \"2019-10-01T00:00:00\", \"Company\": \"COMPETITOR D\", \"nps\": 28.0}, {\"Date\": \"2019-11-01T00:00:00\", \"Company\": \"COMPETITOR D\", \"nps\": 28.0}, {\"Date\": \"2019-12-01T00:00:00\", \"Company\": \"COMPETITOR D\", \"nps\": 29.0}, {\"Date\": \"2020-01-01T00:00:00\", \"Company\": \"COMPETITOR D\", \"nps\": 32.0}, {\"Date\": \"2020-02-01T00:00:00\", \"Company\": \"COMPETITOR D\", \"nps\": 32.0}], \"data-311ade587f3458019a68a4880523582f\": [{\"Date\": \"2020-02-01T00:00:00\", \"Company\": \"OUR COMPANY\", \"nps\": 37.0}, {\"Date\": \"2020-02-01T00:00:00\", \"Company\": \"COMPETITOR A\", \"nps\": 47.0}, {\"Date\": \"2020-02-01T00:00:00\", \"Company\": \"COMPETITOR B\", \"nps\": 44.0}, {\"Date\": \"2020-02-01T00:00:00\", \"Company\": \"COMPETITOR C\", \"nps\": 40.0}, {\"Date\": \"2020-02-01T00:00:00\", \"Company\": \"COMPETITOR D\", \"nps\": 32.0}]}}, {\"mode\": \"vega-lite\"});\n",
       "</script>"
      ],
      "text/plain": [
       "alt.LayerChart(...)"
      ]
     },
     "execution_count": 94,
     "metadata": {},
     "output_type": "execute_result"
    }
   ],
   "source": [
    "# Create a new dataframe wich only includes the last row of the data\n",
    "df_2 = df[df[\"Date\"]== \"2020-02-01\"]\n",
    "\n",
    "points = alt.Chart(df_2).mark_circle(opacity=1, size=150).encode(\n",
    "    alt.X(\"Date:T\"),\n",
    "    alt.Y(\"nps:Q\"),\n",
    "    color=alt.Color(\"Company:N\", scale=colors)\n",
    ")\n",
    "\n",
    "line_chart + points"
   ]
  },
  {
   "attachments": {},
   "cell_type": "markdown",
   "metadata": {},
   "source": [
    "### 3) Create labels"
   ]
  },
  {
   "cell_type": "code",
   "execution_count": 95,
   "metadata": {},
   "outputs": [
    {
     "data": {
      "text/html": [
       "\n",
       "<div id=\"altair-viz-c9cfefe4f58e4207917bd7cd3d09731d\"></div>\n",
       "<script type=\"text/javascript\">\n",
       "  var VEGA_DEBUG = (typeof VEGA_DEBUG == \"undefined\") ? {} : VEGA_DEBUG;\n",
       "  (function(spec, embedOpt){\n",
       "    let outputDiv = document.currentScript.previousElementSibling;\n",
       "    if (outputDiv.id !== \"altair-viz-c9cfefe4f58e4207917bd7cd3d09731d\") {\n",
       "      outputDiv = document.getElementById(\"altair-viz-c9cfefe4f58e4207917bd7cd3d09731d\");\n",
       "    }\n",
       "    const paths = {\n",
       "      \"vega\": \"https://cdn.jsdelivr.net/npm/vega@5?noext\",\n",
       "      \"vega-lib\": \"https://cdn.jsdelivr.net/npm/vega-lib?noext\",\n",
       "      \"vega-lite\": \"https://cdn.jsdelivr.net/npm/vega-lite@5.6.1?noext\",\n",
       "      \"vega-embed\": \"https://cdn.jsdelivr.net/npm/vega-embed@6?noext\",\n",
       "    };\n",
       "\n",
       "    function maybeLoadScript(lib, version) {\n",
       "      var key = `${lib.replace(\"-\", \"\")}_version`;\n",
       "      return (VEGA_DEBUG[key] == version) ?\n",
       "        Promise.resolve(paths[lib]) :\n",
       "        new Promise(function(resolve, reject) {\n",
       "          var s = document.createElement('script');\n",
       "          document.getElementsByTagName(\"head\")[0].appendChild(s);\n",
       "          s.async = true;\n",
       "          s.onload = () => {\n",
       "            VEGA_DEBUG[key] = version;\n",
       "            return resolve(paths[lib]);\n",
       "          };\n",
       "          s.onerror = () => reject(`Error loading script: ${paths[lib]}`);\n",
       "          s.src = paths[lib];\n",
       "        });\n",
       "    }\n",
       "\n",
       "    function showError(err) {\n",
       "      outputDiv.innerHTML = `<div class=\"error\" style=\"color:red;\">${err}</div>`;\n",
       "      throw err;\n",
       "    }\n",
       "\n",
       "    function displayChart(vegaEmbed) {\n",
       "      vegaEmbed(outputDiv, spec, embedOpt)\n",
       "        .catch(err => showError(`Javascript Error: ${err.message}<br>This usually means there's a typo in your chart specification. See the javascript console for the full traceback.`));\n",
       "    }\n",
       "\n",
       "    if(typeof define === \"function\" && define.amd) {\n",
       "      requirejs.config({paths});\n",
       "      require([\"vega-embed\"], displayChart, err => showError(`Error loading script: ${err.message}`));\n",
       "    } else {\n",
       "      maybeLoadScript(\"vega\", \"5\")\n",
       "        .then(() => maybeLoadScript(\"vega-lite\", \"5.6.1\"))\n",
       "        .then(() => maybeLoadScript(\"vega-embed\", \"6\"))\n",
       "        .catch(showError)\n",
       "        .then(() => displayChart(vegaEmbed));\n",
       "    }\n",
       "  })({\"config\": {\"view\": {\"continuousWidth\": 300, \"continuousHeight\": 300}}, \"layer\": [{\"mark\": {\"type\": \"text\"}, \"encoding\": {\"color\": {\"field\": \"Company\", \"legend\": null, \"type\": \"nominal\"}, \"x\": {\"aggregate\": \"max\", \"field\": \"Date\", \"type\": \"temporal\"}, \"y\": {\"aggregate\": {\"argmax\": \"Date\"}, \"field\": \"nps\", \"type\": \"quantitative\"}}}, {\"mark\": {\"type\": \"text\", \"align\": \"left\", \"dx\": 10, \"fontWeight\": \"bold\", \"size\": 14}, \"encoding\": {\"color\": {\"field\": \"Company\", \"legend\": null, \"type\": \"nominal\"}, \"text\": {\"field\": \"nps\", \"type\": \"quantitative\"}, \"x\": {\"aggregate\": \"max\", \"field\": \"Date\", \"type\": \"temporal\"}, \"y\": {\"aggregate\": {\"argmax\": \"Date\"}, \"field\": \"nps\", \"type\": \"quantitative\"}}}, {\"mark\": {\"type\": \"text\", \"align\": \"left\", \"dx\": 30, \"fontWeight\": \"bold\", \"size\": 14}, \"encoding\": {\"color\": {\"field\": \"Company\", \"legend\": null, \"type\": \"nominal\"}, \"text\": {\"field\": \"Company\", \"type\": \"nominal\"}, \"x\": {\"aggregate\": \"max\", \"field\": \"Date\", \"type\": \"temporal\"}, \"y\": {\"aggregate\": {\"argmax\": \"Date\"}, \"field\": \"nps\", \"type\": \"quantitative\"}}}], \"data\": {\"name\": \"data-311ade587f3458019a68a4880523582f\"}, \"$schema\": \"https://vega.github.io/schema/vega-lite/v5.6.1.json\", \"datasets\": {\"data-311ade587f3458019a68a4880523582f\": [{\"Date\": \"2020-02-01T00:00:00\", \"Company\": \"OUR COMPANY\", \"nps\": 37.0}, {\"Date\": \"2020-02-01T00:00:00\", \"Company\": \"COMPETITOR A\", \"nps\": 47.0}, {\"Date\": \"2020-02-01T00:00:00\", \"Company\": \"COMPETITOR B\", \"nps\": 44.0}, {\"Date\": \"2020-02-01T00:00:00\", \"Company\": \"COMPETITOR C\", \"nps\": 40.0}, {\"Date\": \"2020-02-01T00:00:00\", \"Company\": \"COMPETITOR D\", \"nps\": 32.0}]}}, {\"mode\": \"vega-lite\"});\n",
       "</script>"
      ],
      "text/plain": [
       "alt.LayerChart(...)"
      ]
     },
     "execution_count": 95,
     "metadata": {},
     "output_type": "execute_result"
    }
   ],
   "source": [
    "# Create base chart for our labels\n",
    "label_base =  alt.Chart(df_2).mark_text().encode(\n",
    "    alt.X(\"Date:T\", aggregate=\"max\"),\n",
    "    alt.Y(\"nps:Q\", aggregate={\"argmax\": \"Date\"}),\n",
    "    alt.Color(\"Company:N\", legend=None) \n",
    ")\n",
    "\n",
    "# Create labels for nps values\n",
    "label_nps = label_base.mark_text(align=\"left\", \n",
    "                           dx=10, \n",
    "                           size=14, \n",
    "                           fontWeight=\"bold\"\n",
    "            ).encode(alt.Text(\"nps:Q\")) \n",
    "\n",
    "# Create labels for companies\n",
    "label_company = label_base.mark_text(align=\"left\", \n",
    "                               dx=30, \n",
    "                               size=14, \n",
    "                               fontWeight=\"bold\"\n",
    "            ).encode(alt.Text(\"Company:N\"))\n",
    "\n",
    "label_base + label_nps + label_company"
   ]
  },
  {
   "attachments": {},
   "cell_type": "markdown",
   "metadata": {},
   "source": [
    "### 4) Combine all elements"
   ]
  },
  {
   "cell_type": "code",
   "execution_count": 96,
   "metadata": {},
   "outputs": [
    {
     "data": {
      "text/html": [
       "\n",
       "<div id=\"altair-viz-d5bfd68b1f4a4e3995962b0e37ea325f\"></div>\n",
       "<script type=\"text/javascript\">\n",
       "  var VEGA_DEBUG = (typeof VEGA_DEBUG == \"undefined\") ? {} : VEGA_DEBUG;\n",
       "  (function(spec, embedOpt){\n",
       "    let outputDiv = document.currentScript.previousElementSibling;\n",
       "    if (outputDiv.id !== \"altair-viz-d5bfd68b1f4a4e3995962b0e37ea325f\") {\n",
       "      outputDiv = document.getElementById(\"altair-viz-d5bfd68b1f4a4e3995962b0e37ea325f\");\n",
       "    }\n",
       "    const paths = {\n",
       "      \"vega\": \"https://cdn.jsdelivr.net/npm/vega@5?noext\",\n",
       "      \"vega-lib\": \"https://cdn.jsdelivr.net/npm/vega-lib?noext\",\n",
       "      \"vega-lite\": \"https://cdn.jsdelivr.net/npm/vega-lite@5.6.1?noext\",\n",
       "      \"vega-embed\": \"https://cdn.jsdelivr.net/npm/vega-embed@6?noext\",\n",
       "    };\n",
       "\n",
       "    function maybeLoadScript(lib, version) {\n",
       "      var key = `${lib.replace(\"-\", \"\")}_version`;\n",
       "      return (VEGA_DEBUG[key] == version) ?\n",
       "        Promise.resolve(paths[lib]) :\n",
       "        new Promise(function(resolve, reject) {\n",
       "          var s = document.createElement('script');\n",
       "          document.getElementsByTagName(\"head\")[0].appendChild(s);\n",
       "          s.async = true;\n",
       "          s.onload = () => {\n",
       "            VEGA_DEBUG[key] = version;\n",
       "            return resolve(paths[lib]);\n",
       "          };\n",
       "          s.onerror = () => reject(`Error loading script: ${paths[lib]}`);\n",
       "          s.src = paths[lib];\n",
       "        });\n",
       "    }\n",
       "\n",
       "    function showError(err) {\n",
       "      outputDiv.innerHTML = `<div class=\"error\" style=\"color:red;\">${err}</div>`;\n",
       "      throw err;\n",
       "    }\n",
       "\n",
       "    function displayChart(vegaEmbed) {\n",
       "      vegaEmbed(outputDiv, spec, embedOpt)\n",
       "        .catch(err => showError(`Javascript Error: ${err.message}<br>This usually means there's a typo in your chart specification. See the javascript console for the full traceback.`));\n",
       "    }\n",
       "\n",
       "    if(typeof define === \"function\" && define.amd) {\n",
       "      requirejs.config({paths});\n",
       "      require([\"vega-embed\"], displayChart, err => showError(`Error loading script: ${err.message}`));\n",
       "    } else {\n",
       "      maybeLoadScript(\"vega\", \"5\")\n",
       "        .then(() => maybeLoadScript(\"vega-lite\", \"5.6.1\"))\n",
       "        .then(() => maybeLoadScript(\"vega-embed\", \"6\"))\n",
       "        .catch(showError)\n",
       "        .then(() => displayChart(vegaEmbed));\n",
       "    }\n",
       "  })({\"config\": {\"view\": {\"continuousWidth\": 300, \"continuousHeight\": 300, \"strokeWidth\": 0}, \"axis\": {\"labelFont\": \"Arial\", \"labelFontSize\": 11, \"titleColor\": \"grey\", \"titleFont\": \"Arial\", \"titleFontSize\": 16, \"titleFontWeight\": \"normal\"}, \"title\": {\"anchor\": \"start\", \"font\": \"Arial\", \"fontSize\": 22, \"fontWeight\": \"normal\"}}, \"layer\": [{\"data\": {\"name\": \"data-2da0e6f43dc0bab24781ac2807513e61\"}, \"mark\": {\"type\": \"line\"}, \"encoding\": {\"color\": {\"field\": \"Company\", \"legend\": null, \"scale\": {\"domain\": [\"COMPETITOR A\", \"COMPETITOR B\", \"COMPETITOR C\", \"COMPETITOR D\", \"OUR COMPANY\"], \"range\": [\"grey\", \"grey\", \"grey\", \"grey\", \"black\"]}, \"type\": \"nominal\"}, \"strokeWidth\": {\"value\": 4}, \"x\": {\"axis\": {\"format\": \"%b %y\", \"grid\": false, \"labelAngle\": -90, \"title\": \"Time\", \"titleAnchor\": \"start\"}, \"field\": \"Date\", \"type\": \"temporal\"}, \"y\": {\"axis\": {\"grid\": false, \"title\": \"NPS\", \"titleAnchor\": \"end\", \"values\": [0, 10, 20, 30, 40, 50, 60]}, \"field\": \"nps\", \"scale\": {\"domain\": [0, 60]}, \"type\": \"quantitative\"}}, \"title\": {\"text\": [\"NPS: we rank 4th among competitors\"], \"subtitle\": [\"Net Promoter Score (NPS) over time\"], \"color\": \"black\", \"subtitleColor\": \"grey\"}}, {\"data\": {\"name\": \"data-311ade587f3458019a68a4880523582f\"}, \"mark\": {\"type\": \"circle\", \"opacity\": 1, \"size\": 150}, \"encoding\": {\"color\": {\"field\": \"Company\", \"scale\": {\"domain\": [\"COMPETITOR A\", \"COMPETITOR B\", \"COMPETITOR C\", \"COMPETITOR D\", \"OUR COMPANY\"], \"range\": [\"grey\", \"grey\", \"grey\", \"grey\", \"black\"]}, \"type\": \"nominal\"}, \"x\": {\"field\": \"Date\", \"type\": \"temporal\"}, \"y\": {\"field\": \"nps\", \"type\": \"quantitative\"}}}, {\"data\": {\"name\": \"data-311ade587f3458019a68a4880523582f\"}, \"mark\": {\"type\": \"text\", \"align\": \"left\", \"dx\": 10, \"fontWeight\": \"bold\", \"size\": 14}, \"encoding\": {\"color\": {\"field\": \"Company\", \"legend\": null, \"type\": \"nominal\"}, \"text\": {\"field\": \"nps\", \"type\": \"quantitative\"}, \"x\": {\"aggregate\": \"max\", \"field\": \"Date\", \"type\": \"temporal\"}, \"y\": {\"aggregate\": {\"argmax\": \"Date\"}, \"field\": \"nps\", \"type\": \"quantitative\"}}}, {\"data\": {\"name\": \"data-311ade587f3458019a68a4880523582f\"}, \"mark\": {\"type\": \"text\", \"align\": \"left\", \"dx\": 30, \"fontWeight\": \"bold\", \"size\": 14}, \"encoding\": {\"color\": {\"field\": \"Company\", \"legend\": null, \"type\": \"nominal\"}, \"text\": {\"field\": \"Company\", \"type\": \"nominal\"}, \"x\": {\"aggregate\": \"max\", \"field\": \"Date\", \"type\": \"temporal\"}, \"y\": {\"aggregate\": {\"argmax\": \"Date\"}, \"field\": \"nps\", \"type\": \"quantitative\"}}}], \"height\": 350, \"width\": 550, \"$schema\": \"https://vega.github.io/schema/vega-lite/v5.6.1.json\", \"datasets\": {\"data-2da0e6f43dc0bab24781ac2807513e61\": [{\"Date\": \"2019-01-01T00:00:00\", \"Company\": \"OUR COMPANY\", \"nps\": 29.0}, {\"Date\": \"2019-02-01T00:00:00\", \"Company\": \"OUR COMPANY\", \"nps\": 29.000000000000004}, {\"Date\": \"2019-03-01T00:00:00\", \"Company\": \"OUR COMPANY\", \"nps\": 31.0}, {\"Date\": \"2019-04-01T00:00:00\", \"Company\": \"OUR COMPANY\", \"nps\": 34.0}, {\"Date\": \"2019-05-01T00:00:00\", \"Company\": \"OUR COMPANY\", \"nps\": 34.0}, {\"Date\": \"2019-06-01T00:00:00\", \"Company\": \"OUR COMPANY\", \"nps\": 34.0}, {\"Date\": \"2019-07-01T00:00:00\", \"Company\": \"OUR COMPANY\", \"nps\": 32.0}, {\"Date\": \"2019-08-01T00:00:00\", \"Company\": \"OUR COMPANY\", \"nps\": 34.0}, {\"Date\": \"2019-09-01T00:00:00\", \"Company\": \"OUR COMPANY\", \"nps\": 35.0}, {\"Date\": \"2019-10-01T00:00:00\", \"Company\": \"OUR COMPANY\", \"nps\": 35.0}, {\"Date\": \"2019-11-01T00:00:00\", \"Company\": \"OUR COMPANY\", \"nps\": 33.0}, {\"Date\": \"2019-12-01T00:00:00\", \"Company\": \"OUR COMPANY\", \"nps\": 34.0}, {\"Date\": \"2020-01-01T00:00:00\", \"Company\": \"OUR COMPANY\", \"nps\": 35.0}, {\"Date\": \"2020-02-01T00:00:00\", \"Company\": \"OUR COMPANY\", \"nps\": 37.0}, {\"Date\": \"2019-01-01T00:00:00\", \"Company\": \"COMPETITOR A\", \"nps\": 49.0}, {\"Date\": \"2019-02-01T00:00:00\", \"Company\": \"COMPETITOR A\", \"nps\": 48.0}, {\"Date\": \"2019-03-01T00:00:00\", \"Company\": \"COMPETITOR A\", \"nps\": 48.0}, {\"Date\": \"2019-04-01T00:00:00\", \"Company\": \"COMPETITOR A\", \"nps\": 47.0}, {\"Date\": \"2019-05-01T00:00:00\", \"Company\": \"COMPETITOR A\", \"nps\": 45.0}, {\"Date\": \"2019-06-01T00:00:00\", \"Company\": \"COMPETITOR A\", \"nps\": 46.0}, {\"Date\": \"2019-07-01T00:00:00\", \"Company\": \"COMPETITOR A\", \"nps\": 45.0}, {\"Date\": \"2019-08-01T00:00:00\", \"Company\": \"COMPETITOR A\", \"nps\": 45.0}, {\"Date\": \"2019-09-01T00:00:00\", \"Company\": \"COMPETITOR A\", \"nps\": 44.0}, {\"Date\": \"2019-10-01T00:00:00\", \"Company\": \"COMPETITOR A\", \"nps\": 43.0}, {\"Date\": \"2019-11-01T00:00:00\", \"Company\": \"COMPETITOR A\", \"nps\": 42.0}, {\"Date\": \"2019-12-01T00:00:00\", \"Company\": \"COMPETITOR A\", \"nps\": 42.0}, {\"Date\": \"2020-01-01T00:00:00\", \"Company\": \"COMPETITOR A\", \"nps\": 44.0}, {\"Date\": \"2020-02-01T00:00:00\", \"Company\": \"COMPETITOR A\", \"nps\": 47.0}, {\"Date\": \"2019-01-01T00:00:00\", \"Company\": \"COMPETITOR B\", \"nps\": 38.0}, {\"Date\": \"2019-02-01T00:00:00\", \"Company\": \"COMPETITOR B\", \"nps\": 39.0}, {\"Date\": \"2019-03-01T00:00:00\", \"Company\": \"COMPETITOR B\", \"nps\": 39.0}, {\"Date\": \"2019-04-01T00:00:00\", \"Company\": \"COMPETITOR B\", \"nps\": 38.0}, {\"Date\": \"2019-05-01T00:00:00\", \"Company\": \"COMPETITOR B\", \"nps\": 40.0}, {\"Date\": \"2019-06-01T00:00:00\", \"Company\": \"COMPETITOR B\", \"nps\": 40.0}, {\"Date\": \"2019-07-01T00:00:00\", \"Company\": \"COMPETITOR B\", \"nps\": 40.0}, {\"Date\": \"2019-08-01T00:00:00\", \"Company\": \"COMPETITOR B\", \"nps\": 39.0}, {\"Date\": \"2019-09-01T00:00:00\", \"Company\": \"COMPETITOR B\", \"nps\": 38.0}, {\"Date\": \"2019-10-01T00:00:00\", \"Company\": \"COMPETITOR B\", \"nps\": 39.0}, {\"Date\": \"2019-11-01T00:00:00\", \"Company\": \"COMPETITOR B\", \"nps\": 39.0}, {\"Date\": \"2019-12-01T00:00:00\", \"Company\": \"COMPETITOR B\", \"nps\": 40.0}, {\"Date\": \"2020-01-01T00:00:00\", \"Company\": \"COMPETITOR B\", \"nps\": 41.0}, {\"Date\": \"2020-02-01T00:00:00\", \"Company\": \"COMPETITOR B\", \"nps\": 44.0}, {\"Date\": \"2019-01-01T00:00:00\", \"Company\": \"COMPETITOR C\", \"nps\": 36.0}, {\"Date\": \"2019-02-01T00:00:00\", \"Company\": \"COMPETITOR C\", \"nps\": 37.0}, {\"Date\": \"2019-03-01T00:00:00\", \"Company\": \"COMPETITOR C\", \"nps\": 38.0}, {\"Date\": \"2019-04-01T00:00:00\", \"Company\": \"COMPETITOR C\", \"nps\": 37.0}, {\"Date\": \"2019-05-01T00:00:00\", \"Company\": \"COMPETITOR C\", \"nps\": 38.0}, {\"Date\": \"2019-06-01T00:00:00\", \"Company\": \"COMPETITOR C\", \"nps\": 39.0}, {\"Date\": \"2019-07-01T00:00:00\", \"Company\": \"COMPETITOR C\", \"nps\": 38.0}, {\"Date\": \"2019-08-01T00:00:00\", \"Company\": \"COMPETITOR C\", \"nps\": 37.0}, {\"Date\": \"2019-09-01T00:00:00\", \"Company\": \"COMPETITOR C\", \"nps\": 40.0}, {\"Date\": \"2019-10-01T00:00:00\", \"Company\": \"COMPETITOR C\", \"nps\": 38.0}, {\"Date\": \"2019-11-01T00:00:00\", \"Company\": \"COMPETITOR C\", \"nps\": 36.0}, {\"Date\": \"2019-12-01T00:00:00\", \"Company\": \"COMPETITOR C\", \"nps\": 37.0}, {\"Date\": \"2020-01-01T00:00:00\", \"Company\": \"COMPETITOR C\", \"nps\": 38.0}, {\"Date\": \"2020-02-01T00:00:00\", \"Company\": \"COMPETITOR C\", \"nps\": 40.0}, {\"Date\": \"2019-01-01T00:00:00\", \"Company\": \"COMPETITOR D\", \"nps\": 25.0}, {\"Date\": \"2019-02-01T00:00:00\", \"Company\": \"COMPETITOR D\", \"nps\": 25.0}, {\"Date\": \"2019-03-01T00:00:00\", \"Company\": \"COMPETITOR D\", \"nps\": 26.0}, {\"Date\": \"2019-04-01T00:00:00\", \"Company\": \"COMPETITOR D\", \"nps\": 24.0}, {\"Date\": \"2019-05-01T00:00:00\", \"Company\": \"COMPETITOR D\", \"nps\": 25.0}, {\"Date\": \"2019-06-01T00:00:00\", \"Company\": \"COMPETITOR D\", \"nps\": 26.0}, {\"Date\": \"2019-07-01T00:00:00\", \"Company\": \"COMPETITOR D\", \"nps\": 27.0}, {\"Date\": \"2019-08-01T00:00:00\", \"Company\": \"COMPETITOR D\", \"nps\": 26.0}, {\"Date\": \"2019-09-01T00:00:00\", \"Company\": \"COMPETITOR D\", \"nps\": 26.0}, {\"Date\": \"2019-10-01T00:00:00\", \"Company\": \"COMPETITOR D\", \"nps\": 28.0}, {\"Date\": \"2019-11-01T00:00:00\", \"Company\": \"COMPETITOR D\", \"nps\": 28.0}, {\"Date\": \"2019-12-01T00:00:00\", \"Company\": \"COMPETITOR D\", \"nps\": 29.0}, {\"Date\": \"2020-01-01T00:00:00\", \"Company\": \"COMPETITOR D\", \"nps\": 32.0}, {\"Date\": \"2020-02-01T00:00:00\", \"Company\": \"COMPETITOR D\", \"nps\": 32.0}], \"data-311ade587f3458019a68a4880523582f\": [{\"Date\": \"2020-02-01T00:00:00\", \"Company\": \"OUR COMPANY\", \"nps\": 37.0}, {\"Date\": \"2020-02-01T00:00:00\", \"Company\": \"COMPETITOR A\", \"nps\": 47.0}, {\"Date\": \"2020-02-01T00:00:00\", \"Company\": \"COMPETITOR B\", \"nps\": 44.0}, {\"Date\": \"2020-02-01T00:00:00\", \"Company\": \"COMPETITOR C\", \"nps\": 40.0}, {\"Date\": \"2020-02-01T00:00:00\", \"Company\": \"COMPETITOR D\", \"nps\": 32.0}]}}, {\"mode\": \"vega-lite\"});\n",
       "</script>"
      ],
      "text/plain": [
       "alt.LayerChart(...)"
      ]
     },
     "execution_count": 96,
     "metadata": {},
     "output_type": "execute_result"
    }
   ],
   "source": [
    "alt.layer(line_chart, points, label_nps, label_company).configure_view(\n",
    "    strokeWidth=0\n",
    ").configure_title( \n",
    "    fontSize=22,\n",
    "    font='Arial',\n",
    "    anchor='start',\n",
    "    fontWeight=\"normal\"\n",
    ").configure_axis(\n",
    "    labelFont='Arial',\n",
    "    titleFont='Arial',\n",
    "    labelFontSize=11,\n",
    "    titleFontSize=16,\n",
    "    titleFontWeight=\"normal\",\n",
    "    titleColor=\"grey\"\n",
    ")\n"
   ]
  }
 ],
 "metadata": {
  "kernelspec": {
   "display_name": "dst-pip",
   "language": "python",
   "name": "python3"
  },
  "language_info": {
   "codemirror_mode": {
    "name": "ipython",
    "version": 3
   },
   "file_extension": ".py",
   "mimetype": "text/x-python",
   "name": "python",
   "nbconvert_exporter": "python",
   "pygments_lexer": "ipython3",
   "version": "3.11.3"
  },
  "orig_nbformat": 4
 },
 "nbformat": 4,
 "nbformat_minor": 2
}
