{
 "cells": [
  {
   "attachments": {},
   "cell_type": "markdown",
   "metadata": {},
   "source": [
    "# Data preparation"
   ]
  },
  {
   "attachments": {},
   "cell_type": "markdown",
   "metadata": {},
   "source": [
    "## Setup"
   ]
  },
  {
   "cell_type": "code",
   "execution_count": 19,
   "metadata": {},
   "outputs": [],
   "source": [
    "import pandas as pd"
   ]
  },
  {
   "attachments": {},
   "cell_type": "markdown",
   "metadata": {},
   "source": [
    "## Data import"
   ]
  },
  {
   "cell_type": "code",
   "execution_count": 20,
   "metadata": {},
   "outputs": [],
   "source": [
    "URL = 'https://raw.githubusercontent.com/kirenz/datasets/master/3_4_data.csv'\n",
    "df = pd.read_csv(URL)"
   ]
  },
  {
   "cell_type": "markdown",
   "metadata": {},
   "source": [
    "## Inspect data"
   ]
  },
  {
   "cell_type": "code",
   "execution_count": 21,
   "metadata": {},
   "outputs": [
    {
     "data": {
      "text/html": [
       "<div>\n",
       "<style scoped>\n",
       "    .dataframe tbody tr th:only-of-type {\n",
       "        vertical-align: middle;\n",
       "    }\n",
       "\n",
       "    .dataframe tbody tr th {\n",
       "        vertical-align: top;\n",
       "    }\n",
       "\n",
       "    .dataframe thead th {\n",
       "        text-align: right;\n",
       "    }\n",
       "</style>\n",
       "<table border=\"1\" class=\"dataframe\">\n",
       "  <thead>\n",
       "    <tr style=\"text-align: right;\">\n",
       "      <th></th>\n",
       "      <th>Month</th>\n",
       "      <th>Date</th>\n",
       "      <th>Direct Sales</th>\n",
       "      <th>Indirect Sales</th>\n",
       "      <th>Goal</th>\n",
       "    </tr>\n",
       "  </thead>\n",
       "  <tbody>\n",
       "    <tr>\n",
       "      <th>0</th>\n",
       "      <td>Jan</td>\n",
       "      <td>2019-01-01</td>\n",
       "      <td>88.2</td>\n",
       "      <td>82.2</td>\n",
       "      <td>90</td>\n",
       "    </tr>\n",
       "    <tr>\n",
       "      <th>1</th>\n",
       "      <td>Feb</td>\n",
       "      <td>2019-02-01</td>\n",
       "      <td>76.3</td>\n",
       "      <td>71.4</td>\n",
       "      <td>90</td>\n",
       "    </tr>\n",
       "    <tr>\n",
       "      <th>2</th>\n",
       "      <td>Mar</td>\n",
       "      <td>2019-03-01</td>\n",
       "      <td>47.8</td>\n",
       "      <td>88.7</td>\n",
       "      <td>90</td>\n",
       "    </tr>\n",
       "    <tr>\n",
       "      <th>3</th>\n",
       "      <td>Apr</td>\n",
       "      <td>2019-04-01</td>\n",
       "      <td>76.1</td>\n",
       "      <td>81.0</td>\n",
       "      <td>90</td>\n",
       "    </tr>\n",
       "    <tr>\n",
       "      <th>4</th>\n",
       "      <td>May</td>\n",
       "      <td>2019-05-01</td>\n",
       "      <td>71.4</td>\n",
       "      <td>88.4</td>\n",
       "      <td>90</td>\n",
       "    </tr>\n",
       "    <tr>\n",
       "      <th>5</th>\n",
       "      <td>Jun</td>\n",
       "      <td>2019-06-01</td>\n",
       "      <td>58.6</td>\n",
       "      <td>120.2</td>\n",
       "      <td>90</td>\n",
       "    </tr>\n",
       "    <tr>\n",
       "      <th>6</th>\n",
       "      <td>Jul</td>\n",
       "      <td>2019-07-01</td>\n",
       "      <td>79.9</td>\n",
       "      <td>83.5</td>\n",
       "      <td>90</td>\n",
       "    </tr>\n",
       "    <tr>\n",
       "      <th>7</th>\n",
       "      <td>Aug</td>\n",
       "      <td>2019-08-01</td>\n",
       "      <td>69.4</td>\n",
       "      <td>73.8</td>\n",
       "      <td>90</td>\n",
       "    </tr>\n",
       "    <tr>\n",
       "      <th>8</th>\n",
       "      <td>Sep</td>\n",
       "      <td>2019-09-01</td>\n",
       "      <td>53.9</td>\n",
       "      <td>98.0</td>\n",
       "      <td>90</td>\n",
       "    </tr>\n",
       "    <tr>\n",
       "      <th>9</th>\n",
       "      <td>Oct</td>\n",
       "      <td>2019-10-01</td>\n",
       "      <td>80.8</td>\n",
       "      <td>85.1</td>\n",
       "      <td>90</td>\n",
       "    </tr>\n",
       "    <tr>\n",
       "      <th>10</th>\n",
       "      <td>Nov</td>\n",
       "      <td>2019-11-01</td>\n",
       "      <td>74.3</td>\n",
       "      <td>94.4</td>\n",
       "      <td>90</td>\n",
       "    </tr>\n",
       "    <tr>\n",
       "      <th>11</th>\n",
       "      <td>Dec</td>\n",
       "      <td>2019-11-02</td>\n",
       "      <td>46.4</td>\n",
       "      <td>64.8</td>\n",
       "      <td>90</td>\n",
       "    </tr>\n",
       "  </tbody>\n",
       "</table>\n",
       "</div>"
      ],
      "text/plain": [
       "   Month       Date  Direct Sales  Indirect Sales  Goal\n",
       "0    Jan 2019-01-01          88.2            82.2    90\n",
       "1    Feb 2019-02-01          76.3            71.4    90\n",
       "2    Mar 2019-03-01          47.8            88.7    90\n",
       "3    Apr 2019-04-01          76.1            81.0    90\n",
       "4    May 2019-05-01          71.4            88.4    90\n",
       "5    Jun 2019-06-01          58.6           120.2    90\n",
       "6    Jul 2019-07-01          79.9            83.5    90\n",
       "7    Aug 2019-08-01          69.4            73.8    90\n",
       "8    Sep 2019-09-01          53.9            98.0    90\n",
       "9    Oct 2019-10-01          80.8            85.1    90\n",
       "10   Nov 2019-11-01          74.3            94.4    90\n",
       "11   Dec 2019-11-02          46.4            64.8    90"
      ]
     },
     "execution_count": 21,
     "metadata": {},
     "output_type": "execute_result"
    }
   ],
   "source": [
    "df"
   ]
  },
  {
   "cell_type": "code",
   "execution_count": 22,
   "metadata": {},
   "outputs": [
    {
     "name": "stdout",
     "output_type": "stream",
     "text": [
      "<class 'pandas.core.frame.DataFrame'>\n",
      "RangeIndex: 12 entries, 0 to 11\n",
      "Data columns (total 5 columns):\n",
      " #   Column          Non-Null Count  Dtype         \n",
      "---  ------          --------------  -----         \n",
      " 0   Month           12 non-null     object        \n",
      " 1   Date            12 non-null     datetime64[ns]\n",
      " 2   Direct Sales    12 non-null     float64       \n",
      " 3   Indirect Sales  12 non-null     float64       \n",
      " 4   Goal            12 non-null     int64         \n",
      "dtypes: datetime64[ns](1), float64(2), int64(1), object(1)\n",
      "memory usage: 612.0+ bytes\n"
     ]
    }
   ],
   "source": [
    "df.info()"
   ]
  },
  {
   "attachments": {},
   "cell_type": "markdown",
   "metadata": {},
   "source": [
    "## Data preparation"
   ]
  },
  {
   "cell_type": "markdown",
   "metadata": {},
   "source": [
    "### Wide vs long format"
   ]
  },
  {
   "cell_type": "markdown",
   "metadata": {},
   "source": [
    "- To create a line chart with Altair, your data should be in a \"long\" format rather than a \"wide\" format. \n",
    "\n",
    "- In the \"long\" format, each row represents a single observation for a given category.\n",
    "\n",
    "- Our current data is in a \"wide\" format. \n",
    "\n",
    "- We can use the pandas [melt function](https://pandas.pydata.org/docs/reference/api/pandas.melt.html) to transform it into the desired \"long\" format:"
   ]
  },
  {
   "cell_type": "code",
   "execution_count": 23,
   "metadata": {},
   "outputs": [],
   "source": [
    "# Melt the data to long format\n",
    "df = df.melt(id_vars=[\"Month\", \"Date\", \"Goal\"], \n",
    "                    value_vars=[\"Direct Sales\", \"Indirect Sales\"], \n",
    "                    var_name=\"Sales Type\", \n",
    "                    value_name=\"Sales\")"
   ]
  },
  {
   "cell_type": "code",
   "execution_count": 24,
   "metadata": {},
   "outputs": [
    {
     "data": {
      "text/html": [
       "<div>\n",
       "<style scoped>\n",
       "    .dataframe tbody tr th:only-of-type {\n",
       "        vertical-align: middle;\n",
       "    }\n",
       "\n",
       "    .dataframe tbody tr th {\n",
       "        vertical-align: top;\n",
       "    }\n",
       "\n",
       "    .dataframe thead th {\n",
       "        text-align: right;\n",
       "    }\n",
       "</style>\n",
       "<table border=\"1\" class=\"dataframe\">\n",
       "  <thead>\n",
       "    <tr style=\"text-align: right;\">\n",
       "      <th></th>\n",
       "      <th>Month</th>\n",
       "      <th>Date</th>\n",
       "      <th>Goal</th>\n",
       "      <th>Sales Type</th>\n",
       "      <th>Sales</th>\n",
       "    </tr>\n",
       "  </thead>\n",
       "  <tbody>\n",
       "    <tr>\n",
       "      <th>0</th>\n",
       "      <td>Jan</td>\n",
       "      <td>2019-01-01</td>\n",
       "      <td>90</td>\n",
       "      <td>Direct Sales</td>\n",
       "      <td>88.2</td>\n",
       "    </tr>\n",
       "    <tr>\n",
       "      <th>1</th>\n",
       "      <td>Feb</td>\n",
       "      <td>2019-02-01</td>\n",
       "      <td>90</td>\n",
       "      <td>Direct Sales</td>\n",
       "      <td>76.3</td>\n",
       "    </tr>\n",
       "    <tr>\n",
       "      <th>2</th>\n",
       "      <td>Mar</td>\n",
       "      <td>2019-03-01</td>\n",
       "      <td>90</td>\n",
       "      <td>Direct Sales</td>\n",
       "      <td>47.8</td>\n",
       "    </tr>\n",
       "    <tr>\n",
       "      <th>3</th>\n",
       "      <td>Apr</td>\n",
       "      <td>2019-04-01</td>\n",
       "      <td>90</td>\n",
       "      <td>Direct Sales</td>\n",
       "      <td>76.1</td>\n",
       "    </tr>\n",
       "    <tr>\n",
       "      <th>4</th>\n",
       "      <td>May</td>\n",
       "      <td>2019-05-01</td>\n",
       "      <td>90</td>\n",
       "      <td>Direct Sales</td>\n",
       "      <td>71.4</td>\n",
       "    </tr>\n",
       "    <tr>\n",
       "      <th>5</th>\n",
       "      <td>Jun</td>\n",
       "      <td>2019-06-01</td>\n",
       "      <td>90</td>\n",
       "      <td>Direct Sales</td>\n",
       "      <td>58.6</td>\n",
       "    </tr>\n",
       "    <tr>\n",
       "      <th>6</th>\n",
       "      <td>Jul</td>\n",
       "      <td>2019-07-01</td>\n",
       "      <td>90</td>\n",
       "      <td>Direct Sales</td>\n",
       "      <td>79.9</td>\n",
       "    </tr>\n",
       "    <tr>\n",
       "      <th>7</th>\n",
       "      <td>Aug</td>\n",
       "      <td>2019-08-01</td>\n",
       "      <td>90</td>\n",
       "      <td>Direct Sales</td>\n",
       "      <td>69.4</td>\n",
       "    </tr>\n",
       "    <tr>\n",
       "      <th>8</th>\n",
       "      <td>Sep</td>\n",
       "      <td>2019-09-01</td>\n",
       "      <td>90</td>\n",
       "      <td>Direct Sales</td>\n",
       "      <td>53.9</td>\n",
       "    </tr>\n",
       "    <tr>\n",
       "      <th>9</th>\n",
       "      <td>Oct</td>\n",
       "      <td>2019-10-01</td>\n",
       "      <td>90</td>\n",
       "      <td>Direct Sales</td>\n",
       "      <td>80.8</td>\n",
       "    </tr>\n",
       "    <tr>\n",
       "      <th>10</th>\n",
       "      <td>Nov</td>\n",
       "      <td>2019-11-01</td>\n",
       "      <td>90</td>\n",
       "      <td>Direct Sales</td>\n",
       "      <td>74.3</td>\n",
       "    </tr>\n",
       "    <tr>\n",
       "      <th>11</th>\n",
       "      <td>Dec</td>\n",
       "      <td>2019-11-02</td>\n",
       "      <td>90</td>\n",
       "      <td>Direct Sales</td>\n",
       "      <td>46.4</td>\n",
       "    </tr>\n",
       "    <tr>\n",
       "      <th>12</th>\n",
       "      <td>Jan</td>\n",
       "      <td>2019-01-01</td>\n",
       "      <td>90</td>\n",
       "      <td>Indirect Sales</td>\n",
       "      <td>82.2</td>\n",
       "    </tr>\n",
       "    <tr>\n",
       "      <th>13</th>\n",
       "      <td>Feb</td>\n",
       "      <td>2019-02-01</td>\n",
       "      <td>90</td>\n",
       "      <td>Indirect Sales</td>\n",
       "      <td>71.4</td>\n",
       "    </tr>\n",
       "    <tr>\n",
       "      <th>14</th>\n",
       "      <td>Mar</td>\n",
       "      <td>2019-03-01</td>\n",
       "      <td>90</td>\n",
       "      <td>Indirect Sales</td>\n",
       "      <td>88.7</td>\n",
       "    </tr>\n",
       "    <tr>\n",
       "      <th>15</th>\n",
       "      <td>Apr</td>\n",
       "      <td>2019-04-01</td>\n",
       "      <td>90</td>\n",
       "      <td>Indirect Sales</td>\n",
       "      <td>81.0</td>\n",
       "    </tr>\n",
       "    <tr>\n",
       "      <th>16</th>\n",
       "      <td>May</td>\n",
       "      <td>2019-05-01</td>\n",
       "      <td>90</td>\n",
       "      <td>Indirect Sales</td>\n",
       "      <td>88.4</td>\n",
       "    </tr>\n",
       "    <tr>\n",
       "      <th>17</th>\n",
       "      <td>Jun</td>\n",
       "      <td>2019-06-01</td>\n",
       "      <td>90</td>\n",
       "      <td>Indirect Sales</td>\n",
       "      <td>120.2</td>\n",
       "    </tr>\n",
       "    <tr>\n",
       "      <th>18</th>\n",
       "      <td>Jul</td>\n",
       "      <td>2019-07-01</td>\n",
       "      <td>90</td>\n",
       "      <td>Indirect Sales</td>\n",
       "      <td>83.5</td>\n",
       "    </tr>\n",
       "    <tr>\n",
       "      <th>19</th>\n",
       "      <td>Aug</td>\n",
       "      <td>2019-08-01</td>\n",
       "      <td>90</td>\n",
       "      <td>Indirect Sales</td>\n",
       "      <td>73.8</td>\n",
       "    </tr>\n",
       "    <tr>\n",
       "      <th>20</th>\n",
       "      <td>Sep</td>\n",
       "      <td>2019-09-01</td>\n",
       "      <td>90</td>\n",
       "      <td>Indirect Sales</td>\n",
       "      <td>98.0</td>\n",
       "    </tr>\n",
       "    <tr>\n",
       "      <th>21</th>\n",
       "      <td>Oct</td>\n",
       "      <td>2019-10-01</td>\n",
       "      <td>90</td>\n",
       "      <td>Indirect Sales</td>\n",
       "      <td>85.1</td>\n",
       "    </tr>\n",
       "    <tr>\n",
       "      <th>22</th>\n",
       "      <td>Nov</td>\n",
       "      <td>2019-11-01</td>\n",
       "      <td>90</td>\n",
       "      <td>Indirect Sales</td>\n",
       "      <td>94.4</td>\n",
       "    </tr>\n",
       "    <tr>\n",
       "      <th>23</th>\n",
       "      <td>Dec</td>\n",
       "      <td>2019-11-02</td>\n",
       "      <td>90</td>\n",
       "      <td>Indirect Sales</td>\n",
       "      <td>64.8</td>\n",
       "    </tr>\n",
       "  </tbody>\n",
       "</table>\n",
       "</div>"
      ],
      "text/plain": [
       "   Month       Date  Goal      Sales Type  Sales\n",
       "0    Jan 2019-01-01    90    Direct Sales   88.2\n",
       "1    Feb 2019-02-01    90    Direct Sales   76.3\n",
       "2    Mar 2019-03-01    90    Direct Sales   47.8\n",
       "3    Apr 2019-04-01    90    Direct Sales   76.1\n",
       "4    May 2019-05-01    90    Direct Sales   71.4\n",
       "5    Jun 2019-06-01    90    Direct Sales   58.6\n",
       "6    Jul 2019-07-01    90    Direct Sales   79.9\n",
       "7    Aug 2019-08-01    90    Direct Sales   69.4\n",
       "8    Sep 2019-09-01    90    Direct Sales   53.9\n",
       "9    Oct 2019-10-01    90    Direct Sales   80.8\n",
       "10   Nov 2019-11-01    90    Direct Sales   74.3\n",
       "11   Dec 2019-11-02    90    Direct Sales   46.4\n",
       "12   Jan 2019-01-01    90  Indirect Sales   82.2\n",
       "13   Feb 2019-02-01    90  Indirect Sales   71.4\n",
       "14   Mar 2019-03-01    90  Indirect Sales   88.7\n",
       "15   Apr 2019-04-01    90  Indirect Sales   81.0\n",
       "16   May 2019-05-01    90  Indirect Sales   88.4\n",
       "17   Jun 2019-06-01    90  Indirect Sales  120.2\n",
       "18   Jul 2019-07-01    90  Indirect Sales   83.5\n",
       "19   Aug 2019-08-01    90  Indirect Sales   73.8\n",
       "20   Sep 2019-09-01    90  Indirect Sales   98.0\n",
       "21   Oct 2019-10-01    90  Indirect Sales   85.1\n",
       "22   Nov 2019-11-01    90  Indirect Sales   94.4\n",
       "23   Dec 2019-11-02    90  Indirect Sales   64.8"
      ]
     },
     "execution_count": 24,
     "metadata": {},
     "output_type": "execute_result"
    }
   ],
   "source": [
    "df\n"
   ]
  },
  {
   "cell_type": "markdown",
   "metadata": {},
   "source": [
    "### Create new variable"
   ]
  },
  {
   "cell_type": "code",
   "execution_count": 25,
   "metadata": {},
   "outputs": [],
   "source": [
    "# Create a variable called Text with a string \"Goal\" to use in our plot\n",
    "df['Text'] = 'GOAL'"
   ]
  },
  {
   "cell_type": "code",
   "execution_count": 26,
   "metadata": {},
   "outputs": [
    {
     "name": "stdout",
     "output_type": "stream",
     "text": [
      "<class 'pandas.core.frame.DataFrame'>\n",
      "RangeIndex: 24 entries, 0 to 23\n",
      "Data columns (total 6 columns):\n",
      " #   Column      Non-Null Count  Dtype         \n",
      "---  ------      --------------  -----         \n",
      " 0   Month       24 non-null     object        \n",
      " 1   Date        24 non-null     datetime64[ns]\n",
      " 2   Goal        24 non-null     int64         \n",
      " 3   Sales Type  24 non-null     object        \n",
      " 4   Sales       24 non-null     float64       \n",
      " 5   Text        24 non-null     object        \n",
      "dtypes: datetime64[ns](1), float64(1), int64(1), object(3)\n",
      "memory usage: 1.3+ KB\n"
     ]
    }
   ],
   "source": [
    "df.info()"
   ]
  },
  {
   "cell_type": "markdown",
   "metadata": {},
   "source": [
    "### Change data format"
   ]
  },
  {
   "cell_type": "code",
   "execution_count": 27,
   "metadata": {},
   "outputs": [],
   "source": [
    "LIST_CAT = ['Month', 'Sales Type']\n",
    "\n",
    "for i in LIST_CAT:\n",
    "    df[i]=df[i].astype('category')"
   ]
  },
  {
   "cell_type": "code",
   "execution_count": 28,
   "metadata": {},
   "outputs": [],
   "source": [
    "df['Date'] = pd.to_datetime(df['Date'], format='%Y-%m-%d')"
   ]
  },
  {
   "cell_type": "code",
   "execution_count": 29,
   "metadata": {},
   "outputs": [
    {
     "name": "stdout",
     "output_type": "stream",
     "text": [
      "<class 'pandas.core.frame.DataFrame'>\n",
      "RangeIndex: 24 entries, 0 to 23\n",
      "Data columns (total 6 columns):\n",
      " #   Column      Non-Null Count  Dtype         \n",
      "---  ------      --------------  -----         \n",
      " 0   Month       24 non-null     category      \n",
      " 1   Date        24 non-null     datetime64[ns]\n",
      " 2   Goal        24 non-null     int64         \n",
      " 3   Sales Type  24 non-null     category      \n",
      " 4   Sales       24 non-null     float64       \n",
      " 5   Text        24 non-null     object        \n",
      "dtypes: category(2), datetime64[ns](1), float64(1), int64(1), object(1)\n",
      "memory usage: 1.4+ KB\n"
     ]
    }
   ],
   "source": [
    "df.info()"
   ]
  },
  {
   "cell_type": "markdown",
   "metadata": {},
   "source": [
    "### Save data"
   ]
  },
  {
   "cell_type": "code",
   "execution_count": 31,
   "metadata": {},
   "outputs": [],
   "source": [
    "df.to_csv(\"3_4_data.csv\", index=False)"
   ]
  }
 ],
 "metadata": {
  "kernelspec": {
   "display_name": "dst-pip",
   "language": "python",
   "name": "python3"
  },
  "language_info": {
   "codemirror_mode": {
    "name": "ipython",
    "version": 3
   },
   "file_extension": ".py",
   "mimetype": "text/x-python",
   "name": "python",
   "nbconvert_exporter": "python",
   "pygments_lexer": "ipython3",
   "version": "3.11.4"
  },
  "orig_nbformat": 4
 },
 "nbformat": 4,
 "nbformat_minor": 2
}
