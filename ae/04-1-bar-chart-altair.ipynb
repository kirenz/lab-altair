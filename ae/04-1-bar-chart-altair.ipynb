{
 "cells": [
  {
   "cell_type": "markdown",
   "metadata": {
    "slideshow": {
     "slide_type": "slide"
    }
   },
   "source": [
    "# Bar chart"
   ]
  },
  {
   "cell_type": "markdown",
   "metadata": {
    "slideshow": {
     "slide_type": "fragment"
    }
   },
   "source": [
    "## Setup"
   ]
  },
  {
   "cell_type": "code",
   "execution_count": 2,
   "metadata": {
    "slideshow": {
     "slide_type": "subslide"
    }
   },
   "outputs": [],
   "source": [
    "import pandas as pd\n",
    "import altair as alt"
   ]
  },
  {
   "cell_type": "markdown",
   "metadata": {
    "slideshow": {
     "slide_type": "fragment"
    }
   },
   "source": [
    "- We disable Altair's data restrictions to be able to plot Dataframes with more than 5000 rows: `alt.data_transformers.disable_max_rows()`"
   ]
  },
  {
   "cell_type": "code",
   "execution_count": 3,
   "metadata": {},
   "outputs": [
    {
     "data": {
      "text/plain": [
       "DataTransformerRegistry.enable('default')"
      ]
     },
     "execution_count": 3,
     "metadata": {},
     "output_type": "execute_result"
    }
   ],
   "source": [
    "alt.data_transformers.disable_max_rows()"
   ]
  },
  {
   "cell_type": "markdown",
   "metadata": {
    "slideshow": {
     "slide_type": "fragment"
    }
   },
   "source": [
    "We also want to ignore a specific warning:"
   ]
  },
  {
   "cell_type": "code",
   "execution_count": 4,
   "metadata": {
    "slideshow": {
     "slide_type": "fragment"
    }
   },
   "outputs": [],
   "source": [
    "import warnings\n",
    "warnings.simplefilter(action='ignore', category=FutureWarning)"
   ]
  },
  {
   "cell_type": "markdown",
   "metadata": {
    "slideshow": {
     "slide_type": "slide"
    }
   },
   "source": [
    "## Data"
   ]
  },
  {
   "cell_type": "markdown",
   "metadata": {
    "slideshow": {
     "slide_type": "fragment"
    }
   },
   "source": [
    "### Import data"
   ]
  },
  {
   "cell_type": "code",
   "execution_count": 5,
   "metadata": {
    "slideshow": {
     "slide_type": "subslide"
    }
   },
   "outputs": [],
   "source": [
    "ROOT = \"https://raw.githubusercontent.com/kirenz/datasets/master/\"\n",
    "DATA = \"loans.csv\"\n",
    "\n",
    "df = pd.read_csv(ROOT + DATA)"
   ]
  },
  {
   "cell_type": "markdown",
   "metadata": {
    "slideshow": {
     "slide_type": "slide"
    }
   },
   "source": [
    "### Data structure"
   ]
  },
  {
   "cell_type": "markdown",
   "metadata": {
    "slideshow": {
     "slide_type": "fragment"
    }
   },
   "source": [
    "Display the dataframe with `df`"
   ]
  },
  {
   "cell_type": "code",
   "execution_count": 6,
   "metadata": {
    "slideshow": {
     "slide_type": "subslide"
    }
   },
   "outputs": [
    {
     "data": {
      "text/html": [
       "<div>\n",
       "<style scoped>\n",
       "    .dataframe tbody tr th:only-of-type {\n",
       "        vertical-align: middle;\n",
       "    }\n",
       "\n",
       "    .dataframe tbody tr th {\n",
       "        vertical-align: top;\n",
       "    }\n",
       "\n",
       "    .dataframe thead th {\n",
       "        text-align: right;\n",
       "    }\n",
       "</style>\n",
       "<table border=\"1\" class=\"dataframe\">\n",
       "  <thead>\n",
       "    <tr style=\"text-align: right;\">\n",
       "      <th></th>\n",
       "      <th>Unnamed: 0</th>\n",
       "      <th>emp_title</th>\n",
       "      <th>emp_length</th>\n",
       "      <th>state</th>\n",
       "      <th>homeownership</th>\n",
       "      <th>annual_income</th>\n",
       "      <th>verified_income</th>\n",
       "      <th>debt_to_income</th>\n",
       "      <th>annual_income_joint</th>\n",
       "      <th>verification_income_joint</th>\n",
       "      <th>...</th>\n",
       "      <th>sub_grade</th>\n",
       "      <th>issue_month</th>\n",
       "      <th>loan_status</th>\n",
       "      <th>initial_listing_status</th>\n",
       "      <th>disbursement_method</th>\n",
       "      <th>balance</th>\n",
       "      <th>paid_total</th>\n",
       "      <th>paid_principal</th>\n",
       "      <th>paid_interest</th>\n",
       "      <th>paid_late_fees</th>\n",
       "    </tr>\n",
       "  </thead>\n",
       "  <tbody>\n",
       "    <tr>\n",
       "      <th>0</th>\n",
       "      <td>9594</td>\n",
       "      <td>rn</td>\n",
       "      <td>4.0</td>\n",
       "      <td>TX</td>\n",
       "      <td>mortgage</td>\n",
       "      <td>92000.00</td>\n",
       "      <td>Source Verified</td>\n",
       "      <td>19.28</td>\n",
       "      <td>NaN</td>\n",
       "      <td>NaN</td>\n",
       "      <td>...</td>\n",
       "      <td>B2</td>\n",
       "      <td>Feb-2018</td>\n",
       "      <td>Fully Paid</td>\n",
       "      <td>whole</td>\n",
       "      <td>Cash</td>\n",
       "      <td>0.00</td>\n",
       "      <td>40013.788333</td>\n",
       "      <td>40000.00</td>\n",
       "      <td>13.79</td>\n",
       "      <td>0.0</td>\n",
       "    </tr>\n",
       "    <tr>\n",
       "      <th>1</th>\n",
       "      <td>3534</td>\n",
       "      <td>retail store manager</td>\n",
       "      <td>10.0</td>\n",
       "      <td>NV</td>\n",
       "      <td>own</td>\n",
       "      <td>62000.00</td>\n",
       "      <td>Not Verified</td>\n",
       "      <td>29.71</td>\n",
       "      <td>NaN</td>\n",
       "      <td>NaN</td>\n",
       "      <td>...</td>\n",
       "      <td>A2</td>\n",
       "      <td>Jan-2018</td>\n",
       "      <td>Current</td>\n",
       "      <td>whole</td>\n",
       "      <td>DirectPay</td>\n",
       "      <td>3486.96</td>\n",
       "      <td>606.500000</td>\n",
       "      <td>513.04</td>\n",
       "      <td>93.46</td>\n",
       "      <td>0.0</td>\n",
       "    </tr>\n",
       "    <tr>\n",
       "      <th>2</th>\n",
       "      <td>7574</td>\n",
       "      <td>supervisor</td>\n",
       "      <td>3.0</td>\n",
       "      <td>CA</td>\n",
       "      <td>rent</td>\n",
       "      <td>43000.00</td>\n",
       "      <td>Source Verified</td>\n",
       "      <td>15.57</td>\n",
       "      <td>101000.0</td>\n",
       "      <td>Not Verified</td>\n",
       "      <td>...</td>\n",
       "      <td>B3</td>\n",
       "      <td>Feb-2018</td>\n",
       "      <td>Current</td>\n",
       "      <td>whole</td>\n",
       "      <td>Cash</td>\n",
       "      <td>17258.09</td>\n",
       "      <td>1551.340000</td>\n",
       "      <td>941.91</td>\n",
       "      <td>609.43</td>\n",
       "      <td>0.0</td>\n",
       "    </tr>\n",
       "    <tr>\n",
       "      <th>3</th>\n",
       "      <td>129</td>\n",
       "      <td>automotive service lane manager</td>\n",
       "      <td>10.0</td>\n",
       "      <td>WV</td>\n",
       "      <td>own</td>\n",
       "      <td>172000.00</td>\n",
       "      <td>Verified</td>\n",
       "      <td>24.31</td>\n",
       "      <td>NaN</td>\n",
       "      <td>NaN</td>\n",
       "      <td>...</td>\n",
       "      <td>C4</td>\n",
       "      <td>Feb-2018</td>\n",
       "      <td>Current</td>\n",
       "      <td>whole</td>\n",
       "      <td>Cash</td>\n",
       "      <td>34345.64</td>\n",
       "      <td>3399.460000</td>\n",
       "      <td>1654.36</td>\n",
       "      <td>1745.10</td>\n",
       "      <td>0.0</td>\n",
       "    </tr>\n",
       "    <tr>\n",
       "      <th>4</th>\n",
       "      <td>6937</td>\n",
       "      <td>operations manager</td>\n",
       "      <td>10.0</td>\n",
       "      <td>SC</td>\n",
       "      <td>mortgage</td>\n",
       "      <td>96355.33</td>\n",
       "      <td>Verified</td>\n",
       "      <td>9.44</td>\n",
       "      <td>NaN</td>\n",
       "      <td>NaN</td>\n",
       "      <td>...</td>\n",
       "      <td>D3</td>\n",
       "      <td>Mar-2018</td>\n",
       "      <td>Current</td>\n",
       "      <td>whole</td>\n",
       "      <td>Cash</td>\n",
       "      <td>33934.09</td>\n",
       "      <td>2672.570000</td>\n",
       "      <td>1065.91</td>\n",
       "      <td>1606.66</td>\n",
       "      <td>0.0</td>\n",
       "    </tr>\n",
       "    <tr>\n",
       "      <th>...</th>\n",
       "      <td>...</td>\n",
       "      <td>...</td>\n",
       "      <td>...</td>\n",
       "      <td>...</td>\n",
       "      <td>...</td>\n",
       "      <td>...</td>\n",
       "      <td>...</td>\n",
       "      <td>...</td>\n",
       "      <td>...</td>\n",
       "      <td>...</td>\n",
       "      <td>...</td>\n",
       "      <td>...</td>\n",
       "      <td>...</td>\n",
       "      <td>...</td>\n",
       "      <td>...</td>\n",
       "      <td>...</td>\n",
       "      <td>...</td>\n",
       "      <td>...</td>\n",
       "      <td>...</td>\n",
       "      <td>...</td>\n",
       "      <td>...</td>\n",
       "    </tr>\n",
       "    <tr>\n",
       "      <th>195</th>\n",
       "      <td>9750</td>\n",
       "      <td>sales manager</td>\n",
       "      <td>10.0</td>\n",
       "      <td>MA</td>\n",
       "      <td>mortgage</td>\n",
       "      <td>90000.00</td>\n",
       "      <td>Not Verified</td>\n",
       "      <td>27.36</td>\n",
       "      <td>NaN</td>\n",
       "      <td>NaN</td>\n",
       "      <td>...</td>\n",
       "      <td>D2</td>\n",
       "      <td>Jan-2018</td>\n",
       "      <td>Current</td>\n",
       "      <td>whole</td>\n",
       "      <td>Cash</td>\n",
       "      <td>14197.97</td>\n",
       "      <td>1891.950000</td>\n",
       "      <td>802.03</td>\n",
       "      <td>1089.92</td>\n",
       "      <td>0.0</td>\n",
       "    </tr>\n",
       "    <tr>\n",
       "      <th>196</th>\n",
       "      <td>5820</td>\n",
       "      <td>design engineer</td>\n",
       "      <td>8.0</td>\n",
       "      <td>OH</td>\n",
       "      <td>mortgage</td>\n",
       "      <td>110000.00</td>\n",
       "      <td>Not Verified</td>\n",
       "      <td>22.52</td>\n",
       "      <td>NaN</td>\n",
       "      <td>NaN</td>\n",
       "      <td>...</td>\n",
       "      <td>A1</td>\n",
       "      <td>Jan-2018</td>\n",
       "      <td>Current</td>\n",
       "      <td>whole</td>\n",
       "      <td>Cash</td>\n",
       "      <td>19149.86</td>\n",
       "      <td>3299.650000</td>\n",
       "      <td>2850.14</td>\n",
       "      <td>449.51</td>\n",
       "      <td>0.0</td>\n",
       "    </tr>\n",
       "    <tr>\n",
       "      <th>197</th>\n",
       "      <td>3909</td>\n",
       "      <td>qa</td>\n",
       "      <td>10.0</td>\n",
       "      <td>OR</td>\n",
       "      <td>mortgage</td>\n",
       "      <td>90000.00</td>\n",
       "      <td>Not Verified</td>\n",
       "      <td>23.87</td>\n",
       "      <td>NaN</td>\n",
       "      <td>NaN</td>\n",
       "      <td>...</td>\n",
       "      <td>A4</td>\n",
       "      <td>Mar-2018</td>\n",
       "      <td>Current</td>\n",
       "      <td>whole</td>\n",
       "      <td>Cash</td>\n",
       "      <td>33292.54</td>\n",
       "      <td>3322.210000</td>\n",
       "      <td>2707.46</td>\n",
       "      <td>614.75</td>\n",
       "      <td>0.0</td>\n",
       "    </tr>\n",
       "    <tr>\n",
       "      <th>198</th>\n",
       "      <td>8887</td>\n",
       "      <td>community director</td>\n",
       "      <td>8.0</td>\n",
       "      <td>FL</td>\n",
       "      <td>rent</td>\n",
       "      <td>70000.00</td>\n",
       "      <td>Source Verified</td>\n",
       "      <td>14.04</td>\n",
       "      <td>NaN</td>\n",
       "      <td>NaN</td>\n",
       "      <td>...</td>\n",
       "      <td>D4</td>\n",
       "      <td>Mar-2018</td>\n",
       "      <td>Current</td>\n",
       "      <td>whole</td>\n",
       "      <td>Cash</td>\n",
       "      <td>14067.64</td>\n",
       "      <td>1647.340000</td>\n",
       "      <td>932.36</td>\n",
       "      <td>714.98</td>\n",
       "      <td>0.0</td>\n",
       "    </tr>\n",
       "    <tr>\n",
       "      <th>199</th>\n",
       "      <td>973</td>\n",
       "      <td>designer</td>\n",
       "      <td>10.0</td>\n",
       "      <td>GA</td>\n",
       "      <td>mortgage</td>\n",
       "      <td>56000.00</td>\n",
       "      <td>Not Verified</td>\n",
       "      <td>14.59</td>\n",
       "      <td>NaN</td>\n",
       "      <td>NaN</td>\n",
       "      <td>...</td>\n",
       "      <td>A2</td>\n",
       "      <td>Jan-2018</td>\n",
       "      <td>Current</td>\n",
       "      <td>whole</td>\n",
       "      <td>Cash</td>\n",
       "      <td>2637.02</td>\n",
       "      <td>458.660000</td>\n",
       "      <td>387.98</td>\n",
       "      <td>70.68</td>\n",
       "      <td>0.0</td>\n",
       "    </tr>\n",
       "  </tbody>\n",
       "</table>\n",
       "<p>200 rows × 56 columns</p>\n",
       "</div>"
      ],
      "text/plain": [
       "     Unnamed: 0                        emp_title  emp_length state   \n",
       "0          9594                               rn         4.0    TX  \\\n",
       "1          3534             retail store manager        10.0    NV   \n",
       "2          7574                       supervisor         3.0    CA   \n",
       "3           129  automotive service lane manager        10.0    WV   \n",
       "4          6937               operations manager        10.0    SC   \n",
       "..          ...                              ...         ...   ...   \n",
       "195        9750                    sales manager        10.0    MA   \n",
       "196        5820                  design engineer         8.0    OH   \n",
       "197        3909                               qa        10.0    OR   \n",
       "198        8887               community director         8.0    FL   \n",
       "199         973                         designer        10.0    GA   \n",
       "\n",
       "    homeownership  annual_income  verified_income  debt_to_income   \n",
       "0        mortgage       92000.00  Source Verified           19.28  \\\n",
       "1             own       62000.00     Not Verified           29.71   \n",
       "2            rent       43000.00  Source Verified           15.57   \n",
       "3             own      172000.00         Verified           24.31   \n",
       "4        mortgage       96355.33         Verified            9.44   \n",
       "..            ...            ...              ...             ...   \n",
       "195      mortgage       90000.00     Not Verified           27.36   \n",
       "196      mortgage      110000.00     Not Verified           22.52   \n",
       "197      mortgage       90000.00     Not Verified           23.87   \n",
       "198          rent       70000.00  Source Verified           14.04   \n",
       "199      mortgage       56000.00     Not Verified           14.59   \n",
       "\n",
       "     annual_income_joint verification_income_joint  ...  sub_grade   \n",
       "0                    NaN                       NaN  ...         B2  \\\n",
       "1                    NaN                       NaN  ...         A2   \n",
       "2               101000.0              Not Verified  ...         B3   \n",
       "3                    NaN                       NaN  ...         C4   \n",
       "4                    NaN                       NaN  ...         D3   \n",
       "..                   ...                       ...  ...        ...   \n",
       "195                  NaN                       NaN  ...         D2   \n",
       "196                  NaN                       NaN  ...         A1   \n",
       "197                  NaN                       NaN  ...         A4   \n",
       "198                  NaN                       NaN  ...         D4   \n",
       "199                  NaN                       NaN  ...         A2   \n",
       "\n",
       "     issue_month  loan_status  initial_listing_status  disbursement_method   \n",
       "0       Feb-2018   Fully Paid                   whole                 Cash  \\\n",
       "1       Jan-2018      Current                   whole            DirectPay   \n",
       "2       Feb-2018      Current                   whole                 Cash   \n",
       "3       Feb-2018      Current                   whole                 Cash   \n",
       "4       Mar-2018      Current                   whole                 Cash   \n",
       "..           ...          ...                     ...                  ...   \n",
       "195     Jan-2018      Current                   whole                 Cash   \n",
       "196     Jan-2018      Current                   whole                 Cash   \n",
       "197     Mar-2018      Current                   whole                 Cash   \n",
       "198     Mar-2018      Current                   whole                 Cash   \n",
       "199     Jan-2018      Current                   whole                 Cash   \n",
       "\n",
       "      balance    paid_total  paid_principal  paid_interest  paid_late_fees  \n",
       "0        0.00  40013.788333        40000.00          13.79             0.0  \n",
       "1     3486.96    606.500000          513.04          93.46             0.0  \n",
       "2    17258.09   1551.340000          941.91         609.43             0.0  \n",
       "3    34345.64   3399.460000         1654.36        1745.10             0.0  \n",
       "4    33934.09   2672.570000         1065.91        1606.66             0.0  \n",
       "..        ...           ...             ...            ...             ...  \n",
       "195  14197.97   1891.950000          802.03        1089.92             0.0  \n",
       "196  19149.86   3299.650000         2850.14         449.51             0.0  \n",
       "197  33292.54   3322.210000         2707.46         614.75             0.0  \n",
       "198  14067.64   1647.340000          932.36         714.98             0.0  \n",
       "199   2637.02    458.660000          387.98          70.68             0.0  \n",
       "\n",
       "[200 rows x 56 columns]"
      ]
     },
     "execution_count": 6,
     "metadata": {},
     "output_type": "execute_result"
    }
   ],
   "source": [
    "df"
   ]
  },
  {
   "cell_type": "markdown",
   "metadata": {
    "slideshow": {
     "slide_type": "slide"
    }
   },
   "source": [
    "Show info"
   ]
  },
  {
   "cell_type": "code",
   "execution_count": 7,
   "metadata": {
    "slideshow": {
     "slide_type": "fragment"
    }
   },
   "outputs": [
    {
     "name": "stdout",
     "output_type": "stream",
     "text": [
      "<class 'pandas.core.frame.DataFrame'>\n",
      "RangeIndex: 200 entries, 0 to 199\n",
      "Data columns (total 56 columns):\n",
      " #   Column                            Non-Null Count  Dtype  \n",
      "---  ------                            --------------  -----  \n",
      " 0   Unnamed: 0                        200 non-null    int64  \n",
      " 1   emp_title                         182 non-null    object \n",
      " 2   emp_length                        182 non-null    float64\n",
      " 3   state                             200 non-null    object \n",
      " 4   homeownership                     200 non-null    object \n",
      " 5   annual_income                     200 non-null    float64\n",
      " 6   verified_income                   200 non-null    object \n",
      " 7   debt_to_income                    200 non-null    float64\n",
      " 8   annual_income_joint               31 non-null     float64\n",
      " 9   verification_income_joint         29 non-null     object \n",
      " 10  debt_to_income_joint              31 non-null     float64\n",
      " 11  delinq_2y                         200 non-null    int64  \n",
      " 12  months_since_last_delinq          82 non-null     float64\n",
      " 13  earliest_credit_line              200 non-null    int64  \n",
      " 14  inquiries_last_12m                200 non-null    int64  \n",
      " 15  total_credit_lines                200 non-null    int64  \n",
      " 16  open_credit_lines                 200 non-null    int64  \n",
      " 17  total_credit_limit                200 non-null    int64  \n",
      " 18  total_credit_utilized             200 non-null    int64  \n",
      " 19  num_collections_last_12m          200 non-null    int64  \n",
      " 20  num_historical_failed_to_pay      200 non-null    int64  \n",
      " 21  months_since_90d_late             47 non-null     float64\n",
      " 22  current_accounts_delinq           200 non-null    int64  \n",
      " 23  total_collection_amount_ever      200 non-null    int64  \n",
      " 24  current_installment_accounts      200 non-null    int64  \n",
      " 25  accounts_opened_24m               200 non-null    int64  \n",
      " 26  months_since_last_credit_inquiry  171 non-null    float64\n",
      " 27  num_satisfactory_accounts         200 non-null    int64  \n",
      " 28  num_accounts_120d_past_due        190 non-null    float64\n",
      " 29  num_accounts_30d_past_due         200 non-null    int64  \n",
      " 30  num_active_debit_accounts         200 non-null    int64  \n",
      " 31  total_debit_limit                 200 non-null    int64  \n",
      " 32  num_total_cc_accounts             200 non-null    int64  \n",
      " 33  num_open_cc_accounts              200 non-null    int64  \n",
      " 34  num_cc_carrying_balance           200 non-null    int64  \n",
      " 35  num_mort_accounts                 200 non-null    int64  \n",
      " 36  account_never_delinq_percent      200 non-null    float64\n",
      " 37  tax_liens                         200 non-null    int64  \n",
      " 38  public_record_bankrupt            200 non-null    int64  \n",
      " 39  loan_purpose                      200 non-null    object \n",
      " 40  application_type                  200 non-null    object \n",
      " 41  loan_amount                       200 non-null    int64  \n",
      " 42  term                              200 non-null    int64  \n",
      " 43  interest_rate                     200 non-null    float64\n",
      " 44  installment                       200 non-null    float64\n",
      " 45  grade                             200 non-null    object \n",
      " 46  sub_grade                         200 non-null    object \n",
      " 47  issue_month                       200 non-null    object \n",
      " 48  loan_status                       200 non-null    object \n",
      " 49  initial_listing_status            200 non-null    object \n",
      " 50  disbursement_method               200 non-null    object \n",
      " 51  balance                           200 non-null    float64\n",
      " 52  paid_total                        200 non-null    float64\n",
      " 53  paid_principal                    200 non-null    float64\n",
      " 54  paid_interest                     200 non-null    float64\n",
      " 55  paid_late_fees                    200 non-null    float64\n",
      "dtypes: float64(17), int64(26), object(13)\n",
      "memory usage: 87.6+ KB\n"
     ]
    }
   ],
   "source": [
    "df.info()"
   ]
  },
  {
   "cell_type": "markdown",
   "metadata": {
    "slideshow": {
     "slide_type": "slide"
    }
   },
   "source": [
    "### Data corrections"
   ]
  },
  {
   "cell_type": "markdown",
   "metadata": {
    "slideshow": {
     "slide_type": "fragment"
    }
   },
   "source": [
    "Change the data format from object to category for the variables `homeownership` and `application_type` with `.astype(\"category\")`"
   ]
  },
  {
   "cell_type": "code",
   "execution_count": 8,
   "metadata": {
    "slideshow": {
     "slide_type": "fragment"
    }
   },
   "outputs": [],
   "source": [
    "# Change data format from object to category\n",
    "df['homeownership'] = df['homeownership'].astype(\"category\")\n",
    "df['application_type'] = df['application_type'].astype(\"category\")"
   ]
  },
  {
   "cell_type": "markdown",
   "metadata": {
    "slideshow": {
     "slide_type": "slide"
    }
   },
   "source": [
    "### Variable lists"
   ]
  },
  {
   "cell_type": "markdown",
   "metadata": {
    "slideshow": {
     "slide_type": "fragment"
    }
   },
   "source": [
    "Next, we select the relevant variables we want to use (this will ease the plotting process).\n",
    "\n",
    "We only use the variable `homeownership`"
   ]
  },
  {
   "cell_type": "code",
   "execution_count": 9,
   "metadata": {
    "slideshow": {
     "slide_type": "subslide"
    }
   },
   "outputs": [],
   "source": [
    "# make a list of variables you want to use\n",
    "var_list = ['homeownership']\n",
    "\n",
    "# create a new dataframe called source with only var_list\n",
    "source = df[var_list]"
   ]
  },
  {
   "cell_type": "markdown",
   "metadata": {
    "slideshow": {
     "slide_type": "slide"
    }
   },
   "source": [
    "## Analysis"
   ]
  },
  {
   "cell_type": "markdown",
   "metadata": {
    "slideshow": {
     "slide_type": "fragment"
    }
   },
   "source": [
    "We start our analysis with Altair, a declarative statistical visualization library for Python, based on Vega and Vega-Lite.\n",
    "\n",
    "Altair charts work out-of-the-box on Jupyter Notebook, so long as there is a **web connection** to load the required javascript libraries."
   ]
  },
  {
   "cell_type": "markdown",
   "metadata": {
    "slideshow": {
     "slide_type": "fragment"
    }
   },
   "source": [
    "Here is an example of using the Altair API (foo is a placeholder):\n",
    "\n",
    "\n",
    "**a**lt.**C**hart().**m**ark_foo().**e**ncode() \n",
    "\n",
    "\n",
    "*You can remember the order of code blocks with the acronym \"**a.C.m.e**\"*"
   ]
  },
  {
   "cell_type": "markdown",
   "metadata": {
    "slideshow": {
     "slide_type": "fragment"
    }
   },
   "source": [
    "```python\n",
    "alt.Chart(DATAFRAME).mark_PLOT().encode(\n",
    "    x=alt.X('VARIABLE'),\n",
    "    y=alt.Y('VARIABLE')\n",
    ")\n",
    "\n",
    "```\n",
    "\n",
    "replace\n",
    "\n",
    "- DATAFRAME with your data (e.g., `source` or `df`)\n",
    "- PLOT with the plot type of your choice (e.g., `bar` or `circle`)\n",
    "- VARIABLE with the varible name you want to plot"
   ]
  },
  {
   "cell_type": "markdown",
   "metadata": {
    "slideshow": {
     "slide_type": "slide"
    }
   },
   "source": [
    "### Standard bar chart"
   ]
  },
  {
   "cell_type": "code",
   "execution_count": 10,
   "metadata": {
    "scrolled": true,
    "slideshow": {
     "slide_type": "subslide"
    }
   },
   "outputs": [
    {
     "data": {
      "text/html": [
       "\n",
       "<div id=\"altair-viz-a720e68e206345aaaafeefa85fa376a9\"></div>\n",
       "<script type=\"text/javascript\">\n",
       "  var VEGA_DEBUG = (typeof VEGA_DEBUG == \"undefined\") ? {} : VEGA_DEBUG;\n",
       "  (function(spec, embedOpt){\n",
       "    let outputDiv = document.currentScript.previousElementSibling;\n",
       "    if (outputDiv.id !== \"altair-viz-a720e68e206345aaaafeefa85fa376a9\") {\n",
       "      outputDiv = document.getElementById(\"altair-viz-a720e68e206345aaaafeefa85fa376a9\");\n",
       "    }\n",
       "    const paths = {\n",
       "      \"vega\": \"https://cdn.jsdelivr.net/npm/vega@5?noext\",\n",
       "      \"vega-lib\": \"https://cdn.jsdelivr.net/npm/vega-lib?noext\",\n",
       "      \"vega-lite\": \"https://cdn.jsdelivr.net/npm/vega-lite@5.6.1?noext\",\n",
       "      \"vega-embed\": \"https://cdn.jsdelivr.net/npm/vega-embed@6?noext\",\n",
       "    };\n",
       "\n",
       "    function maybeLoadScript(lib, version) {\n",
       "      var key = `${lib.replace(\"-\", \"\")}_version`;\n",
       "      return (VEGA_DEBUG[key] == version) ?\n",
       "        Promise.resolve(paths[lib]) :\n",
       "        new Promise(function(resolve, reject) {\n",
       "          var s = document.createElement('script');\n",
       "          document.getElementsByTagName(\"head\")[0].appendChild(s);\n",
       "          s.async = true;\n",
       "          s.onload = () => {\n",
       "            VEGA_DEBUG[key] = version;\n",
       "            return resolve(paths[lib]);\n",
       "          };\n",
       "          s.onerror = () => reject(`Error loading script: ${paths[lib]}`);\n",
       "          s.src = paths[lib];\n",
       "        });\n",
       "    }\n",
       "\n",
       "    function showError(err) {\n",
       "      outputDiv.innerHTML = `<div class=\"error\" style=\"color:red;\">${err}</div>`;\n",
       "      throw err;\n",
       "    }\n",
       "\n",
       "    function displayChart(vegaEmbed) {\n",
       "      vegaEmbed(outputDiv, spec, embedOpt)\n",
       "        .catch(err => showError(`Javascript Error: ${err.message}<br>This usually means there's a typo in your chart specification. See the javascript console for the full traceback.`));\n",
       "    }\n",
       "\n",
       "    if(typeof define === \"function\" && define.amd) {\n",
       "      requirejs.config({paths});\n",
       "      require([\"vega-embed\"], displayChart, err => showError(`Error loading script: ${err.message}`));\n",
       "    } else {\n",
       "      maybeLoadScript(\"vega\", \"5\")\n",
       "        .then(() => maybeLoadScript(\"vega-lite\", \"5.6.1\"))\n",
       "        .then(() => maybeLoadScript(\"vega-embed\", \"6\"))\n",
       "        .catch(showError)\n",
       "        .then(() => displayChart(vegaEmbed));\n",
       "    }\n",
       "  })({\"config\": {\"view\": {\"continuousWidth\": 300, \"continuousHeight\": 300}}, \"data\": {\"name\": \"data-01103058646d44783c073db6553580d7\"}, \"mark\": {\"type\": \"bar\"}, \"encoding\": {\"x\": {\"field\": \"homeownership\", \"type\": \"nominal\"}, \"y\": {\"aggregate\": \"count\", \"field\": \"homeownership\", \"type\": \"nominal\"}}, \"$schema\": \"https://vega.github.io/schema/vega-lite/v5.6.1.json\", \"datasets\": {\"data-01103058646d44783c073db6553580d7\": [{\"homeownership\": \"mortgage\"}, {\"homeownership\": \"own\"}, {\"homeownership\": \"rent\"}, {\"homeownership\": \"own\"}, {\"homeownership\": \"mortgage\"}, {\"homeownership\": \"rent\"}, {\"homeownership\": \"mortgage\"}, {\"homeownership\": \"own\"}, {\"homeownership\": \"own\"}, {\"homeownership\": \"own\"}, {\"homeownership\": \"rent\"}, {\"homeownership\": \"own\"}, {\"homeownership\": \"rent\"}, {\"homeownership\": \"mortgage\"}, {\"homeownership\": \"mortgage\"}, {\"homeownership\": \"mortgage\"}, {\"homeownership\": \"own\"}, {\"homeownership\": \"mortgage\"}, {\"homeownership\": \"rent\"}, {\"homeownership\": \"rent\"}, {\"homeownership\": \"mortgage\"}, {\"homeownership\": \"mortgage\"}, {\"homeownership\": \"rent\"}, {\"homeownership\": \"mortgage\"}, {\"homeownership\": \"own\"}, {\"homeownership\": \"rent\"}, {\"homeownership\": \"mortgage\"}, {\"homeownership\": \"mortgage\"}, {\"homeownership\": \"mortgage\"}, {\"homeownership\": \"mortgage\"}, {\"homeownership\": \"rent\"}, {\"homeownership\": \"rent\"}, {\"homeownership\": \"rent\"}, {\"homeownership\": \"mortgage\"}, {\"homeownership\": \"own\"}, {\"homeownership\": \"mortgage\"}, {\"homeownership\": \"rent\"}, {\"homeownership\": \"rent\"}, {\"homeownership\": \"mortgage\"}, {\"homeownership\": \"mortgage\"}, {\"homeownership\": \"own\"}, {\"homeownership\": \"rent\"}, {\"homeownership\": \"rent\"}, {\"homeownership\": \"own\"}, {\"homeownership\": \"rent\"}, {\"homeownership\": \"mortgage\"}, {\"homeownership\": \"rent\"}, {\"homeownership\": \"rent\"}, {\"homeownership\": \"mortgage\"}, {\"homeownership\": \"rent\"}, {\"homeownership\": \"rent\"}, {\"homeownership\": \"rent\"}, {\"homeownership\": \"mortgage\"}, {\"homeownership\": \"own\"}, {\"homeownership\": \"mortgage\"}, {\"homeownership\": \"rent\"}, {\"homeownership\": \"mortgage\"}, {\"homeownership\": \"rent\"}, {\"homeownership\": \"own\"}, {\"homeownership\": \"mortgage\"}, {\"homeownership\": \"mortgage\"}, {\"homeownership\": \"rent\"}, {\"homeownership\": \"mortgage\"}, {\"homeownership\": \"rent\"}, {\"homeownership\": \"rent\"}, {\"homeownership\": \"own\"}, {\"homeownership\": \"mortgage\"}, {\"homeownership\": \"own\"}, {\"homeownership\": \"mortgage\"}, {\"homeownership\": \"rent\"}, {\"homeownership\": \"rent\"}, {\"homeownership\": \"own\"}, {\"homeownership\": \"rent\"}, {\"homeownership\": \"rent\"}, {\"homeownership\": \"own\"}, {\"homeownership\": \"mortgage\"}, {\"homeownership\": \"mortgage\"}, {\"homeownership\": \"mortgage\"}, {\"homeownership\": \"mortgage\"}, {\"homeownership\": \"mortgage\"}, {\"homeownership\": \"mortgage\"}, {\"homeownership\": \"rent\"}, {\"homeownership\": \"rent\"}, {\"homeownership\": \"own\"}, {\"homeownership\": \"rent\"}, {\"homeownership\": \"mortgage\"}, {\"homeownership\": \"mortgage\"}, {\"homeownership\": \"mortgage\"}, {\"homeownership\": \"rent\"}, {\"homeownership\": \"own\"}, {\"homeownership\": \"mortgage\"}, {\"homeownership\": \"rent\"}, {\"homeownership\": \"mortgage\"}, {\"homeownership\": \"mortgage\"}, {\"homeownership\": \"mortgage\"}, {\"homeownership\": \"rent\"}, {\"homeownership\": \"own\"}, {\"homeownership\": \"mortgage\"}, {\"homeownership\": \"mortgage\"}, {\"homeownership\": \"rent\"}, {\"homeownership\": \"rent\"}, {\"homeownership\": \"mortgage\"}, {\"homeownership\": \"mortgage\"}, {\"homeownership\": \"rent\"}, {\"homeownership\": \"rent\"}, {\"homeownership\": \"mortgage\"}, {\"homeownership\": \"mortgage\"}, {\"homeownership\": \"rent\"}, {\"homeownership\": \"mortgage\"}, {\"homeownership\": \"rent\"}, {\"homeownership\": \"own\"}, {\"homeownership\": \"mortgage\"}, {\"homeownership\": \"own\"}, {\"homeownership\": \"rent\"}, {\"homeownership\": \"mortgage\"}, {\"homeownership\": \"mortgage\"}, {\"homeownership\": \"own\"}, {\"homeownership\": \"rent\"}, {\"homeownership\": \"own\"}, {\"homeownership\": \"mortgage\"}, {\"homeownership\": \"rent\"}, {\"homeownership\": \"rent\"}, {\"homeownership\": \"mortgage\"}, {\"homeownership\": \"mortgage\"}, {\"homeownership\": \"rent\"}, {\"homeownership\": \"own\"}, {\"homeownership\": \"mortgage\"}, {\"homeownership\": \"own\"}, {\"homeownership\": \"rent\"}, {\"homeownership\": \"mortgage\"}, {\"homeownership\": \"own\"}, {\"homeownership\": \"rent\"}, {\"homeownership\": \"own\"}, {\"homeownership\": \"rent\"}, {\"homeownership\": \"rent\"}, {\"homeownership\": \"mortgage\"}, {\"homeownership\": \"mortgage\"}, {\"homeownership\": \"own\"}, {\"homeownership\": \"mortgage\"}, {\"homeownership\": \"mortgage\"}, {\"homeownership\": \"rent\"}, {\"homeownership\": \"rent\"}, {\"homeownership\": \"mortgage\"}, {\"homeownership\": \"rent\"}, {\"homeownership\": \"rent\"}, {\"homeownership\": \"mortgage\"}, {\"homeownership\": \"rent\"}, {\"homeownership\": \"own\"}, {\"homeownership\": \"rent\"}, {\"homeownership\": \"mortgage\"}, {\"homeownership\": \"rent\"}, {\"homeownership\": \"mortgage\"}, {\"homeownership\": \"rent\"}, {\"homeownership\": \"rent\"}, {\"homeownership\": \"mortgage\"}, {\"homeownership\": \"mortgage\"}, {\"homeownership\": \"mortgage\"}, {\"homeownership\": \"rent\"}, {\"homeownership\": \"mortgage\"}, {\"homeownership\": \"rent\"}, {\"homeownership\": \"mortgage\"}, {\"homeownership\": \"rent\"}, {\"homeownership\": \"rent\"}, {\"homeownership\": \"mortgage\"}, {\"homeownership\": \"mortgage\"}, {\"homeownership\": \"mortgage\"}, {\"homeownership\": \"mortgage\"}, {\"homeownership\": \"mortgage\"}, {\"homeownership\": \"own\"}, {\"homeownership\": \"rent\"}, {\"homeownership\": \"rent\"}, {\"homeownership\": \"rent\"}, {\"homeownership\": \"rent\"}, {\"homeownership\": \"mortgage\"}, {\"homeownership\": \"rent\"}, {\"homeownership\": \"own\"}, {\"homeownership\": \"rent\"}, {\"homeownership\": \"mortgage\"}, {\"homeownership\": \"mortgage\"}, {\"homeownership\": \"rent\"}, {\"homeownership\": \"mortgage\"}, {\"homeownership\": \"mortgage\"}, {\"homeownership\": \"rent\"}, {\"homeownership\": \"mortgage\"}, {\"homeownership\": \"rent\"}, {\"homeownership\": \"mortgage\"}, {\"homeownership\": \"rent\"}, {\"homeownership\": \"own\"}, {\"homeownership\": \"mortgage\"}, {\"homeownership\": \"own\"}, {\"homeownership\": \"mortgage\"}, {\"homeownership\": \"rent\"}, {\"homeownership\": \"rent\"}, {\"homeownership\": \"mortgage\"}, {\"homeownership\": \"own\"}, {\"homeownership\": \"mortgage\"}, {\"homeownership\": \"mortgage\"}, {\"homeownership\": \"mortgage\"}, {\"homeownership\": \"rent\"}, {\"homeownership\": \"mortgage\"}]}}, {\"mode\": \"vega-lite\"});\n",
       "</script>"
      ],
      "text/plain": [
       "alt.Chart(...)"
      ]
     },
     "execution_count": 10,
     "metadata": {},
     "output_type": "execute_result"
    }
   ],
   "source": [
    "alt.Chart(source).mark_bar().encode(\n",
    "    x=alt.X('homeownership'),\n",
    "    y=alt.Y('homeownership', aggregate='count')\n",
    ")"
   ]
  },
  {
   "cell_type": "markdown",
   "metadata": {
    "slideshow": {
     "slide_type": "slide"
    }
   },
   "source": [
    "### Sorted bar chart"
   ]
  },
  {
   "cell_type": "code",
   "execution_count": 11,
   "metadata": {
    "slideshow": {
     "slide_type": "subslide"
    }
   },
   "outputs": [
    {
     "data": {
      "text/html": [
       "\n",
       "<div id=\"altair-viz-dcfa3ecfba1c47f293c58a9b90453db1\"></div>\n",
       "<script type=\"text/javascript\">\n",
       "  var VEGA_DEBUG = (typeof VEGA_DEBUG == \"undefined\") ? {} : VEGA_DEBUG;\n",
       "  (function(spec, embedOpt){\n",
       "    let outputDiv = document.currentScript.previousElementSibling;\n",
       "    if (outputDiv.id !== \"altair-viz-dcfa3ecfba1c47f293c58a9b90453db1\") {\n",
       "      outputDiv = document.getElementById(\"altair-viz-dcfa3ecfba1c47f293c58a9b90453db1\");\n",
       "    }\n",
       "    const paths = {\n",
       "      \"vega\": \"https://cdn.jsdelivr.net/npm/vega@5?noext\",\n",
       "      \"vega-lib\": \"https://cdn.jsdelivr.net/npm/vega-lib?noext\",\n",
       "      \"vega-lite\": \"https://cdn.jsdelivr.net/npm/vega-lite@5.6.1?noext\",\n",
       "      \"vega-embed\": \"https://cdn.jsdelivr.net/npm/vega-embed@6?noext\",\n",
       "    };\n",
       "\n",
       "    function maybeLoadScript(lib, version) {\n",
       "      var key = `${lib.replace(\"-\", \"\")}_version`;\n",
       "      return (VEGA_DEBUG[key] == version) ?\n",
       "        Promise.resolve(paths[lib]) :\n",
       "        new Promise(function(resolve, reject) {\n",
       "          var s = document.createElement('script');\n",
       "          document.getElementsByTagName(\"head\")[0].appendChild(s);\n",
       "          s.async = true;\n",
       "          s.onload = () => {\n",
       "            VEGA_DEBUG[key] = version;\n",
       "            return resolve(paths[lib]);\n",
       "          };\n",
       "          s.onerror = () => reject(`Error loading script: ${paths[lib]}`);\n",
       "          s.src = paths[lib];\n",
       "        });\n",
       "    }\n",
       "\n",
       "    function showError(err) {\n",
       "      outputDiv.innerHTML = `<div class=\"error\" style=\"color:red;\">${err}</div>`;\n",
       "      throw err;\n",
       "    }\n",
       "\n",
       "    function displayChart(vegaEmbed) {\n",
       "      vegaEmbed(outputDiv, spec, embedOpt)\n",
       "        .catch(err => showError(`Javascript Error: ${err.message}<br>This usually means there's a typo in your chart specification. See the javascript console for the full traceback.`));\n",
       "    }\n",
       "\n",
       "    if(typeof define === \"function\" && define.amd) {\n",
       "      requirejs.config({paths});\n",
       "      require([\"vega-embed\"], displayChart, err => showError(`Error loading script: ${err.message}`));\n",
       "    } else {\n",
       "      maybeLoadScript(\"vega\", \"5\")\n",
       "        .then(() => maybeLoadScript(\"vega-lite\", \"5.6.1\"))\n",
       "        .then(() => maybeLoadScript(\"vega-embed\", \"6\"))\n",
       "        .catch(showError)\n",
       "        .then(() => displayChart(vegaEmbed));\n",
       "    }\n",
       "  })({\"config\": {\"view\": {\"continuousWidth\": 300, \"continuousHeight\": 300}}, \"data\": {\"name\": \"data-01103058646d44783c073db6553580d7\"}, \"mark\": {\"type\": \"bar\"}, \"encoding\": {\"x\": {\"field\": \"homeownership\", \"sort\": \"-y\", \"type\": \"nominal\"}, \"y\": {\"aggregate\": \"count\", \"field\": \"homeownership\", \"type\": \"nominal\"}}, \"$schema\": \"https://vega.github.io/schema/vega-lite/v5.6.1.json\", \"datasets\": {\"data-01103058646d44783c073db6553580d7\": [{\"homeownership\": \"mortgage\"}, {\"homeownership\": \"own\"}, {\"homeownership\": \"rent\"}, {\"homeownership\": \"own\"}, {\"homeownership\": \"mortgage\"}, {\"homeownership\": \"rent\"}, {\"homeownership\": \"mortgage\"}, {\"homeownership\": \"own\"}, {\"homeownership\": \"own\"}, {\"homeownership\": \"own\"}, {\"homeownership\": \"rent\"}, {\"homeownership\": \"own\"}, {\"homeownership\": \"rent\"}, {\"homeownership\": \"mortgage\"}, {\"homeownership\": \"mortgage\"}, {\"homeownership\": \"mortgage\"}, {\"homeownership\": \"own\"}, {\"homeownership\": \"mortgage\"}, {\"homeownership\": \"rent\"}, {\"homeownership\": \"rent\"}, {\"homeownership\": \"mortgage\"}, {\"homeownership\": \"mortgage\"}, {\"homeownership\": \"rent\"}, {\"homeownership\": \"mortgage\"}, {\"homeownership\": \"own\"}, {\"homeownership\": \"rent\"}, {\"homeownership\": \"mortgage\"}, {\"homeownership\": \"mortgage\"}, {\"homeownership\": \"mortgage\"}, {\"homeownership\": \"mortgage\"}, {\"homeownership\": \"rent\"}, {\"homeownership\": \"rent\"}, {\"homeownership\": \"rent\"}, {\"homeownership\": \"mortgage\"}, {\"homeownership\": \"own\"}, {\"homeownership\": \"mortgage\"}, {\"homeownership\": \"rent\"}, {\"homeownership\": \"rent\"}, {\"homeownership\": \"mortgage\"}, {\"homeownership\": \"mortgage\"}, {\"homeownership\": \"own\"}, {\"homeownership\": \"rent\"}, {\"homeownership\": \"rent\"}, {\"homeownership\": \"own\"}, {\"homeownership\": \"rent\"}, {\"homeownership\": \"mortgage\"}, {\"homeownership\": \"rent\"}, {\"homeownership\": \"rent\"}, {\"homeownership\": \"mortgage\"}, {\"homeownership\": \"rent\"}, {\"homeownership\": \"rent\"}, {\"homeownership\": \"rent\"}, {\"homeownership\": \"mortgage\"}, {\"homeownership\": \"own\"}, {\"homeownership\": \"mortgage\"}, {\"homeownership\": \"rent\"}, {\"homeownership\": \"mortgage\"}, {\"homeownership\": \"rent\"}, {\"homeownership\": \"own\"}, {\"homeownership\": \"mortgage\"}, {\"homeownership\": \"mortgage\"}, {\"homeownership\": \"rent\"}, {\"homeownership\": \"mortgage\"}, {\"homeownership\": \"rent\"}, {\"homeownership\": \"rent\"}, {\"homeownership\": \"own\"}, {\"homeownership\": \"mortgage\"}, {\"homeownership\": \"own\"}, {\"homeownership\": \"mortgage\"}, {\"homeownership\": \"rent\"}, {\"homeownership\": \"rent\"}, {\"homeownership\": \"own\"}, {\"homeownership\": \"rent\"}, {\"homeownership\": \"rent\"}, {\"homeownership\": \"own\"}, {\"homeownership\": \"mortgage\"}, {\"homeownership\": \"mortgage\"}, {\"homeownership\": \"mortgage\"}, {\"homeownership\": \"mortgage\"}, {\"homeownership\": \"mortgage\"}, {\"homeownership\": \"mortgage\"}, {\"homeownership\": \"rent\"}, {\"homeownership\": \"rent\"}, {\"homeownership\": \"own\"}, {\"homeownership\": \"rent\"}, {\"homeownership\": \"mortgage\"}, {\"homeownership\": \"mortgage\"}, {\"homeownership\": \"mortgage\"}, {\"homeownership\": \"rent\"}, {\"homeownership\": \"own\"}, {\"homeownership\": \"mortgage\"}, {\"homeownership\": \"rent\"}, {\"homeownership\": \"mortgage\"}, {\"homeownership\": \"mortgage\"}, {\"homeownership\": \"mortgage\"}, {\"homeownership\": \"rent\"}, {\"homeownership\": \"own\"}, {\"homeownership\": \"mortgage\"}, {\"homeownership\": \"mortgage\"}, {\"homeownership\": \"rent\"}, {\"homeownership\": \"rent\"}, {\"homeownership\": \"mortgage\"}, {\"homeownership\": \"mortgage\"}, {\"homeownership\": \"rent\"}, {\"homeownership\": \"rent\"}, {\"homeownership\": \"mortgage\"}, {\"homeownership\": \"mortgage\"}, {\"homeownership\": \"rent\"}, {\"homeownership\": \"mortgage\"}, {\"homeownership\": \"rent\"}, {\"homeownership\": \"own\"}, {\"homeownership\": \"mortgage\"}, {\"homeownership\": \"own\"}, {\"homeownership\": \"rent\"}, {\"homeownership\": \"mortgage\"}, {\"homeownership\": \"mortgage\"}, {\"homeownership\": \"own\"}, {\"homeownership\": \"rent\"}, {\"homeownership\": \"own\"}, {\"homeownership\": \"mortgage\"}, {\"homeownership\": \"rent\"}, {\"homeownership\": \"rent\"}, {\"homeownership\": \"mortgage\"}, {\"homeownership\": \"mortgage\"}, {\"homeownership\": \"rent\"}, {\"homeownership\": \"own\"}, {\"homeownership\": \"mortgage\"}, {\"homeownership\": \"own\"}, {\"homeownership\": \"rent\"}, {\"homeownership\": \"mortgage\"}, {\"homeownership\": \"own\"}, {\"homeownership\": \"rent\"}, {\"homeownership\": \"own\"}, {\"homeownership\": \"rent\"}, {\"homeownership\": \"rent\"}, {\"homeownership\": \"mortgage\"}, {\"homeownership\": \"mortgage\"}, {\"homeownership\": \"own\"}, {\"homeownership\": \"mortgage\"}, {\"homeownership\": \"mortgage\"}, {\"homeownership\": \"rent\"}, {\"homeownership\": \"rent\"}, {\"homeownership\": \"mortgage\"}, {\"homeownership\": \"rent\"}, {\"homeownership\": \"rent\"}, {\"homeownership\": \"mortgage\"}, {\"homeownership\": \"rent\"}, {\"homeownership\": \"own\"}, {\"homeownership\": \"rent\"}, {\"homeownership\": \"mortgage\"}, {\"homeownership\": \"rent\"}, {\"homeownership\": \"mortgage\"}, {\"homeownership\": \"rent\"}, {\"homeownership\": \"rent\"}, {\"homeownership\": \"mortgage\"}, {\"homeownership\": \"mortgage\"}, {\"homeownership\": \"mortgage\"}, {\"homeownership\": \"rent\"}, {\"homeownership\": \"mortgage\"}, {\"homeownership\": \"rent\"}, {\"homeownership\": \"mortgage\"}, {\"homeownership\": \"rent\"}, {\"homeownership\": \"rent\"}, {\"homeownership\": \"mortgage\"}, {\"homeownership\": \"mortgage\"}, {\"homeownership\": \"mortgage\"}, {\"homeownership\": \"mortgage\"}, {\"homeownership\": \"mortgage\"}, {\"homeownership\": \"own\"}, {\"homeownership\": \"rent\"}, {\"homeownership\": \"rent\"}, {\"homeownership\": \"rent\"}, {\"homeownership\": \"rent\"}, {\"homeownership\": \"mortgage\"}, {\"homeownership\": \"rent\"}, {\"homeownership\": \"own\"}, {\"homeownership\": \"rent\"}, {\"homeownership\": \"mortgage\"}, {\"homeownership\": \"mortgage\"}, {\"homeownership\": \"rent\"}, {\"homeownership\": \"mortgage\"}, {\"homeownership\": \"mortgage\"}, {\"homeownership\": \"rent\"}, {\"homeownership\": \"mortgage\"}, {\"homeownership\": \"rent\"}, {\"homeownership\": \"mortgage\"}, {\"homeownership\": \"rent\"}, {\"homeownership\": \"own\"}, {\"homeownership\": \"mortgage\"}, {\"homeownership\": \"own\"}, {\"homeownership\": \"mortgage\"}, {\"homeownership\": \"rent\"}, {\"homeownership\": \"rent\"}, {\"homeownership\": \"mortgage\"}, {\"homeownership\": \"own\"}, {\"homeownership\": \"mortgage\"}, {\"homeownership\": \"mortgage\"}, {\"homeownership\": \"mortgage\"}, {\"homeownership\": \"rent\"}, {\"homeownership\": \"mortgage\"}]}}, {\"mode\": \"vega-lite\"});\n",
       "</script>"
      ],
      "text/plain": [
       "alt.Chart(...)"
      ]
     },
     "execution_count": 11,
     "metadata": {},
     "output_type": "execute_result"
    }
   ],
   "source": [
    "alt.Chart(source).mark_bar().encode(\n",
    "    x=alt.X('homeownership').sort('-y'), # sort\n",
    "    y=alt.Y('homeownership', aggregate='count')\n",
    ")"
   ]
  },
  {
   "cell_type": "markdown",
   "metadata": {
    "slideshow": {
     "slide_type": "slide"
    }
   },
   "source": [
    "### Bar chart with properties"
   ]
  },
  {
   "cell_type": "code",
   "execution_count": 20,
   "metadata": {
    "slideshow": {
     "slide_type": "subslide"
    }
   },
   "outputs": [
    {
     "data": {
      "text/html": [
       "\n",
       "<div id=\"altair-viz-8a0db3b124d8479ea392ca32f8d8a133\"></div>\n",
       "<script type=\"text/javascript\">\n",
       "  var VEGA_DEBUG = (typeof VEGA_DEBUG == \"undefined\") ? {} : VEGA_DEBUG;\n",
       "  (function(spec, embedOpt){\n",
       "    let outputDiv = document.currentScript.previousElementSibling;\n",
       "    if (outputDiv.id !== \"altair-viz-8a0db3b124d8479ea392ca32f8d8a133\") {\n",
       "      outputDiv = document.getElementById(\"altair-viz-8a0db3b124d8479ea392ca32f8d8a133\");\n",
       "    }\n",
       "    const paths = {\n",
       "      \"vega\": \"https://cdn.jsdelivr.net/npm/vega@5?noext\",\n",
       "      \"vega-lib\": \"https://cdn.jsdelivr.net/npm/vega-lib?noext\",\n",
       "      \"vega-lite\": \"https://cdn.jsdelivr.net/npm/vega-lite@5.6.1?noext\",\n",
       "      \"vega-embed\": \"https://cdn.jsdelivr.net/npm/vega-embed@6?noext\",\n",
       "    };\n",
       "\n",
       "    function maybeLoadScript(lib, version) {\n",
       "      var key = `${lib.replace(\"-\", \"\")}_version`;\n",
       "      return (VEGA_DEBUG[key] == version) ?\n",
       "        Promise.resolve(paths[lib]) :\n",
       "        new Promise(function(resolve, reject) {\n",
       "          var s = document.createElement('script');\n",
       "          document.getElementsByTagName(\"head\")[0].appendChild(s);\n",
       "          s.async = true;\n",
       "          s.onload = () => {\n",
       "            VEGA_DEBUG[key] = version;\n",
       "            return resolve(paths[lib]);\n",
       "          };\n",
       "          s.onerror = () => reject(`Error loading script: ${paths[lib]}`);\n",
       "          s.src = paths[lib];\n",
       "        });\n",
       "    }\n",
       "\n",
       "    function showError(err) {\n",
       "      outputDiv.innerHTML = `<div class=\"error\" style=\"color:red;\">${err}</div>`;\n",
       "      throw err;\n",
       "    }\n",
       "\n",
       "    function displayChart(vegaEmbed) {\n",
       "      vegaEmbed(outputDiv, spec, embedOpt)\n",
       "        .catch(err => showError(`Javascript Error: ${err.message}<br>This usually means there's a typo in your chart specification. See the javascript console for the full traceback.`));\n",
       "    }\n",
       "\n",
       "    if(typeof define === \"function\" && define.amd) {\n",
       "      requirejs.config({paths});\n",
       "      require([\"vega-embed\"], displayChart, err => showError(`Error loading script: ${err.message}`));\n",
       "    } else {\n",
       "      maybeLoadScript(\"vega\", \"5\")\n",
       "        .then(() => maybeLoadScript(\"vega-lite\", \"5.6.1\"))\n",
       "        .then(() => maybeLoadScript(\"vega-embed\", \"6\"))\n",
       "        .catch(showError)\n",
       "        .then(() => displayChart(vegaEmbed));\n",
       "    }\n",
       "  })({\"config\": {\"view\": {\"continuousWidth\": 300, \"continuousHeight\": 300}}, \"data\": {\"name\": \"data-01103058646d44783c073db6553580d7\"}, \"mark\": {\"type\": \"bar\"}, \"encoding\": {\"x\": {\"field\": \"homeownership\", \"sort\": \"-y\", \"type\": \"nominal\"}, \"y\": {\"aggregate\": \"count\", \"field\": \"homeownership\", \"type\": \"nominal\"}}, \"height\": 300, \"title\": \"This is a simple bar chart\", \"width\": 400, \"$schema\": \"https://vega.github.io/schema/vega-lite/v5.6.1.json\", \"datasets\": {\"data-01103058646d44783c073db6553580d7\": [{\"homeownership\": \"mortgage\"}, {\"homeownership\": \"own\"}, {\"homeownership\": \"rent\"}, {\"homeownership\": \"own\"}, {\"homeownership\": \"mortgage\"}, {\"homeownership\": \"rent\"}, {\"homeownership\": \"mortgage\"}, {\"homeownership\": \"own\"}, {\"homeownership\": \"own\"}, {\"homeownership\": \"own\"}, {\"homeownership\": \"rent\"}, {\"homeownership\": \"own\"}, {\"homeownership\": \"rent\"}, {\"homeownership\": \"mortgage\"}, {\"homeownership\": \"mortgage\"}, {\"homeownership\": \"mortgage\"}, {\"homeownership\": \"own\"}, {\"homeownership\": \"mortgage\"}, {\"homeownership\": \"rent\"}, {\"homeownership\": \"rent\"}, {\"homeownership\": \"mortgage\"}, {\"homeownership\": \"mortgage\"}, {\"homeownership\": \"rent\"}, {\"homeownership\": \"mortgage\"}, {\"homeownership\": \"own\"}, {\"homeownership\": \"rent\"}, {\"homeownership\": \"mortgage\"}, {\"homeownership\": \"mortgage\"}, {\"homeownership\": \"mortgage\"}, {\"homeownership\": \"mortgage\"}, {\"homeownership\": \"rent\"}, {\"homeownership\": \"rent\"}, {\"homeownership\": \"rent\"}, {\"homeownership\": \"mortgage\"}, {\"homeownership\": \"own\"}, {\"homeownership\": \"mortgage\"}, {\"homeownership\": \"rent\"}, {\"homeownership\": \"rent\"}, {\"homeownership\": \"mortgage\"}, {\"homeownership\": \"mortgage\"}, {\"homeownership\": \"own\"}, {\"homeownership\": \"rent\"}, {\"homeownership\": \"rent\"}, {\"homeownership\": \"own\"}, {\"homeownership\": \"rent\"}, {\"homeownership\": \"mortgage\"}, {\"homeownership\": \"rent\"}, {\"homeownership\": \"rent\"}, {\"homeownership\": \"mortgage\"}, {\"homeownership\": \"rent\"}, {\"homeownership\": \"rent\"}, {\"homeownership\": \"rent\"}, {\"homeownership\": \"mortgage\"}, {\"homeownership\": \"own\"}, {\"homeownership\": \"mortgage\"}, {\"homeownership\": \"rent\"}, {\"homeownership\": \"mortgage\"}, {\"homeownership\": \"rent\"}, {\"homeownership\": \"own\"}, {\"homeownership\": \"mortgage\"}, {\"homeownership\": \"mortgage\"}, {\"homeownership\": \"rent\"}, {\"homeownership\": \"mortgage\"}, {\"homeownership\": \"rent\"}, {\"homeownership\": \"rent\"}, {\"homeownership\": \"own\"}, {\"homeownership\": \"mortgage\"}, {\"homeownership\": \"own\"}, {\"homeownership\": \"mortgage\"}, {\"homeownership\": \"rent\"}, {\"homeownership\": \"rent\"}, {\"homeownership\": \"own\"}, {\"homeownership\": \"rent\"}, {\"homeownership\": \"rent\"}, {\"homeownership\": \"own\"}, {\"homeownership\": \"mortgage\"}, {\"homeownership\": \"mortgage\"}, {\"homeownership\": \"mortgage\"}, {\"homeownership\": \"mortgage\"}, {\"homeownership\": \"mortgage\"}, {\"homeownership\": \"mortgage\"}, {\"homeownership\": \"rent\"}, {\"homeownership\": \"rent\"}, {\"homeownership\": \"own\"}, {\"homeownership\": \"rent\"}, {\"homeownership\": \"mortgage\"}, {\"homeownership\": \"mortgage\"}, {\"homeownership\": \"mortgage\"}, {\"homeownership\": \"rent\"}, {\"homeownership\": \"own\"}, {\"homeownership\": \"mortgage\"}, {\"homeownership\": \"rent\"}, {\"homeownership\": \"mortgage\"}, {\"homeownership\": \"mortgage\"}, {\"homeownership\": \"mortgage\"}, {\"homeownership\": \"rent\"}, {\"homeownership\": \"own\"}, {\"homeownership\": \"mortgage\"}, {\"homeownership\": \"mortgage\"}, {\"homeownership\": \"rent\"}, {\"homeownership\": \"rent\"}, {\"homeownership\": \"mortgage\"}, {\"homeownership\": \"mortgage\"}, {\"homeownership\": \"rent\"}, {\"homeownership\": \"rent\"}, {\"homeownership\": \"mortgage\"}, {\"homeownership\": \"mortgage\"}, {\"homeownership\": \"rent\"}, {\"homeownership\": \"mortgage\"}, {\"homeownership\": \"rent\"}, {\"homeownership\": \"own\"}, {\"homeownership\": \"mortgage\"}, {\"homeownership\": \"own\"}, {\"homeownership\": \"rent\"}, {\"homeownership\": \"mortgage\"}, {\"homeownership\": \"mortgage\"}, {\"homeownership\": \"own\"}, {\"homeownership\": \"rent\"}, {\"homeownership\": \"own\"}, {\"homeownership\": \"mortgage\"}, {\"homeownership\": \"rent\"}, {\"homeownership\": \"rent\"}, {\"homeownership\": \"mortgage\"}, {\"homeownership\": \"mortgage\"}, {\"homeownership\": \"rent\"}, {\"homeownership\": \"own\"}, {\"homeownership\": \"mortgage\"}, {\"homeownership\": \"own\"}, {\"homeownership\": \"rent\"}, {\"homeownership\": \"mortgage\"}, {\"homeownership\": \"own\"}, {\"homeownership\": \"rent\"}, {\"homeownership\": \"own\"}, {\"homeownership\": \"rent\"}, {\"homeownership\": \"rent\"}, {\"homeownership\": \"mortgage\"}, {\"homeownership\": \"mortgage\"}, {\"homeownership\": \"own\"}, {\"homeownership\": \"mortgage\"}, {\"homeownership\": \"mortgage\"}, {\"homeownership\": \"rent\"}, {\"homeownership\": \"rent\"}, {\"homeownership\": \"mortgage\"}, {\"homeownership\": \"rent\"}, {\"homeownership\": \"rent\"}, {\"homeownership\": \"mortgage\"}, {\"homeownership\": \"rent\"}, {\"homeownership\": \"own\"}, {\"homeownership\": \"rent\"}, {\"homeownership\": \"mortgage\"}, {\"homeownership\": \"rent\"}, {\"homeownership\": \"mortgage\"}, {\"homeownership\": \"rent\"}, {\"homeownership\": \"rent\"}, {\"homeownership\": \"mortgage\"}, {\"homeownership\": \"mortgage\"}, {\"homeownership\": \"mortgage\"}, {\"homeownership\": \"rent\"}, {\"homeownership\": \"mortgage\"}, {\"homeownership\": \"rent\"}, {\"homeownership\": \"mortgage\"}, {\"homeownership\": \"rent\"}, {\"homeownership\": \"rent\"}, {\"homeownership\": \"mortgage\"}, {\"homeownership\": \"mortgage\"}, {\"homeownership\": \"mortgage\"}, {\"homeownership\": \"mortgage\"}, {\"homeownership\": \"mortgage\"}, {\"homeownership\": \"own\"}, {\"homeownership\": \"rent\"}, {\"homeownership\": \"rent\"}, {\"homeownership\": \"rent\"}, {\"homeownership\": \"rent\"}, {\"homeownership\": \"mortgage\"}, {\"homeownership\": \"rent\"}, {\"homeownership\": \"own\"}, {\"homeownership\": \"rent\"}, {\"homeownership\": \"mortgage\"}, {\"homeownership\": \"mortgage\"}, {\"homeownership\": \"rent\"}, {\"homeownership\": \"mortgage\"}, {\"homeownership\": \"mortgage\"}, {\"homeownership\": \"rent\"}, {\"homeownership\": \"mortgage\"}, {\"homeownership\": \"rent\"}, {\"homeownership\": \"mortgage\"}, {\"homeownership\": \"rent\"}, {\"homeownership\": \"own\"}, {\"homeownership\": \"mortgage\"}, {\"homeownership\": \"own\"}, {\"homeownership\": \"mortgage\"}, {\"homeownership\": \"rent\"}, {\"homeownership\": \"rent\"}, {\"homeownership\": \"mortgage\"}, {\"homeownership\": \"own\"}, {\"homeownership\": \"mortgage\"}, {\"homeownership\": \"mortgage\"}, {\"homeownership\": \"mortgage\"}, {\"homeownership\": \"rent\"}, {\"homeownership\": \"mortgage\"}]}}, {\"mode\": \"vega-lite\"});\n",
       "</script>"
      ],
      "text/plain": [
       "alt.Chart(...)"
      ]
     },
     "execution_count": 20,
     "metadata": {},
     "output_type": "execute_result"
    }
   ],
   "source": [
    "alt.Chart(source).mark_bar().encode(\n",
    "    x=alt.X('homeownership').sort('-y'),\n",
    "    y=alt.Y('homeownership', aggregate='count')\n",
    ").properties( # properties\n",
    "    title='This is a simple bar chart',\n",
    "    width=400,\n",
    "    height=300\n",
    ")"
   ]
  },
  {
   "cell_type": "markdown",
   "metadata": {
    "slideshow": {
     "slide_type": "slide"
    }
   },
   "source": [
    "### Bar chart with custom axes"
   ]
  },
  {
   "cell_type": "code",
   "execution_count": 21,
   "metadata": {
    "slideshow": {
     "slide_type": "subslide"
    }
   },
   "outputs": [
    {
     "data": {
      "text/html": [
       "\n",
       "<div id=\"altair-viz-c097c933d8384734b2e0288f42d4faf5\"></div>\n",
       "<script type=\"text/javascript\">\n",
       "  var VEGA_DEBUG = (typeof VEGA_DEBUG == \"undefined\") ? {} : VEGA_DEBUG;\n",
       "  (function(spec, embedOpt){\n",
       "    let outputDiv = document.currentScript.previousElementSibling;\n",
       "    if (outputDiv.id !== \"altair-viz-c097c933d8384734b2e0288f42d4faf5\") {\n",
       "      outputDiv = document.getElementById(\"altair-viz-c097c933d8384734b2e0288f42d4faf5\");\n",
       "    }\n",
       "    const paths = {\n",
       "      \"vega\": \"https://cdn.jsdelivr.net/npm/vega@5?noext\",\n",
       "      \"vega-lib\": \"https://cdn.jsdelivr.net/npm/vega-lib?noext\",\n",
       "      \"vega-lite\": \"https://cdn.jsdelivr.net/npm/vega-lite@5.6.1?noext\",\n",
       "      \"vega-embed\": \"https://cdn.jsdelivr.net/npm/vega-embed@6?noext\",\n",
       "    };\n",
       "\n",
       "    function maybeLoadScript(lib, version) {\n",
       "      var key = `${lib.replace(\"-\", \"\")}_version`;\n",
       "      return (VEGA_DEBUG[key] == version) ?\n",
       "        Promise.resolve(paths[lib]) :\n",
       "        new Promise(function(resolve, reject) {\n",
       "          var s = document.createElement('script');\n",
       "          document.getElementsByTagName(\"head\")[0].appendChild(s);\n",
       "          s.async = true;\n",
       "          s.onload = () => {\n",
       "            VEGA_DEBUG[key] = version;\n",
       "            return resolve(paths[lib]);\n",
       "          };\n",
       "          s.onerror = () => reject(`Error loading script: ${paths[lib]}`);\n",
       "          s.src = paths[lib];\n",
       "        });\n",
       "    }\n",
       "\n",
       "    function showError(err) {\n",
       "      outputDiv.innerHTML = `<div class=\"error\" style=\"color:red;\">${err}</div>`;\n",
       "      throw err;\n",
       "    }\n",
       "\n",
       "    function displayChart(vegaEmbed) {\n",
       "      vegaEmbed(outputDiv, spec, embedOpt)\n",
       "        .catch(err => showError(`Javascript Error: ${err.message}<br>This usually means there's a typo in your chart specification. See the javascript console for the full traceback.`));\n",
       "    }\n",
       "\n",
       "    if(typeof define === \"function\" && define.amd) {\n",
       "      requirejs.config({paths});\n",
       "      require([\"vega-embed\"], displayChart, err => showError(`Error loading script: ${err.message}`));\n",
       "    } else {\n",
       "      maybeLoadScript(\"vega\", \"5\")\n",
       "        .then(() => maybeLoadScript(\"vega-lite\", \"5.6.1\"))\n",
       "        .then(() => maybeLoadScript(\"vega-embed\", \"6\"))\n",
       "        .catch(showError)\n",
       "        .then(() => displayChart(vegaEmbed));\n",
       "    }\n",
       "  })({\"config\": {\"view\": {\"continuousWidth\": 300, \"continuousHeight\": 300}}, \"data\": {\"name\": \"data-01103058646d44783c073db6553580d7\"}, \"mark\": {\"type\": \"bar\"}, \"encoding\": {\"x\": {\"axis\": {\"title\": \"Homeownership\", \"labelAngle\": 0, \"titleAnchor\": \"start\"}, \"field\": \"homeownership\", \"sort\": \"-y\", \"type\": \"nominal\"}, \"y\": {\"aggregate\": \"count\", \"axis\": {\"title\": \"Count\", \"titleAnchor\": \"end\"}, \"field\": \"homeownership\", \"type\": \"nominal\"}}, \"height\": 300, \"title\": \"This is a bar chart with custom axes\", \"width\": 400, \"$schema\": \"https://vega.github.io/schema/vega-lite/v5.6.1.json\", \"datasets\": {\"data-01103058646d44783c073db6553580d7\": [{\"homeownership\": \"mortgage\"}, {\"homeownership\": \"own\"}, {\"homeownership\": \"rent\"}, {\"homeownership\": \"own\"}, {\"homeownership\": \"mortgage\"}, {\"homeownership\": \"rent\"}, {\"homeownership\": \"mortgage\"}, {\"homeownership\": \"own\"}, {\"homeownership\": \"own\"}, {\"homeownership\": \"own\"}, {\"homeownership\": \"rent\"}, {\"homeownership\": \"own\"}, {\"homeownership\": \"rent\"}, {\"homeownership\": \"mortgage\"}, {\"homeownership\": \"mortgage\"}, {\"homeownership\": \"mortgage\"}, {\"homeownership\": \"own\"}, {\"homeownership\": \"mortgage\"}, {\"homeownership\": \"rent\"}, {\"homeownership\": \"rent\"}, {\"homeownership\": \"mortgage\"}, {\"homeownership\": \"mortgage\"}, {\"homeownership\": \"rent\"}, {\"homeownership\": \"mortgage\"}, {\"homeownership\": \"own\"}, {\"homeownership\": \"rent\"}, {\"homeownership\": \"mortgage\"}, {\"homeownership\": \"mortgage\"}, {\"homeownership\": \"mortgage\"}, {\"homeownership\": \"mortgage\"}, {\"homeownership\": \"rent\"}, {\"homeownership\": \"rent\"}, {\"homeownership\": \"rent\"}, {\"homeownership\": \"mortgage\"}, {\"homeownership\": \"own\"}, {\"homeownership\": \"mortgage\"}, {\"homeownership\": \"rent\"}, {\"homeownership\": \"rent\"}, {\"homeownership\": \"mortgage\"}, {\"homeownership\": \"mortgage\"}, {\"homeownership\": \"own\"}, {\"homeownership\": \"rent\"}, {\"homeownership\": \"rent\"}, {\"homeownership\": \"own\"}, {\"homeownership\": \"rent\"}, {\"homeownership\": \"mortgage\"}, {\"homeownership\": \"rent\"}, {\"homeownership\": \"rent\"}, {\"homeownership\": \"mortgage\"}, {\"homeownership\": \"rent\"}, {\"homeownership\": \"rent\"}, {\"homeownership\": \"rent\"}, {\"homeownership\": \"mortgage\"}, {\"homeownership\": \"own\"}, {\"homeownership\": \"mortgage\"}, {\"homeownership\": \"rent\"}, {\"homeownership\": \"mortgage\"}, {\"homeownership\": \"rent\"}, {\"homeownership\": \"own\"}, {\"homeownership\": \"mortgage\"}, {\"homeownership\": \"mortgage\"}, {\"homeownership\": \"rent\"}, {\"homeownership\": \"mortgage\"}, {\"homeownership\": \"rent\"}, {\"homeownership\": \"rent\"}, {\"homeownership\": \"own\"}, {\"homeownership\": \"mortgage\"}, {\"homeownership\": \"own\"}, {\"homeownership\": \"mortgage\"}, {\"homeownership\": \"rent\"}, {\"homeownership\": \"rent\"}, {\"homeownership\": \"own\"}, {\"homeownership\": \"rent\"}, {\"homeownership\": \"rent\"}, {\"homeownership\": \"own\"}, {\"homeownership\": \"mortgage\"}, {\"homeownership\": \"mortgage\"}, {\"homeownership\": \"mortgage\"}, {\"homeownership\": \"mortgage\"}, {\"homeownership\": \"mortgage\"}, {\"homeownership\": \"mortgage\"}, {\"homeownership\": \"rent\"}, {\"homeownership\": \"rent\"}, {\"homeownership\": \"own\"}, {\"homeownership\": \"rent\"}, {\"homeownership\": \"mortgage\"}, {\"homeownership\": \"mortgage\"}, {\"homeownership\": \"mortgage\"}, {\"homeownership\": \"rent\"}, {\"homeownership\": \"own\"}, {\"homeownership\": \"mortgage\"}, {\"homeownership\": \"rent\"}, {\"homeownership\": \"mortgage\"}, {\"homeownership\": \"mortgage\"}, {\"homeownership\": \"mortgage\"}, {\"homeownership\": \"rent\"}, {\"homeownership\": \"own\"}, {\"homeownership\": \"mortgage\"}, {\"homeownership\": \"mortgage\"}, {\"homeownership\": \"rent\"}, {\"homeownership\": \"rent\"}, {\"homeownership\": \"mortgage\"}, {\"homeownership\": \"mortgage\"}, {\"homeownership\": \"rent\"}, {\"homeownership\": \"rent\"}, {\"homeownership\": \"mortgage\"}, {\"homeownership\": \"mortgage\"}, {\"homeownership\": \"rent\"}, {\"homeownership\": \"mortgage\"}, {\"homeownership\": \"rent\"}, {\"homeownership\": \"own\"}, {\"homeownership\": \"mortgage\"}, {\"homeownership\": \"own\"}, {\"homeownership\": \"rent\"}, {\"homeownership\": \"mortgage\"}, {\"homeownership\": \"mortgage\"}, {\"homeownership\": \"own\"}, {\"homeownership\": \"rent\"}, {\"homeownership\": \"own\"}, {\"homeownership\": \"mortgage\"}, {\"homeownership\": \"rent\"}, {\"homeownership\": \"rent\"}, {\"homeownership\": \"mortgage\"}, {\"homeownership\": \"mortgage\"}, {\"homeownership\": \"rent\"}, {\"homeownership\": \"own\"}, {\"homeownership\": \"mortgage\"}, {\"homeownership\": \"own\"}, {\"homeownership\": \"rent\"}, {\"homeownership\": \"mortgage\"}, {\"homeownership\": \"own\"}, {\"homeownership\": \"rent\"}, {\"homeownership\": \"own\"}, {\"homeownership\": \"rent\"}, {\"homeownership\": \"rent\"}, {\"homeownership\": \"mortgage\"}, {\"homeownership\": \"mortgage\"}, {\"homeownership\": \"own\"}, {\"homeownership\": \"mortgage\"}, {\"homeownership\": \"mortgage\"}, {\"homeownership\": \"rent\"}, {\"homeownership\": \"rent\"}, {\"homeownership\": \"mortgage\"}, {\"homeownership\": \"rent\"}, {\"homeownership\": \"rent\"}, {\"homeownership\": \"mortgage\"}, {\"homeownership\": \"rent\"}, {\"homeownership\": \"own\"}, {\"homeownership\": \"rent\"}, {\"homeownership\": \"mortgage\"}, {\"homeownership\": \"rent\"}, {\"homeownership\": \"mortgage\"}, {\"homeownership\": \"rent\"}, {\"homeownership\": \"rent\"}, {\"homeownership\": \"mortgage\"}, {\"homeownership\": \"mortgage\"}, {\"homeownership\": \"mortgage\"}, {\"homeownership\": \"rent\"}, {\"homeownership\": \"mortgage\"}, {\"homeownership\": \"rent\"}, {\"homeownership\": \"mortgage\"}, {\"homeownership\": \"rent\"}, {\"homeownership\": \"rent\"}, {\"homeownership\": \"mortgage\"}, {\"homeownership\": \"mortgage\"}, {\"homeownership\": \"mortgage\"}, {\"homeownership\": \"mortgage\"}, {\"homeownership\": \"mortgage\"}, {\"homeownership\": \"own\"}, {\"homeownership\": \"rent\"}, {\"homeownership\": \"rent\"}, {\"homeownership\": \"rent\"}, {\"homeownership\": \"rent\"}, {\"homeownership\": \"mortgage\"}, {\"homeownership\": \"rent\"}, {\"homeownership\": \"own\"}, {\"homeownership\": \"rent\"}, {\"homeownership\": \"mortgage\"}, {\"homeownership\": \"mortgage\"}, {\"homeownership\": \"rent\"}, {\"homeownership\": \"mortgage\"}, {\"homeownership\": \"mortgage\"}, {\"homeownership\": \"rent\"}, {\"homeownership\": \"mortgage\"}, {\"homeownership\": \"rent\"}, {\"homeownership\": \"mortgage\"}, {\"homeownership\": \"rent\"}, {\"homeownership\": \"own\"}, {\"homeownership\": \"mortgage\"}, {\"homeownership\": \"own\"}, {\"homeownership\": \"mortgage\"}, {\"homeownership\": \"rent\"}, {\"homeownership\": \"rent\"}, {\"homeownership\": \"mortgage\"}, {\"homeownership\": \"own\"}, {\"homeownership\": \"mortgage\"}, {\"homeownership\": \"mortgage\"}, {\"homeownership\": \"mortgage\"}, {\"homeownership\": \"rent\"}, {\"homeownership\": \"mortgage\"}]}}, {\"mode\": \"vega-lite\"});\n",
       "</script>"
      ],
      "text/plain": [
       "alt.Chart(...)"
      ]
     },
     "execution_count": 21,
     "metadata": {},
     "output_type": "execute_result"
    }
   ],
   "source": [
    "alt.Chart(source).mark_bar().encode(\n",
    "    x=alt.X('homeownership').sort('-y').axis(\n",
    "        title=\"Homeownership\", # title of x axis\n",
    "        labelAngle=0, # angle of x axis text\n",
    "        titleAnchor=\"start\"), # adjustment of text\n",
    "    y=alt.Y('homeownership', aggregate='count').axis(\n",
    "        title = \"Count\",\n",
    "        titleAnchor=\"end\")\n",
    ").properties(\n",
    "    title='This is a bar chart with custom axes',\n",
    "    width=400,\n",
    "    height=300\n",
    ")"
   ]
  },
  {
   "cell_type": "markdown",
   "metadata": {
    "slideshow": {
     "slide_type": "slide"
    }
   },
   "source": [
    "### Bar chart with custom axes and title"
   ]
  },
  {
   "cell_type": "code",
   "execution_count": 22,
   "metadata": {
    "slideshow": {
     "slide_type": "subslide"
    }
   },
   "outputs": [
    {
     "data": {
      "text/html": [
       "\n",
       "<div id=\"altair-viz-5c436dcf15c14fd9ba45a6dbffaafa2c\"></div>\n",
       "<script type=\"text/javascript\">\n",
       "  var VEGA_DEBUG = (typeof VEGA_DEBUG == \"undefined\") ? {} : VEGA_DEBUG;\n",
       "  (function(spec, embedOpt){\n",
       "    let outputDiv = document.currentScript.previousElementSibling;\n",
       "    if (outputDiv.id !== \"altair-viz-5c436dcf15c14fd9ba45a6dbffaafa2c\") {\n",
       "      outputDiv = document.getElementById(\"altair-viz-5c436dcf15c14fd9ba45a6dbffaafa2c\");\n",
       "    }\n",
       "    const paths = {\n",
       "      \"vega\": \"https://cdn.jsdelivr.net/npm/vega@5?noext\",\n",
       "      \"vega-lib\": \"https://cdn.jsdelivr.net/npm/vega-lib?noext\",\n",
       "      \"vega-lite\": \"https://cdn.jsdelivr.net/npm/vega-lite@5.6.1?noext\",\n",
       "      \"vega-embed\": \"https://cdn.jsdelivr.net/npm/vega-embed@6?noext\",\n",
       "    };\n",
       "\n",
       "    function maybeLoadScript(lib, version) {\n",
       "      var key = `${lib.replace(\"-\", \"\")}_version`;\n",
       "      return (VEGA_DEBUG[key] == version) ?\n",
       "        Promise.resolve(paths[lib]) :\n",
       "        new Promise(function(resolve, reject) {\n",
       "          var s = document.createElement('script');\n",
       "          document.getElementsByTagName(\"head\")[0].appendChild(s);\n",
       "          s.async = true;\n",
       "          s.onload = () => {\n",
       "            VEGA_DEBUG[key] = version;\n",
       "            return resolve(paths[lib]);\n",
       "          };\n",
       "          s.onerror = () => reject(`Error loading script: ${paths[lib]}`);\n",
       "          s.src = paths[lib];\n",
       "        });\n",
       "    }\n",
       "\n",
       "    function showError(err) {\n",
       "      outputDiv.innerHTML = `<div class=\"error\" style=\"color:red;\">${err}</div>`;\n",
       "      throw err;\n",
       "    }\n",
       "\n",
       "    function displayChart(vegaEmbed) {\n",
       "      vegaEmbed(outputDiv, spec, embedOpt)\n",
       "        .catch(err => showError(`Javascript Error: ${err.message}<br>This usually means there's a typo in your chart specification. See the javascript console for the full traceback.`));\n",
       "    }\n",
       "\n",
       "    if(typeof define === \"function\" && define.amd) {\n",
       "      requirejs.config({paths});\n",
       "      require([\"vega-embed\"], displayChart, err => showError(`Error loading script: ${err.message}`));\n",
       "    } else {\n",
       "      maybeLoadScript(\"vega\", \"5\")\n",
       "        .then(() => maybeLoadScript(\"vega-lite\", \"5.6.1\"))\n",
       "        .then(() => maybeLoadScript(\"vega-embed\", \"6\"))\n",
       "        .catch(showError)\n",
       "        .then(() => displayChart(vegaEmbed));\n",
       "    }\n",
       "  })({\"config\": {\"view\": {\"continuousWidth\": 300, \"continuousHeight\": 300, \"strokeWidth\": 0}, \"title\": {\"anchor\": \"start\", \"color\": \"black\", \"font\": \"Arial\", \"fontSize\": 16}}, \"data\": {\"name\": \"data-01103058646d44783c073db6553580d7\"}, \"mark\": {\"type\": \"bar\"}, \"encoding\": {\"x\": {\"axis\": {\"title\": \"Homeownership\", \"labelAngle\": 0, \"titleAnchor\": \"start\"}, \"field\": \"homeownership\", \"sort\": \"-y\", \"type\": \"nominal\"}, \"y\": {\"aggregate\": \"count\", \"axis\": {\"title\": \"Count\", \"titleAnchor\": \"end\", \"grid\": false}, \"field\": \"homeownership\", \"type\": \"nominal\"}}, \"height\": 300, \"title\": \"This is a bar chart with custom axes and title\", \"width\": 400, \"$schema\": \"https://vega.github.io/schema/vega-lite/v5.6.1.json\", \"datasets\": {\"data-01103058646d44783c073db6553580d7\": [{\"homeownership\": \"mortgage\"}, {\"homeownership\": \"own\"}, {\"homeownership\": \"rent\"}, {\"homeownership\": \"own\"}, {\"homeownership\": \"mortgage\"}, {\"homeownership\": \"rent\"}, {\"homeownership\": \"mortgage\"}, {\"homeownership\": \"own\"}, {\"homeownership\": \"own\"}, {\"homeownership\": \"own\"}, {\"homeownership\": \"rent\"}, {\"homeownership\": \"own\"}, {\"homeownership\": \"rent\"}, {\"homeownership\": \"mortgage\"}, {\"homeownership\": \"mortgage\"}, {\"homeownership\": \"mortgage\"}, {\"homeownership\": \"own\"}, {\"homeownership\": \"mortgage\"}, {\"homeownership\": \"rent\"}, {\"homeownership\": \"rent\"}, {\"homeownership\": \"mortgage\"}, {\"homeownership\": \"mortgage\"}, {\"homeownership\": \"rent\"}, {\"homeownership\": \"mortgage\"}, {\"homeownership\": \"own\"}, {\"homeownership\": \"rent\"}, {\"homeownership\": \"mortgage\"}, {\"homeownership\": \"mortgage\"}, {\"homeownership\": \"mortgage\"}, {\"homeownership\": \"mortgage\"}, {\"homeownership\": \"rent\"}, {\"homeownership\": \"rent\"}, {\"homeownership\": \"rent\"}, {\"homeownership\": \"mortgage\"}, {\"homeownership\": \"own\"}, {\"homeownership\": \"mortgage\"}, {\"homeownership\": \"rent\"}, {\"homeownership\": \"rent\"}, {\"homeownership\": \"mortgage\"}, {\"homeownership\": \"mortgage\"}, {\"homeownership\": \"own\"}, {\"homeownership\": \"rent\"}, {\"homeownership\": \"rent\"}, {\"homeownership\": \"own\"}, {\"homeownership\": \"rent\"}, {\"homeownership\": \"mortgage\"}, {\"homeownership\": \"rent\"}, {\"homeownership\": \"rent\"}, {\"homeownership\": \"mortgage\"}, {\"homeownership\": \"rent\"}, {\"homeownership\": \"rent\"}, {\"homeownership\": \"rent\"}, {\"homeownership\": \"mortgage\"}, {\"homeownership\": \"own\"}, {\"homeownership\": \"mortgage\"}, {\"homeownership\": \"rent\"}, {\"homeownership\": \"mortgage\"}, {\"homeownership\": \"rent\"}, {\"homeownership\": \"own\"}, {\"homeownership\": \"mortgage\"}, {\"homeownership\": \"mortgage\"}, {\"homeownership\": \"rent\"}, {\"homeownership\": \"mortgage\"}, {\"homeownership\": \"rent\"}, {\"homeownership\": \"rent\"}, {\"homeownership\": \"own\"}, {\"homeownership\": \"mortgage\"}, {\"homeownership\": \"own\"}, {\"homeownership\": \"mortgage\"}, {\"homeownership\": \"rent\"}, {\"homeownership\": \"rent\"}, {\"homeownership\": \"own\"}, {\"homeownership\": \"rent\"}, {\"homeownership\": \"rent\"}, {\"homeownership\": \"own\"}, {\"homeownership\": \"mortgage\"}, {\"homeownership\": \"mortgage\"}, {\"homeownership\": \"mortgage\"}, {\"homeownership\": \"mortgage\"}, {\"homeownership\": \"mortgage\"}, {\"homeownership\": \"mortgage\"}, {\"homeownership\": \"rent\"}, {\"homeownership\": \"rent\"}, {\"homeownership\": \"own\"}, {\"homeownership\": \"rent\"}, {\"homeownership\": \"mortgage\"}, {\"homeownership\": \"mortgage\"}, {\"homeownership\": \"mortgage\"}, {\"homeownership\": \"rent\"}, {\"homeownership\": \"own\"}, {\"homeownership\": \"mortgage\"}, {\"homeownership\": \"rent\"}, {\"homeownership\": \"mortgage\"}, {\"homeownership\": \"mortgage\"}, {\"homeownership\": \"mortgage\"}, {\"homeownership\": \"rent\"}, {\"homeownership\": \"own\"}, {\"homeownership\": \"mortgage\"}, {\"homeownership\": \"mortgage\"}, {\"homeownership\": \"rent\"}, {\"homeownership\": \"rent\"}, {\"homeownership\": \"mortgage\"}, {\"homeownership\": \"mortgage\"}, {\"homeownership\": \"rent\"}, {\"homeownership\": \"rent\"}, {\"homeownership\": \"mortgage\"}, {\"homeownership\": \"mortgage\"}, {\"homeownership\": \"rent\"}, {\"homeownership\": \"mortgage\"}, {\"homeownership\": \"rent\"}, {\"homeownership\": \"own\"}, {\"homeownership\": \"mortgage\"}, {\"homeownership\": \"own\"}, {\"homeownership\": \"rent\"}, {\"homeownership\": \"mortgage\"}, {\"homeownership\": \"mortgage\"}, {\"homeownership\": \"own\"}, {\"homeownership\": \"rent\"}, {\"homeownership\": \"own\"}, {\"homeownership\": \"mortgage\"}, {\"homeownership\": \"rent\"}, {\"homeownership\": \"rent\"}, {\"homeownership\": \"mortgage\"}, {\"homeownership\": \"mortgage\"}, {\"homeownership\": \"rent\"}, {\"homeownership\": \"own\"}, {\"homeownership\": \"mortgage\"}, {\"homeownership\": \"own\"}, {\"homeownership\": \"rent\"}, {\"homeownership\": \"mortgage\"}, {\"homeownership\": \"own\"}, {\"homeownership\": \"rent\"}, {\"homeownership\": \"own\"}, {\"homeownership\": \"rent\"}, {\"homeownership\": \"rent\"}, {\"homeownership\": \"mortgage\"}, {\"homeownership\": \"mortgage\"}, {\"homeownership\": \"own\"}, {\"homeownership\": \"mortgage\"}, {\"homeownership\": \"mortgage\"}, {\"homeownership\": \"rent\"}, {\"homeownership\": \"rent\"}, {\"homeownership\": \"mortgage\"}, {\"homeownership\": \"rent\"}, {\"homeownership\": \"rent\"}, {\"homeownership\": \"mortgage\"}, {\"homeownership\": \"rent\"}, {\"homeownership\": \"own\"}, {\"homeownership\": \"rent\"}, {\"homeownership\": \"mortgage\"}, {\"homeownership\": \"rent\"}, {\"homeownership\": \"mortgage\"}, {\"homeownership\": \"rent\"}, {\"homeownership\": \"rent\"}, {\"homeownership\": \"mortgage\"}, {\"homeownership\": \"mortgage\"}, {\"homeownership\": \"mortgage\"}, {\"homeownership\": \"rent\"}, {\"homeownership\": \"mortgage\"}, {\"homeownership\": \"rent\"}, {\"homeownership\": \"mortgage\"}, {\"homeownership\": \"rent\"}, {\"homeownership\": \"rent\"}, {\"homeownership\": \"mortgage\"}, {\"homeownership\": \"mortgage\"}, {\"homeownership\": \"mortgage\"}, {\"homeownership\": \"mortgage\"}, {\"homeownership\": \"mortgage\"}, {\"homeownership\": \"own\"}, {\"homeownership\": \"rent\"}, {\"homeownership\": \"rent\"}, {\"homeownership\": \"rent\"}, {\"homeownership\": \"rent\"}, {\"homeownership\": \"mortgage\"}, {\"homeownership\": \"rent\"}, {\"homeownership\": \"own\"}, {\"homeownership\": \"rent\"}, {\"homeownership\": \"mortgage\"}, {\"homeownership\": \"mortgage\"}, {\"homeownership\": \"rent\"}, {\"homeownership\": \"mortgage\"}, {\"homeownership\": \"mortgage\"}, {\"homeownership\": \"rent\"}, {\"homeownership\": \"mortgage\"}, {\"homeownership\": \"rent\"}, {\"homeownership\": \"mortgage\"}, {\"homeownership\": \"rent\"}, {\"homeownership\": \"own\"}, {\"homeownership\": \"mortgage\"}, {\"homeownership\": \"own\"}, {\"homeownership\": \"mortgage\"}, {\"homeownership\": \"rent\"}, {\"homeownership\": \"rent\"}, {\"homeownership\": \"mortgage\"}, {\"homeownership\": \"own\"}, {\"homeownership\": \"mortgage\"}, {\"homeownership\": \"mortgage\"}, {\"homeownership\": \"mortgage\"}, {\"homeownership\": \"rent\"}, {\"homeownership\": \"mortgage\"}]}}, {\"mode\": \"vega-lite\"});\n",
       "</script>"
      ],
      "text/plain": [
       "alt.Chart(...)"
      ]
     },
     "execution_count": 22,
     "metadata": {},
     "output_type": "execute_result"
    }
   ],
   "source": [
    "alt.Chart(source).mark_bar().encode(\n",
    "    x=alt.X('homeownership').sort('-y').axis(\n",
    "        title=\"Homeownership\", \n",
    "        labelAngle=0,\n",
    "        titleAnchor=\"start\"),\n",
    "    y=alt.Y('homeownership', aggregate='count').axis(\n",
    "        title = \"Count\",\n",
    "        titleAnchor=\"end\",\n",
    "        grid=False) # no grid\n",
    ").properties(\n",
    "    title='This is a bar chart with custom axes and title',\n",
    "    width=400,\n",
    "    height=300\n",
    ").configure_title( # custom title\n",
    "    fontSize=16,\n",
    "    font='Arial',\n",
    "    color='black',\n",
    "    anchor='start'\n",
    ").configure_view(strokeWidth=0) # no border"
   ]
  }
 ],
 "metadata": {
  "celltoolbar": "Slideshow",
  "kernelspec": {
   "display_name": "Python 3 (ipykernel)",
   "language": "python",
   "name": "python3"
  },
  "language_info": {
   "codemirror_mode": {
    "name": "ipython",
    "version": 3
   },
   "file_extension": ".py",
   "mimetype": "text/x-python",
   "name": "python",
   "nbconvert_exporter": "python",
   "pygments_lexer": "ipython3",
   "version": "3.11.3"
  },
  "varInspector": {
   "cols": {
    "lenName": 16,
    "lenType": 16,
    "lenVar": 40
   },
   "kernels_config": {
    "python": {
     "delete_cmd_postfix": "",
     "delete_cmd_prefix": "del ",
     "library": "var_list.py",
     "varRefreshCmd": "print(var_dic_list())"
    },
    "r": {
     "delete_cmd_postfix": ") ",
     "delete_cmd_prefix": "rm(",
     "library": "var_list.r",
     "varRefreshCmd": "cat(var_dic_list()) "
    }
   },
   "types_to_exclude": [
    "module",
    "function",
    "builtin_function_or_method",
    "instance",
    "_Feature"
   ],
   "window_display": false
  },
  "vscode": {
   "interpreter": {
    "hash": "57137d00906dcfc610b0009cd9be1d97c3b9b0b8cb7228e2ff7c7001d05affbc"
   }
  }
 },
 "nbformat": 4,
 "nbformat_minor": 2
}
