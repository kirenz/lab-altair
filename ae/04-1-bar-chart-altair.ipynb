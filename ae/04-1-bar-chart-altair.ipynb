{
 "cells": [
  {
   "cell_type": "markdown",
   "metadata": {
    "slideshow": {
     "slide_type": "slide"
    }
   },
   "source": [
    "# Bar chart"
   ]
  },
  {
   "cell_type": "markdown",
   "metadata": {
    "slideshow": {
     "slide_type": "fragment"
    }
   },
   "source": [
    "## Setup"
   ]
  },
  {
   "cell_type": "code",
   "execution_count": 1,
   "metadata": {
    "slideshow": {
     "slide_type": "subslide"
    }
   },
   "outputs": [],
   "source": [
    "import pandas as pd\n",
    "import altair as alt\n"
   ]
  },
  {
   "cell_type": "markdown",
   "metadata": {
    "slideshow": {
     "slide_type": "fragment"
    }
   },
   "source": [
    "- We disable Altair's data restrictions to be able to plot Dataframes with more than 5000 rows: `alt.data_transformers.disable_max_rows()`"
   ]
  },
  {
   "cell_type": "code",
   "execution_count": 2,
   "metadata": {},
   "outputs": [
    {
     "data": {
      "text/plain": [
       "DataTransformerRegistry.enable('default')"
      ]
     },
     "execution_count": 2,
     "metadata": {},
     "output_type": "execute_result"
    }
   ],
   "source": [
    "alt.data_transformers.disable_max_rows()"
   ]
  },
  {
   "cell_type": "markdown",
   "metadata": {
    "slideshow": {
     "slide_type": "fragment"
    }
   },
   "source": [
    "We also want to ignore a specific warning:"
   ]
  },
  {
   "cell_type": "code",
   "execution_count": 3,
   "metadata": {
    "slideshow": {
     "slide_type": "fragment"
    }
   },
   "outputs": [],
   "source": [
    "import warnings\n",
    "warnings.simplefilter(action='ignore', category=FutureWarning)"
   ]
  },
  {
   "cell_type": "markdown",
   "metadata": {
    "slideshow": {
     "slide_type": "slide"
    }
   },
   "source": [
    "## Data"
   ]
  },
  {
   "cell_type": "markdown",
   "metadata": {
    "slideshow": {
     "slide_type": "fragment"
    }
   },
   "source": [
    "### Import data"
   ]
  },
  {
   "cell_type": "code",
   "execution_count": 4,
   "metadata": {
    "slideshow": {
     "slide_type": "subslide"
    }
   },
   "outputs": [],
   "source": [
    "ROOT = \"https://raw.githubusercontent.com/kirenz/datasets/master/\"\n",
    "DATA = \"loan50.csv\"\n",
    "\n",
    "df = pd.read_csv(ROOT + DATA)"
   ]
  },
  {
   "cell_type": "markdown",
   "metadata": {
    "slideshow": {
     "slide_type": "slide"
    }
   },
   "source": [
    "### Data structure"
   ]
  },
  {
   "cell_type": "markdown",
   "metadata": {
    "slideshow": {
     "slide_type": "fragment"
    }
   },
   "source": [
    "Display the dataframe"
   ]
  },
  {
   "cell_type": "code",
   "execution_count": 5,
   "metadata": {
    "slideshow": {
     "slide_type": "subslide"
    }
   },
   "outputs": [
    {
     "data": {
      "text/html": [
       "<div>\n",
       "<style scoped>\n",
       "    .dataframe tbody tr th:only-of-type {\n",
       "        vertical-align: middle;\n",
       "    }\n",
       "\n",
       "    .dataframe tbody tr th {\n",
       "        vertical-align: top;\n",
       "    }\n",
       "\n",
       "    .dataframe thead th {\n",
       "        text-align: right;\n",
       "    }\n",
       "</style>\n",
       "<table border=\"1\" class=\"dataframe\">\n",
       "  <thead>\n",
       "    <tr style=\"text-align: right;\">\n",
       "      <th></th>\n",
       "      <th>state</th>\n",
       "      <th>emp_length</th>\n",
       "      <th>term</th>\n",
       "      <th>homeownership</th>\n",
       "      <th>annual_income</th>\n",
       "      <th>verified_income</th>\n",
       "      <th>debt_to_income</th>\n",
       "      <th>total_credit_limit</th>\n",
       "      <th>total_credit_utilized</th>\n",
       "      <th>num_cc_carrying_balance</th>\n",
       "      <th>loan_purpose</th>\n",
       "      <th>loan_amount</th>\n",
       "      <th>grade</th>\n",
       "      <th>interest_rate</th>\n",
       "      <th>public_record_bankrupt</th>\n",
       "      <th>loan_status</th>\n",
       "      <th>has_second_income</th>\n",
       "      <th>total_income</th>\n",
       "    </tr>\n",
       "  </thead>\n",
       "  <tbody>\n",
       "    <tr>\n",
       "      <th>0</th>\n",
       "      <td>NJ</td>\n",
       "      <td>3.0</td>\n",
       "      <td>60</td>\n",
       "      <td>rent</td>\n",
       "      <td>59000</td>\n",
       "      <td>Not Verified</td>\n",
       "      <td>0.557525</td>\n",
       "      <td>95131</td>\n",
       "      <td>32894</td>\n",
       "      <td>8</td>\n",
       "      <td>debt_consolidation</td>\n",
       "      <td>22000</td>\n",
       "      <td>B</td>\n",
       "      <td>10.90</td>\n",
       "      <td>0</td>\n",
       "      <td>Current</td>\n",
       "      <td>False</td>\n",
       "      <td>59000</td>\n",
       "    </tr>\n",
       "    <tr>\n",
       "      <th>1</th>\n",
       "      <td>CA</td>\n",
       "      <td>10.0</td>\n",
       "      <td>36</td>\n",
       "      <td>rent</td>\n",
       "      <td>60000</td>\n",
       "      <td>Not Verified</td>\n",
       "      <td>1.305683</td>\n",
       "      <td>51929</td>\n",
       "      <td>78341</td>\n",
       "      <td>2</td>\n",
       "      <td>credit_card</td>\n",
       "      <td>6000</td>\n",
       "      <td>B</td>\n",
       "      <td>9.92</td>\n",
       "      <td>1</td>\n",
       "      <td>Current</td>\n",
       "      <td>False</td>\n",
       "      <td>60000</td>\n",
       "    </tr>\n",
       "    <tr>\n",
       "      <th>2</th>\n",
       "      <td>SC</td>\n",
       "      <td>NaN</td>\n",
       "      <td>36</td>\n",
       "      <td>mortgage</td>\n",
       "      <td>75000</td>\n",
       "      <td>Verified</td>\n",
       "      <td>1.056280</td>\n",
       "      <td>301373</td>\n",
       "      <td>79221</td>\n",
       "      <td>14</td>\n",
       "      <td>debt_consolidation</td>\n",
       "      <td>25000</td>\n",
       "      <td>E</td>\n",
       "      <td>26.30</td>\n",
       "      <td>0</td>\n",
       "      <td>Current</td>\n",
       "      <td>False</td>\n",
       "      <td>75000</td>\n",
       "    </tr>\n",
       "    <tr>\n",
       "      <th>3</th>\n",
       "      <td>CA</td>\n",
       "      <td>0.0</td>\n",
       "      <td>36</td>\n",
       "      <td>rent</td>\n",
       "      <td>75000</td>\n",
       "      <td>Not Verified</td>\n",
       "      <td>0.574347</td>\n",
       "      <td>59890</td>\n",
       "      <td>43076</td>\n",
       "      <td>10</td>\n",
       "      <td>credit_card</td>\n",
       "      <td>6000</td>\n",
       "      <td>B</td>\n",
       "      <td>9.92</td>\n",
       "      <td>0</td>\n",
       "      <td>Current</td>\n",
       "      <td>False</td>\n",
       "      <td>75000</td>\n",
       "    </tr>\n",
       "    <tr>\n",
       "      <th>4</th>\n",
       "      <td>OH</td>\n",
       "      <td>4.0</td>\n",
       "      <td>60</td>\n",
       "      <td>mortgage</td>\n",
       "      <td>254000</td>\n",
       "      <td>Not Verified</td>\n",
       "      <td>0.238150</td>\n",
       "      <td>422619</td>\n",
       "      <td>60490</td>\n",
       "      <td>2</td>\n",
       "      <td>home_improvement</td>\n",
       "      <td>25000</td>\n",
       "      <td>B</td>\n",
       "      <td>9.43</td>\n",
       "      <td>0</td>\n",
       "      <td>Current</td>\n",
       "      <td>False</td>\n",
       "      <td>254000</td>\n",
       "    </tr>\n",
       "  </tbody>\n",
       "</table>\n",
       "</div>"
      ],
      "text/plain": [
       "  state  emp_length  term homeownership  annual_income verified_income   \n",
       "0    NJ         3.0    60          rent          59000    Not Verified  \\\n",
       "1    CA        10.0    36          rent          60000    Not Verified   \n",
       "2    SC         NaN    36      mortgage          75000        Verified   \n",
       "3    CA         0.0    36          rent          75000    Not Verified   \n",
       "4    OH         4.0    60      mortgage         254000    Not Verified   \n",
       "\n",
       "   debt_to_income  total_credit_limit  total_credit_utilized   \n",
       "0        0.557525               95131                  32894  \\\n",
       "1        1.305683               51929                  78341   \n",
       "2        1.056280              301373                  79221   \n",
       "3        0.574347               59890                  43076   \n",
       "4        0.238150              422619                  60490   \n",
       "\n",
       "   num_cc_carrying_balance        loan_purpose  loan_amount grade   \n",
       "0                        8  debt_consolidation        22000     B  \\\n",
       "1                        2         credit_card         6000     B   \n",
       "2                       14  debt_consolidation        25000     E   \n",
       "3                       10         credit_card         6000     B   \n",
       "4                        2    home_improvement        25000     B   \n",
       "\n",
       "   interest_rate  public_record_bankrupt loan_status  has_second_income   \n",
       "0          10.90                       0     Current              False  \\\n",
       "1           9.92                       1     Current              False   \n",
       "2          26.30                       0     Current              False   \n",
       "3           9.92                       0     Current              False   \n",
       "4           9.43                       0     Current              False   \n",
       "\n",
       "   total_income  \n",
       "0         59000  \n",
       "1         60000  \n",
       "2         75000  \n",
       "3         75000  \n",
       "4        254000  "
      ]
     },
     "execution_count": 5,
     "metadata": {},
     "output_type": "execute_result"
    }
   ],
   "source": [
    "df.head()"
   ]
  },
  {
   "cell_type": "markdown",
   "metadata": {
    "slideshow": {
     "slide_type": "slide"
    }
   },
   "source": [
    "Show info"
   ]
  },
  {
   "cell_type": "code",
   "execution_count": 6,
   "metadata": {
    "slideshow": {
     "slide_type": "fragment"
    }
   },
   "outputs": [
    {
     "name": "stdout",
     "output_type": "stream",
     "text": [
      "<class 'pandas.core.frame.DataFrame'>\n",
      "RangeIndex: 50 entries, 0 to 49\n",
      "Data columns (total 18 columns):\n",
      " #   Column                   Non-Null Count  Dtype  \n",
      "---  ------                   --------------  -----  \n",
      " 0   state                    50 non-null     object \n",
      " 1   emp_length               48 non-null     float64\n",
      " 2   term                     50 non-null     int64  \n",
      " 3   homeownership            50 non-null     object \n",
      " 4   annual_income            50 non-null     int64  \n",
      " 5   verified_income          50 non-null     object \n",
      " 6   debt_to_income           50 non-null     float64\n",
      " 7   total_credit_limit       50 non-null     int64  \n",
      " 8   total_credit_utilized    50 non-null     int64  \n",
      " 9   num_cc_carrying_balance  50 non-null     int64  \n",
      " 10  loan_purpose             50 non-null     object \n",
      " 11  loan_amount              50 non-null     int64  \n",
      " 12  grade                    50 non-null     object \n",
      " 13  interest_rate            50 non-null     float64\n",
      " 14  public_record_bankrupt   50 non-null     int64  \n",
      " 15  loan_status              50 non-null     object \n",
      " 16  has_second_income        50 non-null     bool   \n",
      " 17  total_income             50 non-null     int64  \n",
      "dtypes: bool(1), float64(3), int64(8), object(6)\n",
      "memory usage: 6.8+ KB\n"
     ]
    }
   ],
   "source": [
    "df.info()"
   ]
  },
  {
   "cell_type": "markdown",
   "metadata": {
    "slideshow": {
     "slide_type": "slide"
    }
   },
   "source": [
    "### Variable lists"
   ]
  },
  {
   "cell_type": "markdown",
   "metadata": {
    "slideshow": {
     "slide_type": "fragment"
    }
   },
   "source": [
    "Next, we select the relevant variables we want to use (this will ease the plotting process).\n",
    "\n",
    "We only use the variable `homeownership`"
   ]
  },
  {
   "cell_type": "code",
   "execution_count": 7,
   "metadata": {
    "slideshow": {
     "slide_type": "subslide"
    }
   },
   "outputs": [],
   "source": [
    "# make a list of variables you want to use\n",
    "var_list = ['homeownership']\n",
    "\n",
    "# create a new dataframe called source with only var_list\n",
    "source = df[var_list]"
   ]
  },
  {
   "cell_type": "markdown",
   "metadata": {
    "slideshow": {
     "slide_type": "slide"
    }
   },
   "source": [
    "## Analysis"
   ]
  },
  {
   "cell_type": "markdown",
   "metadata": {
    "slideshow": {
     "slide_type": "fragment"
    }
   },
   "source": [
    "We start our analysis with Altair, a declarative statistical visualization library for Python, based on Vega and Vega-Lite.\n",
    "\n",
    "Altair charts work out-of-the-box on Jupyter Notebook, so long as there is a **web connection** to load the required javascript libraries."
   ]
  },
  {
   "cell_type": "markdown",
   "metadata": {
    "slideshow": {
     "slide_type": "fragment"
    }
   },
   "source": [
    "Here is an example of using the Altair API (foo is a placeholder):\n",
    "\n",
    "\n",
    "**a**lt.**C**hart().**m**ark_foo().**e**ncode() \n",
    "\n",
    "\n",
    "*You can remember the order of code blocks with the acronym \"**a.C.m.e**\"*"
   ]
  },
  {
   "cell_type": "markdown",
   "metadata": {
    "slideshow": {
     "slide_type": "fragment"
    }
   },
   "source": [
    "```python\n",
    "alt.Chart(DATAFRAME).mark_PLOT().encode(\n",
    "    x=alt.X('VARIABLE'),\n",
    "    y=alt.Y('VARIABLE')\n",
    ")\n",
    "\n",
    "```\n",
    "\n",
    "replace\n",
    "\n",
    "- DATAFRAME with your data (e.g., `source` or `df`)\n",
    "- PLOT with the plot type of your choice (e.g., `bar` or `circle`)\n",
    "- VARIABLE with the varible name you want to plot"
   ]
  },
  {
   "cell_type": "markdown",
   "metadata": {
    "slideshow": {
     "slide_type": "slide"
    }
   },
   "source": [
    "### Standard bar chart"
   ]
  },
  {
   "cell_type": "code",
   "execution_count": 8,
   "metadata": {
    "scrolled": true,
    "slideshow": {
     "slide_type": "subslide"
    }
   },
   "outputs": [
    {
     "data": {
      "text/html": [
       "\n",
       "<div id=\"altair-viz-5958aa00d5cc4ca080d5a02b0582c276\"></div>\n",
       "<script type=\"text/javascript\">\n",
       "  var VEGA_DEBUG = (typeof VEGA_DEBUG == \"undefined\") ? {} : VEGA_DEBUG;\n",
       "  (function(spec, embedOpt){\n",
       "    let outputDiv = document.currentScript.previousElementSibling;\n",
       "    if (outputDiv.id !== \"altair-viz-5958aa00d5cc4ca080d5a02b0582c276\") {\n",
       "      outputDiv = document.getElementById(\"altair-viz-5958aa00d5cc4ca080d5a02b0582c276\");\n",
       "    }\n",
       "    const paths = {\n",
       "      \"vega\": \"https://cdn.jsdelivr.net/npm/vega@5?noext\",\n",
       "      \"vega-lib\": \"https://cdn.jsdelivr.net/npm/vega-lib?noext\",\n",
       "      \"vega-lite\": \"https://cdn.jsdelivr.net/npm/vega-lite@5.6.1?noext\",\n",
       "      \"vega-embed\": \"https://cdn.jsdelivr.net/npm/vega-embed@6?noext\",\n",
       "    };\n",
       "\n",
       "    function maybeLoadScript(lib, version) {\n",
       "      var key = `${lib.replace(\"-\", \"\")}_version`;\n",
       "      return (VEGA_DEBUG[key] == version) ?\n",
       "        Promise.resolve(paths[lib]) :\n",
       "        new Promise(function(resolve, reject) {\n",
       "          var s = document.createElement('script');\n",
       "          document.getElementsByTagName(\"head\")[0].appendChild(s);\n",
       "          s.async = true;\n",
       "          s.onload = () => {\n",
       "            VEGA_DEBUG[key] = version;\n",
       "            return resolve(paths[lib]);\n",
       "          };\n",
       "          s.onerror = () => reject(`Error loading script: ${paths[lib]}`);\n",
       "          s.src = paths[lib];\n",
       "        });\n",
       "    }\n",
       "\n",
       "    function showError(err) {\n",
       "      outputDiv.innerHTML = `<div class=\"error\" style=\"color:red;\">${err}</div>`;\n",
       "      throw err;\n",
       "    }\n",
       "\n",
       "    function displayChart(vegaEmbed) {\n",
       "      vegaEmbed(outputDiv, spec, embedOpt)\n",
       "        .catch(err => showError(`Javascript Error: ${err.message}<br>This usually means there's a typo in your chart specification. See the javascript console for the full traceback.`));\n",
       "    }\n",
       "\n",
       "    if(typeof define === \"function\" && define.amd) {\n",
       "      requirejs.config({paths});\n",
       "      require([\"vega-embed\"], displayChart, err => showError(`Error loading script: ${err.message}`));\n",
       "    } else {\n",
       "      maybeLoadScript(\"vega\", \"5\")\n",
       "        .then(() => maybeLoadScript(\"vega-lite\", \"5.6.1\"))\n",
       "        .then(() => maybeLoadScript(\"vega-embed\", \"6\"))\n",
       "        .catch(showError)\n",
       "        .then(() => displayChart(vegaEmbed));\n",
       "    }\n",
       "  })({\"config\": {\"view\": {\"continuousWidth\": 300, \"continuousHeight\": 300}}, \"data\": {\"name\": \"data-b2c8afca0e0d20ad88220754b4a4f801\"}, \"mark\": {\"type\": \"bar\"}, \"encoding\": {\"x\": {\"field\": \"homeownership\", \"type\": \"nominal\"}, \"y\": {\"aggregate\": \"count\", \"field\": \"homeownership\", \"type\": \"nominal\"}}, \"$schema\": \"https://vega.github.io/schema/vega-lite/v5.6.1.json\", \"datasets\": {\"data-b2c8afca0e0d20ad88220754b4a4f801\": [{\"homeownership\": \"rent\"}, {\"homeownership\": \"rent\"}, {\"homeownership\": \"mortgage\"}, {\"homeownership\": \"rent\"}, {\"homeownership\": \"mortgage\"}, {\"homeownership\": \"mortgage\"}, {\"homeownership\": \"rent\"}, {\"homeownership\": \"mortgage\"}, {\"homeownership\": \"rent\"}, {\"homeownership\": \"mortgage\"}, {\"homeownership\": \"rent\"}, {\"homeownership\": \"mortgage\"}, {\"homeownership\": \"rent\"}, {\"homeownership\": \"mortgage\"}, {\"homeownership\": \"rent\"}, {\"homeownership\": \"mortgage\"}, {\"homeownership\": \"rent\"}, {\"homeownership\": \"rent\"}, {\"homeownership\": \"rent\"}, {\"homeownership\": \"mortgage\"}, {\"homeownership\": \"mortgage\"}, {\"homeownership\": \"mortgage\"}, {\"homeownership\": \"mortgage\"}, {\"homeownership\": \"rent\"}, {\"homeownership\": \"mortgage\"}, {\"homeownership\": \"rent\"}, {\"homeownership\": \"mortgage\"}, {\"homeownership\": \"own\"}, {\"homeownership\": \"mortgage\"}, {\"homeownership\": \"mortgage\"}, {\"homeownership\": \"rent\"}, {\"homeownership\": \"mortgage\"}, {\"homeownership\": \"mortgage\"}, {\"homeownership\": \"rent\"}, {\"homeownership\": \"rent\"}, {\"homeownership\": \"own\"}, {\"homeownership\": \"mortgage\"}, {\"homeownership\": \"rent\"}, {\"homeownership\": \"mortgage\"}, {\"homeownership\": \"rent\"}, {\"homeownership\": \"mortgage\"}, {\"homeownership\": \"rent\"}, {\"homeownership\": \"rent\"}, {\"homeownership\": \"mortgage\"}, {\"homeownership\": \"mortgage\"}, {\"homeownership\": \"mortgage\"}, {\"homeownership\": \"mortgage\"}, {\"homeownership\": \"rent\"}, {\"homeownership\": \"own\"}, {\"homeownership\": \"mortgage\"}]}}, {\"mode\": \"vega-lite\"});\n",
       "</script>"
      ],
      "text/plain": [
       "alt.Chart(...)"
      ]
     },
     "execution_count": 8,
     "metadata": {},
     "output_type": "execute_result"
    }
   ],
   "source": [
    "alt.Chart(source).mark_bar().encode(\n",
    "    x=alt.X('homeownership'),\n",
    "    y=alt.Y('homeownership', aggregate='count')\n",
    ")"
   ]
  },
  {
   "cell_type": "markdown",
   "metadata": {
    "slideshow": {
     "slide_type": "slide"
    }
   },
   "source": [
    "### Sorted bar chart"
   ]
  },
  {
   "cell_type": "code",
   "execution_count": 9,
   "metadata": {
    "slideshow": {
     "slide_type": "subslide"
    }
   },
   "outputs": [
    {
     "data": {
      "text/html": [
       "\n",
       "<div id=\"altair-viz-dfc7d2c5b5eb49c687d645290b73090c\"></div>\n",
       "<script type=\"text/javascript\">\n",
       "  var VEGA_DEBUG = (typeof VEGA_DEBUG == \"undefined\") ? {} : VEGA_DEBUG;\n",
       "  (function(spec, embedOpt){\n",
       "    let outputDiv = document.currentScript.previousElementSibling;\n",
       "    if (outputDiv.id !== \"altair-viz-dfc7d2c5b5eb49c687d645290b73090c\") {\n",
       "      outputDiv = document.getElementById(\"altair-viz-dfc7d2c5b5eb49c687d645290b73090c\");\n",
       "    }\n",
       "    const paths = {\n",
       "      \"vega\": \"https://cdn.jsdelivr.net/npm/vega@5?noext\",\n",
       "      \"vega-lib\": \"https://cdn.jsdelivr.net/npm/vega-lib?noext\",\n",
       "      \"vega-lite\": \"https://cdn.jsdelivr.net/npm/vega-lite@5.6.1?noext\",\n",
       "      \"vega-embed\": \"https://cdn.jsdelivr.net/npm/vega-embed@6?noext\",\n",
       "    };\n",
       "\n",
       "    function maybeLoadScript(lib, version) {\n",
       "      var key = `${lib.replace(\"-\", \"\")}_version`;\n",
       "      return (VEGA_DEBUG[key] == version) ?\n",
       "        Promise.resolve(paths[lib]) :\n",
       "        new Promise(function(resolve, reject) {\n",
       "          var s = document.createElement('script');\n",
       "          document.getElementsByTagName(\"head\")[0].appendChild(s);\n",
       "          s.async = true;\n",
       "          s.onload = () => {\n",
       "            VEGA_DEBUG[key] = version;\n",
       "            return resolve(paths[lib]);\n",
       "          };\n",
       "          s.onerror = () => reject(`Error loading script: ${paths[lib]}`);\n",
       "          s.src = paths[lib];\n",
       "        });\n",
       "    }\n",
       "\n",
       "    function showError(err) {\n",
       "      outputDiv.innerHTML = `<div class=\"error\" style=\"color:red;\">${err}</div>`;\n",
       "      throw err;\n",
       "    }\n",
       "\n",
       "    function displayChart(vegaEmbed) {\n",
       "      vegaEmbed(outputDiv, spec, embedOpt)\n",
       "        .catch(err => showError(`Javascript Error: ${err.message}<br>This usually means there's a typo in your chart specification. See the javascript console for the full traceback.`));\n",
       "    }\n",
       "\n",
       "    if(typeof define === \"function\" && define.amd) {\n",
       "      requirejs.config({paths});\n",
       "      require([\"vega-embed\"], displayChart, err => showError(`Error loading script: ${err.message}`));\n",
       "    } else {\n",
       "      maybeLoadScript(\"vega\", \"5\")\n",
       "        .then(() => maybeLoadScript(\"vega-lite\", \"5.6.1\"))\n",
       "        .then(() => maybeLoadScript(\"vega-embed\", \"6\"))\n",
       "        .catch(showError)\n",
       "        .then(() => displayChart(vegaEmbed));\n",
       "    }\n",
       "  })({\"config\": {\"view\": {\"continuousWidth\": 300, \"continuousHeight\": 300}}, \"data\": {\"name\": \"data-b2c8afca0e0d20ad88220754b4a4f801\"}, \"mark\": {\"type\": \"bar\"}, \"encoding\": {\"x\": {\"field\": \"homeownership\", \"sort\": \"-y\", \"type\": \"nominal\"}, \"y\": {\"aggregate\": \"count\", \"field\": \"homeownership\", \"type\": \"nominal\"}}, \"$schema\": \"https://vega.github.io/schema/vega-lite/v5.6.1.json\", \"datasets\": {\"data-b2c8afca0e0d20ad88220754b4a4f801\": [{\"homeownership\": \"rent\"}, {\"homeownership\": \"rent\"}, {\"homeownership\": \"mortgage\"}, {\"homeownership\": \"rent\"}, {\"homeownership\": \"mortgage\"}, {\"homeownership\": \"mortgage\"}, {\"homeownership\": \"rent\"}, {\"homeownership\": \"mortgage\"}, {\"homeownership\": \"rent\"}, {\"homeownership\": \"mortgage\"}, {\"homeownership\": \"rent\"}, {\"homeownership\": \"mortgage\"}, {\"homeownership\": \"rent\"}, {\"homeownership\": \"mortgage\"}, {\"homeownership\": \"rent\"}, {\"homeownership\": \"mortgage\"}, {\"homeownership\": \"rent\"}, {\"homeownership\": \"rent\"}, {\"homeownership\": \"rent\"}, {\"homeownership\": \"mortgage\"}, {\"homeownership\": \"mortgage\"}, {\"homeownership\": \"mortgage\"}, {\"homeownership\": \"mortgage\"}, {\"homeownership\": \"rent\"}, {\"homeownership\": \"mortgage\"}, {\"homeownership\": \"rent\"}, {\"homeownership\": \"mortgage\"}, {\"homeownership\": \"own\"}, {\"homeownership\": \"mortgage\"}, {\"homeownership\": \"mortgage\"}, {\"homeownership\": \"rent\"}, {\"homeownership\": \"mortgage\"}, {\"homeownership\": \"mortgage\"}, {\"homeownership\": \"rent\"}, {\"homeownership\": \"rent\"}, {\"homeownership\": \"own\"}, {\"homeownership\": \"mortgage\"}, {\"homeownership\": \"rent\"}, {\"homeownership\": \"mortgage\"}, {\"homeownership\": \"rent\"}, {\"homeownership\": \"mortgage\"}, {\"homeownership\": \"rent\"}, {\"homeownership\": \"rent\"}, {\"homeownership\": \"mortgage\"}, {\"homeownership\": \"mortgage\"}, {\"homeownership\": \"mortgage\"}, {\"homeownership\": \"mortgage\"}, {\"homeownership\": \"rent\"}, {\"homeownership\": \"own\"}, {\"homeownership\": \"mortgage\"}]}}, {\"mode\": \"vega-lite\"});\n",
       "</script>"
      ],
      "text/plain": [
       "alt.Chart(...)"
      ]
     },
     "execution_count": 9,
     "metadata": {},
     "output_type": "execute_result"
    }
   ],
   "source": [
    "alt.Chart(source).mark_bar().encode(\n",
    "    x=alt.X('homeownership').sort('-y'), # sort\n",
    "    y=alt.Y('homeownership', aggregate='count')\n",
    ")"
   ]
  },
  {
   "cell_type": "markdown",
   "metadata": {
    "slideshow": {
     "slide_type": "slide"
    }
   },
   "source": [
    "### Bar chart with properties"
   ]
  },
  {
   "cell_type": "code",
   "execution_count": 10,
   "metadata": {
    "slideshow": {
     "slide_type": "subslide"
    }
   },
   "outputs": [
    {
     "data": {
      "text/html": [
       "\n",
       "<div id=\"altair-viz-521280de913145a28c44281779b27d3d\"></div>\n",
       "<script type=\"text/javascript\">\n",
       "  var VEGA_DEBUG = (typeof VEGA_DEBUG == \"undefined\") ? {} : VEGA_DEBUG;\n",
       "  (function(spec, embedOpt){\n",
       "    let outputDiv = document.currentScript.previousElementSibling;\n",
       "    if (outputDiv.id !== \"altair-viz-521280de913145a28c44281779b27d3d\") {\n",
       "      outputDiv = document.getElementById(\"altair-viz-521280de913145a28c44281779b27d3d\");\n",
       "    }\n",
       "    const paths = {\n",
       "      \"vega\": \"https://cdn.jsdelivr.net/npm/vega@5?noext\",\n",
       "      \"vega-lib\": \"https://cdn.jsdelivr.net/npm/vega-lib?noext\",\n",
       "      \"vega-lite\": \"https://cdn.jsdelivr.net/npm/vega-lite@5.6.1?noext\",\n",
       "      \"vega-embed\": \"https://cdn.jsdelivr.net/npm/vega-embed@6?noext\",\n",
       "    };\n",
       "\n",
       "    function maybeLoadScript(lib, version) {\n",
       "      var key = `${lib.replace(\"-\", \"\")}_version`;\n",
       "      return (VEGA_DEBUG[key] == version) ?\n",
       "        Promise.resolve(paths[lib]) :\n",
       "        new Promise(function(resolve, reject) {\n",
       "          var s = document.createElement('script');\n",
       "          document.getElementsByTagName(\"head\")[0].appendChild(s);\n",
       "          s.async = true;\n",
       "          s.onload = () => {\n",
       "            VEGA_DEBUG[key] = version;\n",
       "            return resolve(paths[lib]);\n",
       "          };\n",
       "          s.onerror = () => reject(`Error loading script: ${paths[lib]}`);\n",
       "          s.src = paths[lib];\n",
       "        });\n",
       "    }\n",
       "\n",
       "    function showError(err) {\n",
       "      outputDiv.innerHTML = `<div class=\"error\" style=\"color:red;\">${err}</div>`;\n",
       "      throw err;\n",
       "    }\n",
       "\n",
       "    function displayChart(vegaEmbed) {\n",
       "      vegaEmbed(outputDiv, spec, embedOpt)\n",
       "        .catch(err => showError(`Javascript Error: ${err.message}<br>This usually means there's a typo in your chart specification. See the javascript console for the full traceback.`));\n",
       "    }\n",
       "\n",
       "    if(typeof define === \"function\" && define.amd) {\n",
       "      requirejs.config({paths});\n",
       "      require([\"vega-embed\"], displayChart, err => showError(`Error loading script: ${err.message}`));\n",
       "    } else {\n",
       "      maybeLoadScript(\"vega\", \"5\")\n",
       "        .then(() => maybeLoadScript(\"vega-lite\", \"5.6.1\"))\n",
       "        .then(() => maybeLoadScript(\"vega-embed\", \"6\"))\n",
       "        .catch(showError)\n",
       "        .then(() => displayChart(vegaEmbed));\n",
       "    }\n",
       "  })({\"config\": {\"view\": {\"continuousWidth\": 300, \"continuousHeight\": 300}}, \"data\": {\"name\": \"data-b2c8afca0e0d20ad88220754b4a4f801\"}, \"mark\": {\"type\": \"bar\"}, \"encoding\": {\"x\": {\"field\": \"homeownership\", \"sort\": \"-y\", \"type\": \"nominal\"}, \"y\": {\"aggregate\": \"count\", \"field\": \"homeownership\", \"type\": \"nominal\"}}, \"height\": 300, \"title\": \"This is a simple bar chart\", \"width\": 400, \"$schema\": \"https://vega.github.io/schema/vega-lite/v5.6.1.json\", \"datasets\": {\"data-b2c8afca0e0d20ad88220754b4a4f801\": [{\"homeownership\": \"rent\"}, {\"homeownership\": \"rent\"}, {\"homeownership\": \"mortgage\"}, {\"homeownership\": \"rent\"}, {\"homeownership\": \"mortgage\"}, {\"homeownership\": \"mortgage\"}, {\"homeownership\": \"rent\"}, {\"homeownership\": \"mortgage\"}, {\"homeownership\": \"rent\"}, {\"homeownership\": \"mortgage\"}, {\"homeownership\": \"rent\"}, {\"homeownership\": \"mortgage\"}, {\"homeownership\": \"rent\"}, {\"homeownership\": \"mortgage\"}, {\"homeownership\": \"rent\"}, {\"homeownership\": \"mortgage\"}, {\"homeownership\": \"rent\"}, {\"homeownership\": \"rent\"}, {\"homeownership\": \"rent\"}, {\"homeownership\": \"mortgage\"}, {\"homeownership\": \"mortgage\"}, {\"homeownership\": \"mortgage\"}, {\"homeownership\": \"mortgage\"}, {\"homeownership\": \"rent\"}, {\"homeownership\": \"mortgage\"}, {\"homeownership\": \"rent\"}, {\"homeownership\": \"mortgage\"}, {\"homeownership\": \"own\"}, {\"homeownership\": \"mortgage\"}, {\"homeownership\": \"mortgage\"}, {\"homeownership\": \"rent\"}, {\"homeownership\": \"mortgage\"}, {\"homeownership\": \"mortgage\"}, {\"homeownership\": \"rent\"}, {\"homeownership\": \"rent\"}, {\"homeownership\": \"own\"}, {\"homeownership\": \"mortgage\"}, {\"homeownership\": \"rent\"}, {\"homeownership\": \"mortgage\"}, {\"homeownership\": \"rent\"}, {\"homeownership\": \"mortgage\"}, {\"homeownership\": \"rent\"}, {\"homeownership\": \"rent\"}, {\"homeownership\": \"mortgage\"}, {\"homeownership\": \"mortgage\"}, {\"homeownership\": \"mortgage\"}, {\"homeownership\": \"mortgage\"}, {\"homeownership\": \"rent\"}, {\"homeownership\": \"own\"}, {\"homeownership\": \"mortgage\"}]}}, {\"mode\": \"vega-lite\"});\n",
       "</script>"
      ],
      "text/plain": [
       "alt.Chart(...)"
      ]
     },
     "execution_count": 10,
     "metadata": {},
     "output_type": "execute_result"
    }
   ],
   "source": [
    "alt.Chart(source).mark_bar().encode(\n",
    "    x=alt.X('homeownership').sort('-y'),\n",
    "    y=alt.Y('homeownership', aggregate='count')\n",
    ").properties( # properties\n",
    "    title='This is a simple bar chart',\n",
    "    width=400,\n",
    "    height=300\n",
    ")"
   ]
  },
  {
   "cell_type": "markdown",
   "metadata": {
    "slideshow": {
     "slide_type": "slide"
    }
   },
   "source": [
    "### Bar chart with custom axes"
   ]
  },
  {
   "cell_type": "code",
   "execution_count": 11,
   "metadata": {
    "slideshow": {
     "slide_type": "subslide"
    }
   },
   "outputs": [
    {
     "data": {
      "text/html": [
       "\n",
       "<div id=\"altair-viz-78725225a4bf4f39bd9497e83b09ea7d\"></div>\n",
       "<script type=\"text/javascript\">\n",
       "  var VEGA_DEBUG = (typeof VEGA_DEBUG == \"undefined\") ? {} : VEGA_DEBUG;\n",
       "  (function(spec, embedOpt){\n",
       "    let outputDiv = document.currentScript.previousElementSibling;\n",
       "    if (outputDiv.id !== \"altair-viz-78725225a4bf4f39bd9497e83b09ea7d\") {\n",
       "      outputDiv = document.getElementById(\"altair-viz-78725225a4bf4f39bd9497e83b09ea7d\");\n",
       "    }\n",
       "    const paths = {\n",
       "      \"vega\": \"https://cdn.jsdelivr.net/npm/vega@5?noext\",\n",
       "      \"vega-lib\": \"https://cdn.jsdelivr.net/npm/vega-lib?noext\",\n",
       "      \"vega-lite\": \"https://cdn.jsdelivr.net/npm/vega-lite@5.6.1?noext\",\n",
       "      \"vega-embed\": \"https://cdn.jsdelivr.net/npm/vega-embed@6?noext\",\n",
       "    };\n",
       "\n",
       "    function maybeLoadScript(lib, version) {\n",
       "      var key = `${lib.replace(\"-\", \"\")}_version`;\n",
       "      return (VEGA_DEBUG[key] == version) ?\n",
       "        Promise.resolve(paths[lib]) :\n",
       "        new Promise(function(resolve, reject) {\n",
       "          var s = document.createElement('script');\n",
       "          document.getElementsByTagName(\"head\")[0].appendChild(s);\n",
       "          s.async = true;\n",
       "          s.onload = () => {\n",
       "            VEGA_DEBUG[key] = version;\n",
       "            return resolve(paths[lib]);\n",
       "          };\n",
       "          s.onerror = () => reject(`Error loading script: ${paths[lib]}`);\n",
       "          s.src = paths[lib];\n",
       "        });\n",
       "    }\n",
       "\n",
       "    function showError(err) {\n",
       "      outputDiv.innerHTML = `<div class=\"error\" style=\"color:red;\">${err}</div>`;\n",
       "      throw err;\n",
       "    }\n",
       "\n",
       "    function displayChart(vegaEmbed) {\n",
       "      vegaEmbed(outputDiv, spec, embedOpt)\n",
       "        .catch(err => showError(`Javascript Error: ${err.message}<br>This usually means there's a typo in your chart specification. See the javascript console for the full traceback.`));\n",
       "    }\n",
       "\n",
       "    if(typeof define === \"function\" && define.amd) {\n",
       "      requirejs.config({paths});\n",
       "      require([\"vega-embed\"], displayChart, err => showError(`Error loading script: ${err.message}`));\n",
       "    } else {\n",
       "      maybeLoadScript(\"vega\", \"5\")\n",
       "        .then(() => maybeLoadScript(\"vega-lite\", \"5.6.1\"))\n",
       "        .then(() => maybeLoadScript(\"vega-embed\", \"6\"))\n",
       "        .catch(showError)\n",
       "        .then(() => displayChart(vegaEmbed));\n",
       "    }\n",
       "  })({\"config\": {\"view\": {\"continuousWidth\": 300, \"continuousHeight\": 300}}, \"data\": {\"name\": \"data-b2c8afca0e0d20ad88220754b4a4f801\"}, \"mark\": {\"type\": \"bar\"}, \"encoding\": {\"x\": {\"axis\": {\"title\": \"Homeownership\", \"labelAngle\": 0, \"titleAnchor\": \"start\"}, \"field\": \"homeownership\", \"sort\": \"-y\", \"type\": \"nominal\"}, \"y\": {\"aggregate\": \"count\", \"axis\": {\"title\": \"Count\", \"titleAnchor\": \"end\"}, \"field\": \"homeownership\", \"type\": \"nominal\"}}, \"height\": 300, \"title\": \"This is a bar chart with custom axes\", \"width\": 400, \"$schema\": \"https://vega.github.io/schema/vega-lite/v5.6.1.json\", \"datasets\": {\"data-b2c8afca0e0d20ad88220754b4a4f801\": [{\"homeownership\": \"rent\"}, {\"homeownership\": \"rent\"}, {\"homeownership\": \"mortgage\"}, {\"homeownership\": \"rent\"}, {\"homeownership\": \"mortgage\"}, {\"homeownership\": \"mortgage\"}, {\"homeownership\": \"rent\"}, {\"homeownership\": \"mortgage\"}, {\"homeownership\": \"rent\"}, {\"homeownership\": \"mortgage\"}, {\"homeownership\": \"rent\"}, {\"homeownership\": \"mortgage\"}, {\"homeownership\": \"rent\"}, {\"homeownership\": \"mortgage\"}, {\"homeownership\": \"rent\"}, {\"homeownership\": \"mortgage\"}, {\"homeownership\": \"rent\"}, {\"homeownership\": \"rent\"}, {\"homeownership\": \"rent\"}, {\"homeownership\": \"mortgage\"}, {\"homeownership\": \"mortgage\"}, {\"homeownership\": \"mortgage\"}, {\"homeownership\": \"mortgage\"}, {\"homeownership\": \"rent\"}, {\"homeownership\": \"mortgage\"}, {\"homeownership\": \"rent\"}, {\"homeownership\": \"mortgage\"}, {\"homeownership\": \"own\"}, {\"homeownership\": \"mortgage\"}, {\"homeownership\": \"mortgage\"}, {\"homeownership\": \"rent\"}, {\"homeownership\": \"mortgage\"}, {\"homeownership\": \"mortgage\"}, {\"homeownership\": \"rent\"}, {\"homeownership\": \"rent\"}, {\"homeownership\": \"own\"}, {\"homeownership\": \"mortgage\"}, {\"homeownership\": \"rent\"}, {\"homeownership\": \"mortgage\"}, {\"homeownership\": \"rent\"}, {\"homeownership\": \"mortgage\"}, {\"homeownership\": \"rent\"}, {\"homeownership\": \"rent\"}, {\"homeownership\": \"mortgage\"}, {\"homeownership\": \"mortgage\"}, {\"homeownership\": \"mortgage\"}, {\"homeownership\": \"mortgage\"}, {\"homeownership\": \"rent\"}, {\"homeownership\": \"own\"}, {\"homeownership\": \"mortgage\"}]}}, {\"mode\": \"vega-lite\"});\n",
       "</script>"
      ],
      "text/plain": [
       "alt.Chart(...)"
      ]
     },
     "execution_count": 11,
     "metadata": {},
     "output_type": "execute_result"
    }
   ],
   "source": [
    "alt.Chart(source).mark_bar().encode(\n",
    "    x=alt.X('homeownership').sort('-y').axis(\n",
    "        title=\"Homeownership\", # title of x axis\n",
    "        labelAngle=0, # angle of x axis text\n",
    "        titleAnchor=\"start\"), # adjustment of text\n",
    "    y=alt.Y('homeownership', aggregate='count').axis(\n",
    "        title = \"Count\",\n",
    "        titleAnchor=\"end\")\n",
    ").properties(\n",
    "    title='This is a bar chart with custom axes',\n",
    "    width=400,\n",
    "    height=300\n",
    ")"
   ]
  },
  {
   "cell_type": "markdown",
   "metadata": {
    "slideshow": {
     "slide_type": "slide"
    }
   },
   "source": [
    "### Bar chart with custom axes and title"
   ]
  },
  {
   "cell_type": "code",
   "execution_count": 12,
   "metadata": {
    "slideshow": {
     "slide_type": "subslide"
    }
   },
   "outputs": [
    {
     "data": {
      "text/html": [
       "\n",
       "<div id=\"altair-viz-b9c8005361504019b21520c8a789fdf1\"></div>\n",
       "<script type=\"text/javascript\">\n",
       "  var VEGA_DEBUG = (typeof VEGA_DEBUG == \"undefined\") ? {} : VEGA_DEBUG;\n",
       "  (function(spec, embedOpt){\n",
       "    let outputDiv = document.currentScript.previousElementSibling;\n",
       "    if (outputDiv.id !== \"altair-viz-b9c8005361504019b21520c8a789fdf1\") {\n",
       "      outputDiv = document.getElementById(\"altair-viz-b9c8005361504019b21520c8a789fdf1\");\n",
       "    }\n",
       "    const paths = {\n",
       "      \"vega\": \"https://cdn.jsdelivr.net/npm/vega@5?noext\",\n",
       "      \"vega-lib\": \"https://cdn.jsdelivr.net/npm/vega-lib?noext\",\n",
       "      \"vega-lite\": \"https://cdn.jsdelivr.net/npm/vega-lite@5.6.1?noext\",\n",
       "      \"vega-embed\": \"https://cdn.jsdelivr.net/npm/vega-embed@6?noext\",\n",
       "    };\n",
       "\n",
       "    function maybeLoadScript(lib, version) {\n",
       "      var key = `${lib.replace(\"-\", \"\")}_version`;\n",
       "      return (VEGA_DEBUG[key] == version) ?\n",
       "        Promise.resolve(paths[lib]) :\n",
       "        new Promise(function(resolve, reject) {\n",
       "          var s = document.createElement('script');\n",
       "          document.getElementsByTagName(\"head\")[0].appendChild(s);\n",
       "          s.async = true;\n",
       "          s.onload = () => {\n",
       "            VEGA_DEBUG[key] = version;\n",
       "            return resolve(paths[lib]);\n",
       "          };\n",
       "          s.onerror = () => reject(`Error loading script: ${paths[lib]}`);\n",
       "          s.src = paths[lib];\n",
       "        });\n",
       "    }\n",
       "\n",
       "    function showError(err) {\n",
       "      outputDiv.innerHTML = `<div class=\"error\" style=\"color:red;\">${err}</div>`;\n",
       "      throw err;\n",
       "    }\n",
       "\n",
       "    function displayChart(vegaEmbed) {\n",
       "      vegaEmbed(outputDiv, spec, embedOpt)\n",
       "        .catch(err => showError(`Javascript Error: ${err.message}<br>This usually means there's a typo in your chart specification. See the javascript console for the full traceback.`));\n",
       "    }\n",
       "\n",
       "    if(typeof define === \"function\" && define.amd) {\n",
       "      requirejs.config({paths});\n",
       "      require([\"vega-embed\"], displayChart, err => showError(`Error loading script: ${err.message}`));\n",
       "    } else {\n",
       "      maybeLoadScript(\"vega\", \"5\")\n",
       "        .then(() => maybeLoadScript(\"vega-lite\", \"5.6.1\"))\n",
       "        .then(() => maybeLoadScript(\"vega-embed\", \"6\"))\n",
       "        .catch(showError)\n",
       "        .then(() => displayChart(vegaEmbed));\n",
       "    }\n",
       "  })({\"config\": {\"view\": {\"continuousWidth\": 300, \"continuousHeight\": 300, \"strokeWidth\": 0}, \"title\": {\"anchor\": \"start\", \"color\": \"black\", \"font\": \"Arial\", \"fontSize\": 20}}, \"data\": {\"name\": \"data-b2c8afca0e0d20ad88220754b4a4f801\"}, \"mark\": {\"type\": \"bar\"}, \"encoding\": {\"x\": {\"axis\": {\"title\": \"Homeownership\", \"labelAngle\": 0, \"titleAnchor\": \"start\"}, \"field\": \"homeownership\", \"sort\": \"-y\", \"type\": \"nominal\"}, \"y\": {\"aggregate\": \"count\", \"axis\": {\"title\": \"Count\", \"titleAnchor\": \"end\", \"grid\": false}, \"field\": \"homeownership\", \"type\": \"nominal\"}}, \"height\": 300, \"title\": \"This is a bar chart with custom axes and title\", \"width\": 400, \"$schema\": \"https://vega.github.io/schema/vega-lite/v5.6.1.json\", \"datasets\": {\"data-b2c8afca0e0d20ad88220754b4a4f801\": [{\"homeownership\": \"rent\"}, {\"homeownership\": \"rent\"}, {\"homeownership\": \"mortgage\"}, {\"homeownership\": \"rent\"}, {\"homeownership\": \"mortgage\"}, {\"homeownership\": \"mortgage\"}, {\"homeownership\": \"rent\"}, {\"homeownership\": \"mortgage\"}, {\"homeownership\": \"rent\"}, {\"homeownership\": \"mortgage\"}, {\"homeownership\": \"rent\"}, {\"homeownership\": \"mortgage\"}, {\"homeownership\": \"rent\"}, {\"homeownership\": \"mortgage\"}, {\"homeownership\": \"rent\"}, {\"homeownership\": \"mortgage\"}, {\"homeownership\": \"rent\"}, {\"homeownership\": \"rent\"}, {\"homeownership\": \"rent\"}, {\"homeownership\": \"mortgage\"}, {\"homeownership\": \"mortgage\"}, {\"homeownership\": \"mortgage\"}, {\"homeownership\": \"mortgage\"}, {\"homeownership\": \"rent\"}, {\"homeownership\": \"mortgage\"}, {\"homeownership\": \"rent\"}, {\"homeownership\": \"mortgage\"}, {\"homeownership\": \"own\"}, {\"homeownership\": \"mortgage\"}, {\"homeownership\": \"mortgage\"}, {\"homeownership\": \"rent\"}, {\"homeownership\": \"mortgage\"}, {\"homeownership\": \"mortgage\"}, {\"homeownership\": \"rent\"}, {\"homeownership\": \"rent\"}, {\"homeownership\": \"own\"}, {\"homeownership\": \"mortgage\"}, {\"homeownership\": \"rent\"}, {\"homeownership\": \"mortgage\"}, {\"homeownership\": \"rent\"}, {\"homeownership\": \"mortgage\"}, {\"homeownership\": \"rent\"}, {\"homeownership\": \"rent\"}, {\"homeownership\": \"mortgage\"}, {\"homeownership\": \"mortgage\"}, {\"homeownership\": \"mortgage\"}, {\"homeownership\": \"mortgage\"}, {\"homeownership\": \"rent\"}, {\"homeownership\": \"own\"}, {\"homeownership\": \"mortgage\"}]}}, {\"mode\": \"vega-lite\"});\n",
       "</script>"
      ],
      "text/plain": [
       "alt.Chart(...)"
      ]
     },
     "execution_count": 12,
     "metadata": {},
     "output_type": "execute_result"
    }
   ],
   "source": [
    "alt.Chart(source).mark_bar().encode(\n",
    "    x=alt.X('homeownership').sort('-y').axis(\n",
    "        title=\"Homeownership\", \n",
    "        labelAngle=0,\n",
    "        titleAnchor=\"start\"),\n",
    "    y=alt.Y('homeownership', aggregate='count').axis(\n",
    "        title = \"Count\",\n",
    "        titleAnchor=\"end\",\n",
    "        grid=False) # no grid\n",
    ").properties(\n",
    "    title='This is a bar chart with custom axes and title',\n",
    "    width=400,\n",
    "    height=300\n",
    ").configure_title( # custom title\n",
    "    fontSize=20,\n",
    "    font='Arial',\n",
    "    color='black',\n",
    "    anchor='start'\n",
    ").configure_view(strokeWidth=0) # no border"
   ]
  }
 ],
 "metadata": {
  "celltoolbar": "Slideshow",
  "kernelspec": {
   "display_name": "Python 3 (ipykernel)",
   "language": "python",
   "name": "python3"
  },
  "language_info": {
   "codemirror_mode": {
    "name": "ipython",
    "version": 3
   },
   "file_extension": ".py",
   "mimetype": "text/x-python",
   "name": "python",
   "nbconvert_exporter": "python",
   "pygments_lexer": "ipython3",
   "version": "3.11.3"
  },
  "varInspector": {
   "cols": {
    "lenName": 16,
    "lenType": 16,
    "lenVar": 40
   },
   "kernels_config": {
    "python": {
     "delete_cmd_postfix": "",
     "delete_cmd_prefix": "del ",
     "library": "var_list.py",
     "varRefreshCmd": "print(var_dic_list())"
    },
    "r": {
     "delete_cmd_postfix": ") ",
     "delete_cmd_prefix": "rm(",
     "library": "var_list.r",
     "varRefreshCmd": "cat(var_dic_list()) "
    }
   },
   "types_to_exclude": [
    "module",
    "function",
    "builtin_function_or_method",
    "instance",
    "_Feature"
   ],
   "window_display": false
  },
  "vscode": {
   "interpreter": {
    "hash": "57137d00906dcfc610b0009cd9be1d97c3b9b0b8cb7228e2ff7c7001d05affbc"
   }
  }
 },
 "nbformat": 4,
 "nbformat_minor": 2
}
