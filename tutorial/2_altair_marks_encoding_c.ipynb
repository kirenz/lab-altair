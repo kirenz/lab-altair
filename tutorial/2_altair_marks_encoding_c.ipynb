{
 "cells": [
  {
   "cell_type": "markdown",
   "metadata": {
    "colab_type": "text",
    "id": "IyWDKt1wJhjq",
    "slideshow": {
     "slide_type": "slide"
    }
   },
   "source": [
    "# Data Types, Graphical Marks, and Visual Encoding Channels"
   ]
  },
  {
   "cell_type": "code",
   "execution_count": 1,
   "metadata": {
    "colab": {},
    "colab_type": "code",
    "id": "Y5K12kFBKE6v",
    "slideshow": {
     "slide_type": "fragment"
    }
   },
   "outputs": [
    {
     "data": {
      "text/plain": [
       "'5.0.0rc1'"
      ]
     },
     "execution_count": 1,
     "metadata": {},
     "output_type": "execute_result"
    }
   ],
   "source": [
    "import pandas as pd\n",
    "import altair as alt\n",
    "from vega_datasets import data as vega_data\n",
    "\n",
    "alt.renderers.enable('mimetype')\n",
    "\n",
    "alt.__version__"
   ]
  },
  {
   "cell_type": "markdown",
   "metadata": {
    "colab_type": "text",
    "id": "dkfRE2_2KOZ9",
    "slideshow": {
     "slide_type": "slide"
    }
   },
   "source": [
    "## Data\n"
   ]
  },
  {
   "cell_type": "code",
   "execution_count": 2,
   "metadata": {
    "colab": {},
    "colab_type": "code",
    "id": "cMgPRofkJHJP",
    "slideshow": {
     "slide_type": "fragment"
    }
   },
   "outputs": [],
   "source": [
    "data = vega_data.gapminder()"
   ]
  },
  {
   "cell_type": "code",
   "execution_count": null,
   "metadata": {
    "colab": {
     "base_uri": "https://localhost:8080/",
     "height": 34
    },
    "colab_type": "code",
    "id": "oM-Lodk_KK8T",
    "outputId": "134a2f4a-c15d-4fcd-fd93-49b26a4f5e30",
    "slideshow": {
     "slide_type": "fragment"
    }
   },
   "outputs": [],
   "source": []
  },
  {
   "cell_type": "code",
   "execution_count": null,
   "metadata": {
    "colab": {
     "base_uri": "https://localhost:8080/",
     "height": 204
    },
    "colab_type": "code",
    "id": "SpB2dH0JKVJe",
    "outputId": "ec103505-4d8f-4310-a6e1-7eea3d789c28",
    "slideshow": {
     "slide_type": "slide"
    }
   },
   "outputs": [],
   "source": []
  },
  {
   "cell_type": "markdown",
   "metadata": {
    "colab_type": "text",
    "id": "nTSCOwsEvo15",
    "slideshow": {
     "slide_type": "slide"
    }
   },
   "source": [
    "Let's also create a smaller data frame, filtered down to values for the year 2000 only:"
   ]
  },
  {
   "cell_type": "code",
   "execution_count": 3,
   "metadata": {
    "colab": {},
    "colab_type": "code",
    "id": "kCVTdUK2Le_M",
    "slideshow": {
     "slide_type": "fragment"
    }
   },
   "outputs": [],
   "source": [
    "# data2000 = "
   ]
  },
  {
   "cell_type": "code",
   "execution_count": null,
   "metadata": {
    "colab": {
     "base_uri": "https://localhost:8080/",
     "height": 204
    },
    "colab_type": "code",
    "id": "mOLR5Nh-MLWm",
    "outputId": "8629f998-e723-4b92-9a95-f0df3c9843a8",
    "slideshow": {
     "slide_type": "subslide"
    }
   },
   "outputs": [],
   "source": []
  },
  {
   "cell_type": "markdown",
   "metadata": {
    "colab_type": "text",
    "id": "xyIb1bzLJgG-",
    "slideshow": {
     "slide_type": "slide"
    }
   },
   "source": [
    "### Data Types\n"
   ]
  },
  {
   "cell_type": "markdown",
   "metadata": {
    "colab_type": "text",
    "id": "vyj1xBF2NTY6",
    "slideshow": {
     "slide_type": "slide"
    }
   },
   "source": [
    "#### Nominal (N)"
   ]
  },
  {
   "cell_type": "markdown",
   "metadata": {
    "colab_type": "text",
    "id": "vyj1xBF2NTY6",
    "slideshow": {
     "slide_type": "slide"
    }
   },
   "source": [
    "#### Ordinal (O)"
   ]
  },
  {
   "cell_type": "markdown",
   "metadata": {
    "colab_type": "text",
    "id": "vyj1xBF2NTY6",
    "slideshow": {
     "slide_type": "slide"
    }
   },
   "source": [
    "#### Quantitative (Q)"
   ]
  },
  {
   "cell_type": "markdown",
   "metadata": {
    "colab_type": "text",
    "id": "vyj1xBF2NTY6",
    "slideshow": {
     "slide_type": "slide"
    }
   },
   "source": [
    "#### Temporal (T)"
   ]
  },
  {
   "cell_type": "markdown",
   "metadata": {
    "slideshow": {
     "slide_type": "slide"
    }
   },
   "source": [
    "## Global Config vs. Local Config vs. Encoding\n"
   ]
  },
  {
   "cell_type": "code",
   "execution_count": 4,
   "metadata": {
    "slideshow": {
     "slide_type": "subslide"
    }
   },
   "outputs": [
    {
     "data": {
      "application/vnd.vegalite.v5+json": {
       "$schema": "https://vega.github.io/schema/vega-lite/v5.6.1.json",
       "config": {
        "view": {
         "continuousHeight": 300,
         "continuousWidth": 300
        }
       },
       "data": {
        "url": "https://cdn.jsdelivr.net/npm/vega-datasets@v1.29.0/data/cars.json"
       },
       "encoding": {
        "x": {
         "field": "Acceleration",
         "type": "quantitative"
        },
        "y": {
         "field": "Horsepower",
         "type": "quantitative"
        }
       },
       "mark": {
        "type": "point"
       }
      },
      "text/plain": [
       "<VegaLite 5 object>\n",
       "\n",
       "If you see this message, it means the renderer has not been properly enabled\n",
       "for the frontend that you are using. For more information, see\n",
       "https://altair-viz.github.io/user_guide/troubleshooting.html\n"
      ]
     },
     "execution_count": 4,
     "metadata": {},
     "output_type": "execute_result"
    }
   ],
   "source": [
    "cars = vega_data.cars.url\n",
    "\n",
    "alt.Chart(cars).mark_point().encode(\n",
    "    x='Acceleration:Q',\n",
    "    y='Horsepower:Q'\n",
    ")"
   ]
  },
  {
   "cell_type": "markdown",
   "metadata": {
    "slideshow": {
     "slide_type": "slide"
    }
   },
   "source": [
    "### Global Config\n"
   ]
  },
  {
   "attachments": {},
   "cell_type": "markdown",
   "metadata": {},
   "source": [
    "use configure_mark to use opacity and color."
   ]
  },
  {
   "cell_type": "code",
   "execution_count": 5,
   "metadata": {
    "slideshow": {
     "slide_type": "fragment"
    }
   },
   "outputs": [
    {
     "ename": "SyntaxError",
     "evalue": "keyword argument repeated: ___ (2950217712.py, line 6)",
     "output_type": "error",
     "traceback": [
      "\u001b[0;36m  Cell \u001b[0;32mIn[5], line 6\u001b[0;36m\u001b[0m\n\u001b[0;31m    ___='red' # <--\u001b[0m\n\u001b[0m    ^\u001b[0m\n\u001b[0;31mSyntaxError\u001b[0m\u001b[0;31m:\u001b[0m keyword argument repeated: ___\n"
     ]
    }
   ],
   "source": [
    "alt.Chart(cars).mark_point().encode(\n",
    "    x='Acceleration:Q',\n",
    "    y='Horsepower:Q'\n",
    ").___(  # <--\n",
    "    ___=0.2, # <--\n",
    "    ___='red' # <--\n",
    ")"
   ]
  },
  {
   "cell_type": "markdown",
   "metadata": {
    "slideshow": {
     "slide_type": "slide"
    }
   },
   "source": [
    "### Local Config"
   ]
  },
  {
   "cell_type": "code",
   "execution_count": null,
   "metadata": {
    "slideshow": {
     "slide_type": "fragment"
    }
   },
   "outputs": [],
   "source": [
    "alt.Chart(cars).mark_point(___, ___).encode( #<--\n",
    "    x='Acceleration:Q',\n",
    "    y='Horsepower:Q'\n",
    ")"
   ]
  },
  {
   "cell_type": "markdown",
   "metadata": {
    "colab_type": "text",
    "id": "yaz3tS2RKf03",
    "slideshow": {
     "slide_type": "slide"
    }
   },
   "source": [
    "### Encoding"
   ]
  },
  {
   "cell_type": "code",
   "execution_count": null,
   "metadata": {
    "slideshow": {
     "slide_type": "fragment"
    }
   },
   "outputs": [],
   "source": [
    "alt.Chart(cars).mark_point().encode(\n",
    "    x='Acceleration:Q',\n",
    "    y='Horsepower:Q',\n",
    "    ___=alt.value(0.2), #<--\n",
    "    ___=alt.value('red') #<--\n",
    ")"
   ]
  },
  {
   "cell_type": "markdown",
   "metadata": {
    "slideshow": {
     "slide_type": "skip"
    }
   },
   "source": [
    "Encoding settings will always override local or global configuration settings."
   ]
  },
  {
   "cell_type": "markdown",
   "metadata": {
    "slideshow": {
     "slide_type": "slide"
    }
   },
   "source": [
    "## Encodings"
   ]
  },
  {
   "cell_type": "markdown",
   "metadata": {
    "colab_type": "text",
    "id": "yaz3tS2RKf03",
    "slideshow": {
     "slide_type": "fragment"
    }
   },
   "source": [
    "- In this notebook we'll examine the following encoding channels:"
   ]
  },
  {
   "cell_type": "markdown",
   "metadata": {
    "colab_type": "text",
    "id": "yaz3tS2RKf03",
    "slideshow": {
     "slide_type": "subslide"
    }
   },
   "source": [
    "- `x`: Horizontal (x-axis) position of the mark.\n",
    "- `y`: Vertical (y-axis) position of the mark.\n",
    "- `size`: Size of the mark. May correspond to area or length, depending on the mark type.\n",
    "- `color`: Mark color, specified as a [legal CSS color](https://developer.mozilla.org/en-US/docs/Web/CSS/color_value).\n",
    "- `opacity`: Mark opacity, ranging from 0 (fully transparent) to 1 (fully opaque).\n",
    "- `shape`: Plotting symbol shape for `point` marks.\n",
    "- `tooltip`: Tooltip text to display upon mouse hover over the mark.\n",
    "- `order`: Mark ordering, determines line/area point order and drawing order.\n",
    "- `column`: Facet the data into horizontally-aligned subplots.\n",
    "- `row`: Facet the data into vertically-aligned subplots."
   ]
  },
  {
   "attachments": {},
   "cell_type": "markdown",
   "metadata": {
    "colab_type": "text",
    "id": "vujZA4b6OCRC",
    "slideshow": {
     "slide_type": "slide"
    }
   },
   "source": [
    "### X\n"
   ]
  },
  {
   "cell_type": "code",
   "execution_count": null,
   "metadata": {
    "colab": {
     "base_uri": "https://localhost:8080/",
     "height": 87
    },
    "colab_type": "code",
    "id": "nswya-ToLaRP",
    "outputId": "2a958755-7f70-4a86-ab6f-2cfb24ad7231",
    "slideshow": {
     "slide_type": "subslide"
    }
   },
   "outputs": [],
   "source": [
    "alt.Chart(___).mark_point().encode( #<--\n",
    "    alt.X('___') #<--\n",
    ")"
   ]
  },
  {
   "attachments": {},
   "cell_type": "markdown",
   "metadata": {
    "colab_type": "text",
    "id": "WwQuuyKUOElr",
    "slideshow": {
     "slide_type": "slide"
    }
   },
   "source": [
    "### Y\n",
    "\n",
    "- The `y` encoding channel sets a mark's vertical position (y-coordinate). \n",
    "\n",
    "\n",
    "- Add the `cluster` field using an ordinal (`O`) data type. \n"
   ]
  },
  {
   "cell_type": "code",
   "execution_count": null,
   "metadata": {
    "colab": {
     "base_uri": "https://localhost:8080/",
     "height": 192
    },
    "colab_type": "code",
    "id": "eP38vNrdNrHF",
    "outputId": "9ff5b4a8-143c-4595-845f-026ed2e747a8",
    "slideshow": {
     "slide_type": "subslide"
    }
   },
   "outputs": [],
   "source": [
    "alt.Chart(data2000).mark_point().encode(\n",
    "    alt.X('___'), # <--\n",
    "    alt.Y('___') # <--\n",
    ")"
   ]
  },
  {
   "cell_type": "markdown",
   "metadata": {
    "colab_type": "text",
    "id": "2BQetZgvc0f_",
    "slideshow": {
     "slide_type": "slide"
    }
   },
   "source": [
    "- _What happens to the chart above if you swap the `O` and `Q` field types?_"
   ]
  },
  {
   "cell_type": "markdown",
   "metadata": {
    "colab_type": "text",
    "id": "2BQetZgvc0f_",
    "slideshow": {
     "slide_type": "fragment"
    }
   },
   "source": [
    "- If we instead add the `life_expect` field as a quantitative (`Q`) variable, the result is a scatter plot with linear scales for both axes:"
   ]
  },
  {
   "cell_type": "code",
   "execution_count": null,
   "metadata": {
    "colab": {
     "base_uri": "https://localhost:8080/",
     "height": 372
    },
    "colab_type": "code",
    "id": "n8PJhH6jN68w",
    "outputId": "ac41eaeb-4872-48db-ddf1-ab6b5c84f387",
    "slideshow": {
     "slide_type": "subslide"
    }
   },
   "outputs": [],
   "source": [
    "alt.Chart(data2000).mark_point().encode(\n",
    "    alt.X('___'), # <--\n",
    "    alt.Y('___') # <--\n",
    ")"
   ]
  },
  {
   "attachments": {},
   "cell_type": "markdown",
   "metadata": {
    "colab_type": "text",
    "id": "GUKc1DEDTbA0",
    "slideshow": {
     "slide_type": "slide"
    }
   },
   "source": [
    "- To disable automatic inclusion of zero, configure the scale mapping using the encoding `scale` attribute:"
   ]
  },
  {
   "cell_type": "code",
   "execution_count": null,
   "metadata": {
    "colab": {
     "base_uri": "https://localhost:8080/",
     "height": 372
    },
    "colab_type": "code",
    "id": "-6klI5DhSdik",
    "outputId": "8cb0ca55-176b-4d2f-8891-2c124276e429",
    "slideshow": {
     "slide_type": "subslide"
    }
   },
   "outputs": [],
   "source": [
    "alt.Chart(data2000).mark_point().encode(\n",
    "    alt.X('fertility:Q')\n",
    "        .scale(___), # <--\n",
    "    alt.Y('life_expect:Q')\n",
    "        .scale(___) # <--\n",
    ")"
   ]
  },
  {
   "cell_type": "markdown",
   "metadata": {
    "colab_type": "text",
    "id": "hKCsQ0iIPMTV",
    "slideshow": {
     "slide_type": "slide"
    }
   },
   "source": [
    "### Size"
   ]
  },
  {
   "attachments": {},
   "cell_type": "markdown",
   "metadata": {
    "colab_type": "text",
    "id": "G7YtT-HNdYT9",
    "slideshow": {
     "slide_type": "skip"
    }
   },
   "source": [
    "- Let's augment our scatter plot by encoding population (`pop`) on the `size` channel."
   ]
  },
  {
   "cell_type": "code",
   "execution_count": null,
   "metadata": {
    "colab": {
     "base_uri": "https://localhost:8080/",
     "height": 372
    },
    "colab_type": "code",
    "id": "sGENuXRfOIPz",
    "outputId": "4f76557c-4e35-41fc-9e06-513be34969ae",
    "slideshow": {
     "slide_type": "subslide"
    }
   },
   "outputs": [],
   "source": [
    "alt.Chart(data2000).mark_point().encode(\n",
    "    alt.X('fertility:Q'),\n",
    "    alt.Y('life_expect:Q'),\n",
    "    alt.Size('___') # <--\n",
    ")"
   ]
  },
  {
   "attachments": {},
   "cell_type": "markdown",
   "metadata": {
    "colab_type": "text",
    "id": "g5Cu5F2Ad9xG",
    "slideshow": {
     "slide_type": "notes"
    }
   },
   "source": [
    "\n",
    "- Here we update the size encoding to range from 0 pixels (for zero values) to 1,000 pixels (for the maximum value in the scale domain):"
   ]
  },
  {
   "cell_type": "code",
   "execution_count": null,
   "metadata": {
    "colab": {
     "base_uri": "https://localhost:8080/",
     "height": 372
    },
    "colab_type": "code",
    "id": "cALgZSQfQzi0",
    "outputId": "0d88f561-9737-43fa-a84a-7ad6dcdfbf0c",
    "slideshow": {
     "slide_type": "subslide"
    }
   },
   "outputs": [],
   "source": [
    "alt.Chart(data2000).mark_point().encode(\n",
    "    alt.X('fertility:Q'),\n",
    "    alt.Y('life_expect:Q'),\n",
    "    alt.Size('pop:Q')\n",
    "        .scale(range=[___]) # <--\n",
    ")"
   ]
  },
  {
   "cell_type": "markdown",
   "metadata": {
    "colab_type": "text",
    "id": "yF__0zZ0PJyT",
    "slideshow": {
     "slide_type": "slide"
    }
   },
   "source": [
    "### Color and Opacity"
   ]
  },
  {
   "cell_type": "markdown",
   "metadata": {
    "colab_type": "text",
    "id": "u5QXPLxJeohH",
    "slideshow": {
     "slide_type": "skip"
    }
   },
   "source": [
    "- Here, we encode the `cluster` field using the `color` channel and a nominal (`N`) data type, resulting in a distinct hue for each cluster value. "
   ]
  },
  {
   "cell_type": "code",
   "execution_count": null,
   "metadata": {
    "colab": {
     "base_uri": "https://localhost:8080/",
     "height": 372
    },
    "colab_type": "code",
    "id": "bI73XTt5OTmA",
    "outputId": "f12aeb57-07c5-422e-8cb1-62253b545af8",
    "slideshow": {
     "slide_type": "subslide"
    }
   },
   "outputs": [],
   "source": [
    "alt.Chart(data2000).mark_point().encode(\n",
    "    alt.X('fertility:Q'),\n",
    "    alt.Y('life_expect:Q'),\n",
    "    alt.Size('pop:Q')\n",
    "        .scale(range=[0,1000]),\n",
    "    alt.Color('___') # <--\n",
    ")"
   ]
  },
  {
   "cell_type": "markdown",
   "metadata": {
    "colab_type": "text",
    "id": "dNOkUJfNfFac",
    "slideshow": {
     "slide_type": "skip"
    }
   },
   "source": [
    "- If we prefer filled shapes, we can can pass a `filled=True` parameter to the `mark_point` method:"
   ]
  },
  {
   "cell_type": "code",
   "execution_count": null,
   "metadata": {
    "colab": {
     "base_uri": "https://localhost:8080/",
     "height": 372
    },
    "colab_type": "code",
    "id": "HH34VMCAQO6s",
    "outputId": "8aba4f13-bfe3-43b1-e3ea-554a8d20b7f5",
    "slideshow": {
     "slide_type": "subslide"
    }
   },
   "outputs": [],
   "source": [
    "alt.Chart(data2000).mark_point(___).encode( # <--\n",
    "    alt.X('fertility:Q'),\n",
    "    alt.Y('life_expect:Q'),\n",
    "    alt.Size('pop:Q')\n",
    "        .scale(range=[0,1000]),\n",
    "    alt.Color('___') # <--\n",
    ")"
   ]
  },
  {
   "attachments": {},
   "cell_type": "markdown",
   "metadata": {
    "colab_type": "text",
    "id": "YY96rt7zfRYG",
    "slideshow": {
     "slide_type": "notes"
    }
   },
   "source": [
    "- By default, Altair uses a bit of transparency to help combat over-plotting. \n",
    "\n",
    "\n",
    "- We are free to further adjust the opacity, either by passing a default value to the `mark_*` method, or using a dedicated encoding channel.\n",
    "\n",
    "\n",
    "- Here we demonstrate how to provide a constant value to an encoding channel instead of binding a data field (use 0.5):"
   ]
  },
  {
   "cell_type": "code",
   "execution_count": null,
   "metadata": {
    "colab": {
     "base_uri": "https://localhost:8080/",
     "height": 372
    },
    "colab_type": "code",
    "id": "42kM5nuDOfGm",
    "outputId": "2dd14842-8fd5-4997-ea47-91cd489e0193",
    "slideshow": {
     "slide_type": "subslide"
    }
   },
   "outputs": [],
   "source": [
    "alt.Chart(data2000).mark_point(filled=True).encode(\n",
    "    alt.X('fertility:Q'),\n",
    "    alt.Y('life_expect:Q'),\n",
    "    alt.Size('pop:Q')\n",
    "        .scale(range=[0,1000]),\n",
    "    alt.Color('cluster:N'),\n",
    "    alt.OpacityValue(___) # <--\n",
    ")"
   ]
  },
  {
   "cell_type": "markdown",
   "metadata": {
    "colab_type": "text",
    "id": "zW2Siu5sPaiE",
    "slideshow": {
     "slide_type": "slide"
    }
   },
   "source": [
    "### Shape"
   ]
  },
  {
   "cell_type": "markdown",
   "metadata": {
    "colab_type": "text",
    "id": "MGM2hdOqf3Tu",
    "slideshow": {
     "slide_type": "skip"
    }
   },
   "source": [
    "- The shape encoding channel should only be used with nominal data, as perceptual rank-order and magnitude comparisons are not supported."
   ]
  },
  {
   "attachments": {},
   "cell_type": "markdown",
   "metadata": {
    "colab_type": "text",
    "id": "MGM2hdOqf3Tu",
    "slideshow": {
     "slide_type": "notes"
    }
   },
   "source": [
    "Let's encode the `cluster` field using `shape` as well as `color`."
   ]
  },
  {
   "cell_type": "code",
   "execution_count": null,
   "metadata": {
    "colab": {
     "base_uri": "https://localhost:8080/",
     "height": 372
    },
    "colab_type": "code",
    "id": "czAIeWjSPS5x",
    "outputId": "e418f006-988c-42a9-9a81-664d1d52d93c",
    "slideshow": {
     "slide_type": "subslide"
    }
   },
   "outputs": [],
   "source": [
    "alt.Chart(data2000).mark_point(filled=True).encode(\n",
    "    alt.X('fertility:Q'),\n",
    "    alt.Y('life_expect:Q'),\n",
    "    alt.Size('pop:Q')\n",
    "        .scale(range=[0,1000]),\n",
    "    alt.Color('cluster:N'),\n",
    "    alt.OpacityValue(0.5),\n",
    "    alt.Shape('___') # <--\n",
    ")"
   ]
  },
  {
   "cell_type": "markdown",
   "metadata": {
    "colab_type": "text",
    "id": "ramTzfIgUtEi",
    "slideshow": {
     "slide_type": "slide"
    }
   },
   "source": [
    "### Tooltips & Ordering"
   ]
  },
  {
   "cell_type": "markdown",
   "metadata": {
    "colab_type": "text",
    "id": "VE-29r8dg1Us",
    "slideshow": {
     "slide_type": "notes"
    }
   },
   "source": [
    "- Let's add a tooltip encoding for the `country` field, then investigate which countries are being represented."
   ]
  },
  {
   "cell_type": "code",
   "execution_count": null,
   "metadata": {
    "colab": {
     "base_uri": "https://localhost:8080/",
     "height": 372
    },
    "colab_type": "code",
    "id": "61evgaeFUyU0",
    "outputId": "f13ddd14-3b6f-4f96-ca08-8d3b2ba94a34",
    "slideshow": {
     "slide_type": "subslide"
    }
   },
   "outputs": [],
   "source": [
    "alt.Chart(data2000).mark_point(filled=True).encode(\n",
    "    alt.X('fertility:Q'),\n",
    "    alt.Y('life_expect:Q'),\n",
    "    alt.Size('pop:Q')\n",
    "        .scale(range=[0,1000]),\n",
    "    alt.Color('cluster:N'),\n",
    "    alt.OpacityValue(0.5),\n",
    "    alt.Tooltip('___') # <--\n",
    ")"
   ]
  },
  {
   "attachments": {},
   "cell_type": "markdown",
   "metadata": {
    "colab_type": "text",
    "id": "IRexn5IAhgeW",
    "slideshow": {
     "slide_type": "subslide"
    }
   },
   "source": [
    "- The `order` encoding channel determines the order of data points"
   ]
  },
  {
   "cell_type": "markdown",
   "metadata": {
    "colab_type": "text",
    "id": "IRexn5IAhgeW",
    "slideshow": {
     "slide_type": "subslide"
    }
   },
   "source": [
    "- Let's order the values in descending rank order by the population (`pop`), ensuring that smaller circles are drawn later than larger circles:"
   ]
  },
  {
   "cell_type": "code",
   "execution_count": null,
   "metadata": {
    "colab": {
     "base_uri": "https://localhost:8080/",
     "height": 372
    },
    "colab_type": "code",
    "id": "DywIzwtgVD3Z",
    "outputId": "3b7254de-09f3-4850-f066-ea8318ec5479",
    "slideshow": {
     "slide_type": "subslide"
    }
   },
   "outputs": [],
   "source": [
    "alt.Chart(data2000).mark_point(filled=True).encode(\n",
    "    alt.X('fertility:Q'),\n",
    "    alt.Y('life_expect:Q'),\n",
    "    alt.Size('pop:Q')\n",
    "        .scale(range=[0,1000]),\n",
    "    alt.Color('cluster:N'),\n",
    "    alt.OpacityValue(0.5),\n",
    "    alt.Tooltip('country:N'),\n",
    "    alt.Order('___', sort='descending') # <--\n",
    ")"
   ]
  },
  {
   "cell_type": "markdown",
   "metadata": {
    "colab_type": "text",
    "id": "9bsu1tn_idGt",
    "slideshow": {
     "slide_type": "subslide"
    }
   },
   "source": [
    "- To show multiple values, we can provide the `tooltip` channel an array of encodings, one for each field we want to include:"
   ]
  },
  {
   "cell_type": "code",
   "execution_count": null,
   "metadata": {
    "colab": {
     "base_uri": "https://localhost:8080/",
     "height": 372
    },
    "colab_type": "code",
    "id": "450DUk-mXzzQ",
    "outputId": "ee47eb3b-146d-4c6b-dfa7-94ddeb0fc5d3"
   },
   "outputs": [],
   "source": [
    "alt.Chart(data2000).mark_point(filled=True).encode(\n",
    "    alt.X('fertility:Q'),\n",
    "    alt.Y('life_expect:Q'),\n",
    "    alt.Size('pop:Q')\n",
    "        .scale(range=[0,1000]),\n",
    "    alt.Color('cluster:N'),\n",
    "    alt.OpacityValue(0.5),\n",
    "    alt.Order('pop:Q', sort='descending'),\n",
    "    tooltip = [                              \n",
    "        'country:N',\n",
    "        '___:Q', # <--\n",
    "        '___:Q' # <--\n",
    "    ]   \n",
    ")"
   ]
  },
  {
   "cell_type": "markdown",
   "metadata": {
    "colab_type": "text",
    "id": "HLQjhEdwiyR2",
    "slideshow": {
     "slide_type": "notes"
    }
   },
   "source": [
    "Now we can see multiple data fields upon mouse over!"
   ]
  },
  {
   "cell_type": "markdown",
   "metadata": {
    "colab_type": "text",
    "id": "5ViS2LDKRmil",
    "slideshow": {
     "slide_type": "slide"
    }
   },
   "source": [
    "### Column and Row Facets"
   ]
  },
  {
   "cell_type": "markdown",
   "metadata": {
    "colab_type": "text",
    "id": "apPtlcDoi3yT",
    "slideshow": {
     "slide_type": "subslide"
    }
   },
   "source": [
    "- Here is a trellis plot that divides the data into one column per \\`cluster\\` value:"
   ]
  },
  {
   "cell_type": "code",
   "execution_count": null,
   "metadata": {
    "colab": {
     "base_uri": "https://localhost:8080/",
     "height": 441
    },
    "colab_type": "code",
    "id": "gszjktorPmRc",
    "outputId": "b62aff8e-a2aa-409a-be1d-4cf3708f9ab3",
    "slideshow": {
     "slide_type": "subslide"
    }
   },
   "outputs": [],
   "source": [
    "alt.Chart(data2000).mark_point(filled=True).encode(\n",
    "    alt.X('fertility:Q'),\n",
    "    alt.Y('life_expect:Q'),\n",
    "    alt.Size('pop:Q', scale=alt.Scale(range=[0,1000])),\n",
    "    alt.Color('cluster:N'),\n",
    "    alt.OpacityValue(0.5),\n",
    "    alt.Tooltip('country:N'),\n",
    "    alt.Order('pop:Q', sort='descending'),\n",
    "    alt.Column('___') # <--\n",
    ")"
   ]
  },
  {
   "attachments": {},
   "cell_type": "markdown",
   "metadata": {
    "colab_type": "text",
    "id": "8J0dxQoFj9jw",
    "slideshow": {
     "slide_type": "notes"
    }
   },
   "source": [
    "The plot above does not fit on screen, making it difficult to compare all the sub-plots to each other! "
   ]
  },
  {
   "cell_type": "code",
   "execution_count": null,
   "metadata": {
    "colab": {
     "base_uri": "https://localhost:8080/",
     "height": 321
    },
    "colab_type": "code",
    "id": "PvKBL59lRrc_",
    "outputId": "3eb84b63-0c69-4985-ee9b-d0d69e5ffb33",
    "slideshow": {
     "slide_type": "subslide"
    }
   },
   "outputs": [],
   "source": [
    "alt.Chart(data2000).mark_point(filled=True).encode(\n",
    "    alt.X('fertility:Q'),\n",
    "    alt.Y('life_expect:Q'),\n",
    "    alt.Size('pop:Q', scale=alt.Scale(range=[0,1000]),\n",
    "             legend=alt.Legend(orient='bottom', titleOrient='left')), \n",
    "    alt.Color('cluster:N', legend=None), \n",
    "    alt.OpacityValue(0.5),\n",
    "    alt.Tooltip('country:N'),\n",
    "    alt.Order('pop:Q', sort='descending'),\n",
    "    alt.Column('cluster:N')\n",
    ").properties(___=135, ___=135) # <--"
   ]
  },
  {
   "cell_type": "markdown",
   "metadata": {
    "colab_type": "text",
    "id": "UPdDrmm9YK5E",
    "slideshow": {
     "slide_type": "slide"
    }
   },
   "source": [
    "## Graphical Marks"
   ]
  },
  {
   "cell_type": "markdown",
   "metadata": {
    "colab_type": "text",
    "id": "UPdDrmm9YK5E",
    "slideshow": {
     "slide_type": "fragment"
    }
   },
   "source": [
    "- Our exploration of encoding channels above exclusively uses `point` marks to visualize the data."
   ]
  },
  {
   "cell_type": "markdown",
   "metadata": {
    "colab_type": "text",
    "id": "UPdDrmm9YK5E",
    "slideshow": {
     "slide_type": "fragment"
    }
   },
   "source": [
    "- However, the `point` mark type is only one of the many geometric shapes that can be used to visually represent data. Altair includes a number of built-in mark types, including:"
   ]
  },
  {
   "cell_type": "markdown",
   "metadata": {
    "colab_type": "text",
    "id": "UPdDrmm9YK5E",
    "slideshow": {
     "slide_type": "subslide"
    }
   },
   "source": [
    "- `mark_area()` - Filled areas defined by a top-line and a baseline.\n",
    "- `mark_bar()` -\tRectangular bars.\n",
    "- `mark_circle()`\t- Scatter plot points as filled circles.\n",
    "- `mark_line()` - Connected line segments.\n",
    "- `mark_point()` - Scatter plot points with configurable shapes.\n",
    "- `mark_rect()` - Filled rectangles, useful for heatmaps.\n",
    "- `mark_rule()` - Vertical or horizontal lines spanning the axis.\n",
    "- `mark_square()` - Scatter plot points as filled squares.\n",
    "- `mark_text()` - Scatter plot points represented by text.\n",
    "- `mark_tick()` - Vertical or horizontal tick marks.\t"
   ]
  },
  {
   "cell_type": "markdown",
   "metadata": {
    "colab_type": "text",
    "id": "jVp7cC-BbYF5",
    "slideshow": {
     "slide_type": "slide"
    }
   },
   "source": [
    "### Point Marks"
   ]
  },
  {
   "cell_type": "markdown",
   "metadata": {
    "colab_type": "text",
    "id": "jVp7cC-BbYF5",
    "slideshow": {
     "slide_type": "notes"
    }
   },
   "source": [
    "Below is a dot plot of `fertility`, with the `cluster` field redundantly encoded using both the `y` and `shape` channels. "
   ]
  },
  {
   "cell_type": "code",
   "execution_count": null,
   "metadata": {
    "colab": {
     "base_uri": "https://localhost:8080/",
     "height": 192
    },
    "colab_type": "code",
    "id": "3jrFfaKCtbyL",
    "outputId": "6332a348-f8f0-4dd8-9c4a-63687e286d4a",
    "slideshow": {
     "slide_type": "subslide"
    }
   },
   "outputs": [],
   "source": [
    "alt.Chart(data2000).___().encode( # <--\n",
    "    alt.X('fertility:Q'),\n",
    "    alt.Y('cluster:N'),\n",
    "    alt.Shape('cluster:N')\n",
    ")"
   ]
  },
  {
   "cell_type": "markdown",
   "metadata": {
    "colab_type": "text",
    "id": "bONM4Ccrt4Sw",
    "slideshow": {
     "slide_type": "subslide"
    }
   },
   "source": [
    "In addition to encoding channels, marks can be stylized by providing values to the `mark_*()` methods."
   ]
  },
  {
   "attachments": {},
   "cell_type": "markdown",
   "metadata": {
    "colab_type": "text",
    "id": "bONM4Ccrt4Sw",
    "slideshow": {
     "slide_type": "notes"
    }
   },
   "source": [
    "For example: point marks are drawn with stroked outlines by default, but can be specified to use `filled` shapes instead (filled=True). \n",
    "\n",
    "Similarly, you can set a default `size` to set the total pixel area of the point mark (choose 100)."
   ]
  },
  {
   "cell_type": "code",
   "execution_count": null,
   "metadata": {
    "colab": {
     "base_uri": "https://localhost:8080/",
     "height": 192
    },
    "colab_type": "code",
    "id": "3-HgJ1PjvKdH",
    "outputId": "dcf26fa9-281b-4297-da50-84c7f5ccd318",
    "slideshow": {
     "slide_type": "subslide"
    }
   },
   "outputs": [],
   "source": [
    "alt.Chart(data2000).mark_point(___, ___).encode(  # <--\n",
    "    alt.X('fertility:Q'),\n",
    "    alt.Y('cluster:N'),\n",
    "    alt.Shape('cluster:N')\n",
    ")"
   ]
  },
  {
   "cell_type": "markdown",
   "metadata": {
    "colab_type": "text",
    "id": "CGMm4gyNcLzB",
    "slideshow": {
     "slide_type": "slide"
    }
   },
   "source": [
    "### Circle Marks"
   ]
  },
  {
   "cell_type": "markdown",
   "metadata": {
    "colab_type": "text",
    "id": "CGMm4gyNcLzB",
    "slideshow": {
     "slide_type": "fragment"
    }
   },
   "source": [
    "- The `circle` mark type is a convenient shorthand for `point` marks drawn as filled circles."
   ]
  },
  {
   "cell_type": "code",
   "execution_count": null,
   "metadata": {
    "colab": {
     "base_uri": "https://localhost:8080/",
     "height": 192
    },
    "colab_type": "code",
    "id": "R7JgFhB-vn5X",
    "outputId": "80cd9d0f-c126-4673-bfcf-eaf5b34e0058",
    "slideshow": {
     "slide_type": "fragment"
    }
   },
   "outputs": [],
   "source": [
    "alt.Chart(data2000).___(size=100).encode( # <--\n",
    "    alt.X('fertility:Q'),\n",
    "    alt.Y('cluster:N'),\n",
    "    alt.Shape('cluster:N')\n",
    ")"
   ]
  },
  {
   "cell_type": "markdown",
   "metadata": {
    "colab_type": "text",
    "id": "IAZSJlWhcOr_",
    "slideshow": {
     "slide_type": "slide"
    }
   },
   "source": [
    "### Square Marks"
   ]
  },
  {
   "cell_type": "markdown",
   "metadata": {
    "colab_type": "text",
    "id": "IAZSJlWhcOr_",
    "slideshow": {
     "slide_type": "fragment"
    }
   },
   "source": [
    "The `square` mark type is a convenient shorthand for `point` marks drawn as filled squares."
   ]
  },
  {
   "cell_type": "code",
   "execution_count": null,
   "metadata": {
    "colab": {
     "base_uri": "https://localhost:8080/",
     "height": 192
    },
    "colab_type": "code",
    "id": "rfby5R-Mvuwx",
    "outputId": "8ff4b0d4-f3ce-45e5-f597-1a6fd296ba47",
    "slideshow": {
     "slide_type": "fragment"
    }
   },
   "outputs": [],
   "source": [
    "alt.Chart(data2000).___(size=100).encode( # <--\n",
    "    alt.X('fertility:Q'),\n",
    "    alt.Y('cluster:N'),\n",
    "    alt.Shape('cluster:N')\n",
    ")"
   ]
  },
  {
   "cell_type": "markdown",
   "metadata": {
    "colab_type": "text",
    "id": "SJF0vNqGcRdv",
    "slideshow": {
     "slide_type": "slide"
    }
   },
   "source": [
    "### Tick Marks"
   ]
  },
  {
   "cell_type": "markdown",
   "metadata": {
    "colab_type": "text",
    "id": "SJF0vNqGcRdv",
    "slideshow": {
     "slide_type": "fragment"
    }
   },
   "source": [
    "- The `tick` mark type conveys a data point using a short line segment or \"tick\". "
   ]
  },
  {
   "cell_type": "code",
   "execution_count": null,
   "metadata": {
    "colab": {
     "base_uri": "https://localhost:8080/",
     "height": 192
    },
    "colab_type": "code",
    "id": "Thvp_VJ2v-xd",
    "outputId": "c6133250-333f-4c29-e217-221634dd8337",
    "slideshow": {
     "slide_type": "subslide"
    }
   },
   "outputs": [],
   "source": [
    "alt.Chart(data2000).___().encode( # <--\n",
    "    alt.X('fertility:Q'),\n",
    "    alt.Y('cluster:N'),\n",
    "    alt.Shape('cluster:N')\n",
    ")"
   ]
  },
  {
   "cell_type": "markdown",
   "metadata": {
    "colab_type": "text",
    "id": "x8j5XVZJcB7l",
    "slideshow": {
     "slide_type": "slide"
    }
   },
   "source": [
    "### Bar Marks"
   ]
  },
  {
   "cell_type": "code",
   "execution_count": null,
   "metadata": {
    "colab": {
     "base_uri": "https://localhost:8080/",
     "height": 445
    },
    "colab_type": "code",
    "id": "eFN9Kw85xFQK",
    "outputId": "8da431d3-9ba7-4ecf-de55-e478c4527a39",
    "slideshow": {
     "slide_type": "subslide"
    }
   },
   "outputs": [],
   "source": [
    "alt.Chart(data2000).___().encode( # <--\n",
    "    alt.X('country:N'),\n",
    "    alt.Y('pop:Q')\n",
    ")"
   ]
  },
  {
   "cell_type": "markdown",
   "metadata": {
    "colab_type": "text",
    "id": "rHX8bKgbzW3I",
    "slideshow": {
     "slide_type": "subslide"
    }
   },
   "source": [
    "- Bars can also be stacked. \n",
    "\n",
    "\n",
    "- Let's change the `x` encoding to use the `cluster` field, and encode `country` using the `color` channel. \n",
    "\n",
    "\n",
    "- We'll also disable the legend (which would be very long with colors for all countries!) and use tooltips for the country name."
   ]
  },
  {
   "cell_type": "code",
   "execution_count": null,
   "metadata": {
    "colab": {
     "base_uri": "https://localhost:8080/",
     "height": 368
    },
    "colab_type": "code",
    "id": "x9maAWhOxsrq",
    "outputId": "7960be03-eefd-4c3f-a114-8405395c772c",
    "slideshow": {
     "slide_type": "subslide"
    }
   },
   "outputs": [],
   "source": [
    "alt.Chart(data2000).mark_bar().encode(\n",
    "    alt.X('___'), # <--\n",
    "    alt.Y('pop:Q'),\n",
    "    alt.Color('___', legend=None), # <--\n",
    "    alt.Tooltip('___')  # <--\n",
    ")"
   ]
  },
  {
   "cell_type": "markdown",
   "metadata": {
    "colab_type": "text",
    "id": "mLSz2vHb2qiV",
    "slideshow": {
     "slide_type": "subslide"
    }
   },
   "source": [
    "- The chart below uses the `x` (starting point) and `x2` (ending point) channels to show the range of life expectancies within each regional cluster. \n",
    "\n",
    "\n",
    "- Below we use the `min` and `max` aggregation functions to determine the end points of the range; "
   ]
  },
  {
   "cell_type": "code",
   "execution_count": null,
   "metadata": {
    "colab": {
     "base_uri": "https://localhost:8080/",
     "height": 192
    },
    "colab_type": "code",
    "id": "NxEVEQLj0l9t",
    "outputId": "2fa67514-b66c-4449-a1e3-c0b1b377ed3a",
    "slideshow": {
     "slide_type": "subslide"
    }
   },
   "outputs": [],
   "source": [
    "alt.Chart(data2000).mark_bar().encode(\n",
    "    alt.X('___(life_expect):Q'), # <--\n",
    "    alt.X2('___(life_expect):Q'), # <--\n",
    "    alt.Y('cluster:N') \n",
    ")"
   ]
  },
  {
   "cell_type": "markdown",
   "metadata": {
    "colab_type": "text",
    "id": "bTnEQk1NcD7y",
    "slideshow": {
     "slide_type": "slide"
    }
   },
   "source": [
    "### Line Marks"
   ]
  },
  {
   "cell_type": "markdown",
   "metadata": {
    "colab_type": "text",
    "id": "bTnEQk1NcD7y",
    "slideshow": {
     "slide_type": "fragment"
    }
   },
   "source": [
    "- For example so that a line's slope conveys information about the rate of change."
   ]
  },
  {
   "cell_type": "markdown",
   "metadata": {
    "colab_type": "text",
    "id": "bTnEQk1NcD7y",
    "slideshow": {
     "slide_type": "notes"
    }
   },
   "source": [
    "Let's plot a line chart of fertility per country over the years, using the full, unfiltered global development data frame. We'll again hide the legend and use tooltips instead."
   ]
  },
  {
   "cell_type": "code",
   "execution_count": null,
   "metadata": {
    "colab": {
     "base_uri": "https://localhost:8080/",
     "height": 385
    },
    "colab_type": "code",
    "id": "lTWmDwv1Jhzt",
    "outputId": "7bbd15a9-4b8f-4f66-fe7e-6a55f2c38449",
    "slideshow": {
     "slide_type": "subslide"
    }
   },
   "outputs": [],
   "source": [
    "alt.Chart(data).___().encode( # <--\n",
    "    alt.X('year:O'),\n",
    "    alt.Y('fertility:Q'),\n",
    "    alt.Color('country:N', legend=None),\n",
    "    alt.Tooltip('country:N')\n",
    ").properties(\n",
    "    width=400\n",
    ")"
   ]
  },
  {
   "cell_type": "markdown",
   "metadata": {
    "colab_type": "text",
    "id": "qmV54UhSMPxU",
    "slideshow": {
     "slide_type": "slide"
    }
   },
   "source": [
    "- Let's change some of the default mark parameters to customize the plot. "
   ]
  },
  {
   "attachments": {},
   "cell_type": "markdown",
   "metadata": {
    "colab_type": "text",
    "id": "qmV54UhSMPxU",
    "slideshow": {
     "slide_type": "fragment"
    }
   },
   "source": [
    "- `strokeWidth` to determine the thickness of the lines (use 3)"
   ]
  },
  {
   "attachments": {},
   "cell_type": "markdown",
   "metadata": {
    "colab_type": "text",
    "id": "qmV54UhSMPxU",
    "slideshow": {
     "slide_type": "fragment"
    }
   },
   "source": [
    "- `opacity` to add some transparency (use 0.5). "
   ]
  },
  {
   "cell_type": "markdown",
   "metadata": {
    "colab_type": "text",
    "id": "qmV54UhSMPxU",
    "slideshow": {
     "slide_type": "fragment"
    }
   },
   "source": [
    "- Let's use `'monotone'` interpolation to provide smooth lines that are also guaranteed not to inadvertently generate \"false\" minimum or maximum values as a result of the interpolation."
   ]
  },
  {
   "cell_type": "code",
   "execution_count": null,
   "metadata": {
    "colab": {
     "base_uri": "https://localhost:8080/",
     "height": 385
    },
    "colab_type": "code",
    "id": "PbdSZMs43rgW",
    "outputId": "07007338-a2c7-4dc2-9f36-bb344e4103ec",
    "scrolled": true,
    "slideshow": {
     "slide_type": "subslide"
    }
   },
   "outputs": [],
   "source": [
    "alt.Chart(data).mark_line(\n",
    "    strokeWidth=___, # <--\n",
    "    opacity=___, # <--\n",
    "    interpolate='___' # <--\n",
    ").encode(\n",
    "    alt.X('year:O'),\n",
    "    alt.Y('fertility:Q'),\n",
    "    alt.Color('country:N', legend=None),\n",
    "    alt.Tooltip('country:N')\n",
    ").properties(\n",
    "    width=400\n",
    ")"
   ]
  },
  {
   "cell_type": "markdown",
   "metadata": {
    "slideshow": {
     "slide_type": "slide"
    }
   },
   "source": [
    "#### Slope graph"
   ]
  },
  {
   "cell_type": "markdown",
   "metadata": {
    "colab_type": "text",
    "id": "_PZcXCF6OZm2",
    "slideshow": {
     "slide_type": "fragment"
    }
   },
   "source": [
    "- The `line` mark can also be used to create *slope graphs*, charts that highlight the change in value between two comparison points using line slopes."
   ]
  },
  {
   "attachments": {},
   "cell_type": "markdown",
   "metadata": {
    "colab_type": "text",
    "id": "_PZcXCF6OZm2",
    "slideshow": {
     "slide_type": "notes"
    }
   },
   "source": [
    "Below let's create a slope graph comparing the populations of each country at minimum and maximum years in our full dataset: 1955 and 2005. We first create a new Pandas data frame filtered to those years, then use Altair to create the slope graph."
   ]
  },
  {
   "cell_type": "code",
   "execution_count": null,
   "metadata": {
    "colab": {
     "base_uri": "https://localhost:8080/",
     "height": 385
    },
    "colab_type": "code",
    "id": "glipk3XoKUcc",
    "outputId": "edd1292a-97a7-44d1-b2ec-c5b8d755aa86",
    "slideshow": {
     "slide_type": "subslide"
    }
   },
   "outputs": [],
   "source": [
    "dataTime = data.loc[(data['year'] == ___) | (data['year'] == ___)] # <--\n",
    "\n",
    "alt.Chart(dataTime).___(opacity=0.5).encode( # <--\n",
    "    alt.X('year:O'),\n",
    "    alt.Y('pop:Q'),\n",
    "    alt.Color('country:N', legend=None),\n",
    "    alt.Tooltip('country:N')\n",
    ").properties(\n",
    "    width={\"step\": ___} # adjust the step parameter, e.g. 50\n",
    ")"
   ]
  },
  {
   "cell_type": "markdown",
   "metadata": {
    "colab_type": "text",
    "id": "LLo0NmuncGAa",
    "slideshow": {
     "slide_type": "slide"
    }
   },
   "source": [
    "### Area Marks"
   ]
  },
  {
   "cell_type": "markdown",
   "metadata": {
    "colab_type": "text",
    "id": "LLo0NmuncGAa",
    "slideshow": {
     "slide_type": "fragment"
    }
   },
   "source": [
    "- The `area` mark type combines aspects of `line` and `bar` marks "
   ]
  },
  {
   "cell_type": "markdown",
   "metadata": {
    "colab_type": "text",
    "id": "LLo0NmuncGAa",
    "slideshow": {
     "slide_type": "fragment"
    }
   },
   "source": [
    "- it visualizes connections (slopes) among data points, but also shows a filled region, with one edge defaulting to a zero-valued baseline."
   ]
  },
  {
   "cell_type": "markdown",
   "metadata": {
    "colab_type": "text",
    "id": "mYtoHUPuPpxW",
    "slideshow": {
     "slide_type": "notes"
    }
   },
   "source": [
    "The chart below is an area chart of population over time for just the United States:"
   ]
  },
  {
   "cell_type": "code",
   "execution_count": null,
   "metadata": {
    "colab": {
     "base_uri": "https://localhost:8080/",
     "height": 385
    },
    "colab_type": "code",
    "id": "cXdOREmBHiaH",
    "outputId": "37cd899d-2ad1-42ea-fbe0-12e591a28326"
   },
   "outputs": [],
   "source": [
    "dataUS = data.loc[data['country'] == '___'] # <--\n",
    "\n",
    "alt.Chart(dataUS).___().encode( # <--\n",
    "    alt.X('year:O'),\n",
    "    alt.Y('fertility:Q')\n",
    ")"
   ]
  },
  {
   "cell_type": "markdown",
   "metadata": {
    "colab_type": "text",
    "id": "aDPZ6bWEPv2_",
    "slideshow": {
     "slide_type": "subslide"
    }
   },
   "source": [
    "- Similar to `line` marks, `area` marks support an `interpolate` parameter."
   ]
  },
  {
   "cell_type": "code",
   "execution_count": null,
   "metadata": {
    "colab": {
     "base_uri": "https://localhost:8080/",
     "height": 385
    },
    "colab_type": "code",
    "id": "-ZpfjqMxJvXF",
    "outputId": "eba5baab-44be-46ac-c9ae-0ad3b094573a",
    "slideshow": {
     "slide_type": "subslide"
    }
   },
   "outputs": [],
   "source": [
    "alt.Chart(dataUS).mark_area(___='monotone').encode( # <--\n",
    "    alt.X('year:O'),\n",
    "    alt.Y('fertility:Q')\n",
    ")"
   ]
  },
  {
   "cell_type": "markdown",
   "metadata": {
    "colab_type": "text",
    "id": "_YolZaDbP7jh",
    "slideshow": {
     "slide_type": "notes"
    }
   },
   "source": [
    "Similar to `bar` marks, `area` marks also support stacking. Here we create a new data frame with data for the three North American countries, then plot them using an `area` mark and a `color` encoding channel to stack by country."
   ]
  },
  {
   "cell_type": "code",
   "execution_count": null,
   "metadata": {
    "colab": {
     "base_uri": "https://localhost:8080/",
     "height": 385
    },
    "colab_type": "code",
    "id": "tYOS0Il_H8h3",
    "outputId": "70e210aa-4771-4ed9-e5a3-0af587d03c60",
    "slideshow": {
     "slide_type": "subslide"
    }
   },
   "outputs": [],
   "source": [
    "dataNA = data.loc[  \n",
    "    (data['country'] == 'United States') |\n",
    "    (data['country'] == 'Canada') |\n",
    "    (data['country'] == 'Mexico')\n",
    "]\n",
    "\n",
    "alt.Chart(dataNA).___().encode( # <--\n",
    "    alt.X('year:O'),\n",
    "    alt.Y('pop:Q'),\n",
    "    alt.Color('country:N') \n",
    ")"
   ]
  },
  {
   "cell_type": "markdown",
   "metadata": {
    "colab_type": "text",
    "id": "oVinPfTZpNtY",
    "slideshow": {
     "slide_type": "fragment"
    }
   },
   "source": [
    "By default, stacking is performed relative to a zero baseline. However, other `stack` options are available:"
   ]
  },
  {
   "cell_type": "markdown",
   "metadata": {
    "colab_type": "text",
    "id": "oVinPfTZpNtY",
    "slideshow": {
     "slide_type": "fragment"
    }
   },
   "source": [
    "  * `center` - to stack relative to a baseline in the center of the chart, creating a *streamgraph* visualization, and"
   ]
  },
  {
   "cell_type": "markdown",
   "metadata": {
    "colab_type": "text",
    "id": "oVinPfTZpNtY",
    "slideshow": {
     "slide_type": "fragment"
    }
   },
   "source": [
    "   * `normalize` - to normalize the summed data at each stacking point to 100%, enabling percentage comparisons."
   ]
  },
  {
   "cell_type": "markdown",
   "metadata": {
    "colab_type": "text",
    "id": "oVinPfTZpNtY",
    "slideshow": {
     "slide_type": "fragment"
    }
   },
   "source": [
    "Below we adapt the chart by setting the `y` encoding `stack` attribute to `center`. What happens if you instead set it `normalize`?"
   ]
  },
  {
   "cell_type": "code",
   "execution_count": null,
   "metadata": {
    "colab": {
     "base_uri": "https://localhost:8080/",
     "height": 385
    },
    "colab_type": "code",
    "id": "6SQpyJzqpB5G",
    "outputId": "3a7cb75a-3acf-4b0e-d0e8-cdc7c85fd5ee",
    "slideshow": {
     "slide_type": "subslide"
    }
   },
   "outputs": [],
   "source": [
    "alt.Chart(dataNA).mark_area().encode(\n",
    "    alt.X('year:O'),\n",
    "    alt.Y('pop:Q', stack='___'), # <--\n",
    "    alt.Color('country:N')\n",
    ")"
   ]
  },
  {
   "cell_type": "markdown",
   "metadata": {
    "colab_type": "text",
    "id": "fQN5a3gfQFBW",
    "slideshow": {
     "slide_type": "subslide"
    }
   },
   "source": [
    "- To disable stacking altogether, set the  `stack` attribute to `None`. \n",
    "\n",
    "\n",
    "- We can also add `opacity` as a default mark parameter to ensure we see the overlapping areas!"
   ]
  },
  {
   "cell_type": "code",
   "execution_count": null,
   "metadata": {
    "colab": {
     "base_uri": "https://localhost:8080/",
     "height": 385
    },
    "colab_type": "code",
    "id": "MY8xDiqkKDMc",
    "outputId": "41345e53-eeaa-4c69-969d-738c1479ba26",
    "slideshow": {
     "slide_type": "subslide"
    }
   },
   "outputs": [],
   "source": [
    "alt.Chart(dataNA).mark_area(___=0.5).encode( # <--\n",
    "    alt.X('year:O'),\n",
    "    alt.Y('pop:Q', stack=___), # <--\n",
    "    alt.Color('country:N')\n",
    ")"
   ]
  },
  {
   "cell_type": "markdown",
   "metadata": {
    "colab_type": "text",
    "id": "ro21p2rsQMl3",
    "slideshow": {
     "slide_type": "subslide"
    }
   },
   "source": [
    "- The `area` mark type also supports data-driven baselines, with both the upper and lower series determined by data fields. \n",
    "\n",
    "\n",
    "- As with `bar` marks, we can use the `x` and `x2` (or `y` and `y2`) channels to provide end points for the area mark.\n",
    "\n",
    "\n",
    "\n",
    "- The chart below visualizes the range of minimum and maximum fertility, per year, for North American countries:"
   ]
  },
  {
   "cell_type": "code",
   "execution_count": null,
   "metadata": {
    "colab": {
     "base_uri": "https://localhost:8080/",
     "height": 385
    },
    "colab_type": "code",
    "id": "I084oc4aQeMw",
    "outputId": "fb6d0868-79f4-4f96-8f5d-aff6d504b3fe",
    "slideshow": {
     "slide_type": "subslide"
    }
   },
   "outputs": [],
   "source": [
    "alt.Chart(dataNA).mark_area().encode(\n",
    "    alt.X('year:O'),\n",
    "    alt.Y('___(fertility):Q'), # <--\n",
    "    alt.___('___(fertility):Q') # <--\n",
    ").properties(\n",
    "    width={\"step\": ___} #<-- e.g., use 40\n",
    ")"
   ]
  },
  {
   "cell_type": "markdown",
   "metadata": {
    "colab_type": "text",
    "id": "5BoLjQCgrHZL",
    "slideshow": {
     "slide_type": "notes"
    }
   },
   "source": [
    "All the `area` mark examples above use a vertically oriented area. However, Altair and Vega-Lite support horizontal areas as well. Let's transpose the chart above, simply by swapping the `x` and `y` channels."
   ]
  },
  {
   "cell_type": "code",
   "execution_count": null,
   "metadata": {
    "colab": {
     "base_uri": "https://localhost:8080/",
     "height": 506
    },
    "colab_type": "code",
    "id": "l_TDR4SNrStr",
    "outputId": "e7bf35e5-c94b-4316-9f8d-0dc68f242763"
   },
   "outputs": [],
   "source": [
    "alt.Chart(dataNA).mark_area().encode(\n",
    "    alt.___('year:O'), # <--\n",
    "    alt.___('min(fertility):Q'), # <--\n",
    "    alt.___('max(fertility):Q') # <--\n",
    ").properties(\n",
    "    width={\"step\": 40}\n",
    ")"
   ]
  }
 ],
 "metadata": {
  "celltoolbar": "Slideshow",
  "kernelspec": {
   "display_name": "Python 3 (ipykernel)",
   "language": "python",
   "name": "python3"
  },
  "language_info": {
   "codemirror_mode": {
    "name": "ipython",
    "version": 3
   },
   "file_extension": ".py",
   "mimetype": "text/x-python",
   "name": "python",
   "nbconvert_exporter": "python",
   "pygments_lexer": "ipython3",
   "version": "3.11.4"
  }
 },
 "nbformat": 4,
 "nbformat_minor": 4
}
