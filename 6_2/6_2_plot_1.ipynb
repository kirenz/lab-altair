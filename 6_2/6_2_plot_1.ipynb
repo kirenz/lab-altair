{
 "cells": [
  {
   "attachments": {},
   "cell_type": "markdown",
   "metadata": {},
   "source": [
    "# Solution 1, Exercise 6.2"
   ]
  },
  {
   "attachments": {},
   "cell_type": "markdown",
   "metadata": {},
   "source": [
    "## Setup "
   ]
  },
  {
   "cell_type": "code",
   "execution_count": 1,
   "metadata": {},
   "outputs": [],
   "source": [
    "import pandas as pd\n",
    "import altair as alt"
   ]
  },
  {
   "attachments": {},
   "cell_type": "markdown",
   "metadata": {},
   "source": [
    "## Data"
   ]
  },
  {
   "cell_type": "code",
   "execution_count": 2,
   "metadata": {},
   "outputs": [
    {
     "data": {
      "text/html": [
       "<div>\n",
       "<style scoped>\n",
       "    .dataframe tbody tr th:only-of-type {\n",
       "        vertical-align: middle;\n",
       "    }\n",
       "\n",
       "    .dataframe tbody tr th {\n",
       "        vertical-align: top;\n",
       "    }\n",
       "\n",
       "    .dataframe thead th {\n",
       "        text-align: right;\n",
       "    }\n",
       "</style>\n",
       "<table border=\"1\" class=\"dataframe\">\n",
       "  <thead>\n",
       "    <tr style=\"text-align: right;\">\n",
       "      <th></th>\n",
       "      <th>Dials Made</th>\n",
       "      <th>Accounts Worked</th>\n",
       "      <th>Not Worked</th>\n",
       "      <th>Penetration Rate</th>\n",
       "      <th>Date</th>\n",
       "    </tr>\n",
       "  </thead>\n",
       "  <tbody>\n",
       "    <tr>\n",
       "      <th>0</th>\n",
       "      <td>450000</td>\n",
       "      <td>225000</td>\n",
       "      <td>225000</td>\n",
       "      <td>0.50</td>\n",
       "      <td>2019-01-01</td>\n",
       "    </tr>\n",
       "    <tr>\n",
       "      <th>1</th>\n",
       "      <td>390000</td>\n",
       "      <td>185000</td>\n",
       "      <td>205000</td>\n",
       "      <td>0.47</td>\n",
       "      <td>2019-02-01</td>\n",
       "    </tr>\n",
       "    <tr>\n",
       "      <th>2</th>\n",
       "      <td>330000</td>\n",
       "      <td>138000</td>\n",
       "      <td>192000</td>\n",
       "      <td>0.42</td>\n",
       "      <td>2019-03-01</td>\n",
       "    </tr>\n",
       "    <tr>\n",
       "      <th>3</th>\n",
       "      <td>320000</td>\n",
       "      <td>137000</td>\n",
       "      <td>183000</td>\n",
       "      <td>0.43</td>\n",
       "      <td>2019-04-01</td>\n",
       "    </tr>\n",
       "    <tr>\n",
       "      <th>4</th>\n",
       "      <td>365000</td>\n",
       "      <td>150000</td>\n",
       "      <td>215000</td>\n",
       "      <td>0.41</td>\n",
       "      <td>2019-05-01</td>\n",
       "    </tr>\n",
       "    <tr>\n",
       "      <th>5</th>\n",
       "      <td>335000</td>\n",
       "      <td>115000</td>\n",
       "      <td>220000</td>\n",
       "      <td>0.34</td>\n",
       "      <td>2019-06-01</td>\n",
       "    </tr>\n",
       "    <tr>\n",
       "      <th>6</th>\n",
       "      <td>275000</td>\n",
       "      <td>100000</td>\n",
       "      <td>175000</td>\n",
       "      <td>0.36</td>\n",
       "      <td>2019-07-01</td>\n",
       "    </tr>\n",
       "    <tr>\n",
       "      <th>7</th>\n",
       "      <td>270000</td>\n",
       "      <td>108000</td>\n",
       "      <td>162000</td>\n",
       "      <td>0.40</td>\n",
       "      <td>2019-08-01</td>\n",
       "    </tr>\n",
       "    <tr>\n",
       "      <th>8</th>\n",
       "      <td>250000</td>\n",
       "      <td>90000</td>\n",
       "      <td>160000</td>\n",
       "      <td>0.36</td>\n",
       "      <td>2019-09-01</td>\n",
       "    </tr>\n",
       "    <tr>\n",
       "      <th>9</th>\n",
       "      <td>255000</td>\n",
       "      <td>95000</td>\n",
       "      <td>160000</td>\n",
       "      <td>0.37</td>\n",
       "      <td>2019-10-01</td>\n",
       "    </tr>\n",
       "    <tr>\n",
       "      <th>10</th>\n",
       "      <td>250000</td>\n",
       "      <td>80000</td>\n",
       "      <td>170000</td>\n",
       "      <td>0.32</td>\n",
       "      <td>2019-11-01</td>\n",
       "    </tr>\n",
       "    <tr>\n",
       "      <th>11</th>\n",
       "      <td>240000</td>\n",
       "      <td>65000</td>\n",
       "      <td>175000</td>\n",
       "      <td>0.27</td>\n",
       "      <td>2019-12-01</td>\n",
       "    </tr>\n",
       "  </tbody>\n",
       "</table>\n",
       "</div>"
      ],
      "text/plain": [
       "    Dials Made  Accounts Worked  Not Worked  Penetration Rate       Date\n",
       "0       450000           225000      225000              0.50 2019-01-01\n",
       "1       390000           185000      205000              0.47 2019-02-01\n",
       "2       330000           138000      192000              0.42 2019-03-01\n",
       "3       320000           137000      183000              0.43 2019-04-01\n",
       "4       365000           150000      215000              0.41 2019-05-01\n",
       "5       335000           115000      220000              0.34 2019-06-01\n",
       "6       275000           100000      175000              0.36 2019-07-01\n",
       "7       270000           108000      162000              0.40 2019-08-01\n",
       "8       250000            90000      160000              0.36 2019-09-01\n",
       "9       255000            95000      160000              0.37 2019-10-01\n",
       "10      250000            80000      170000              0.32 2019-11-01\n",
       "11      240000            65000      175000              0.27 2019-12-01"
      ]
     },
     "execution_count": 2,
     "metadata": {},
     "output_type": "execute_result"
    }
   ],
   "source": [
    "# Import data\n",
    "df = pd.read_excel(\"6.2 EXERCISE.xlsx\")\n",
    "\n",
    "# Create Date column\n",
    "df['Date'] = pd.to_datetime('2019' + df[2019], format='%Y%b')\n",
    "# Drop old month column 2019\n",
    "df.drop(columns=2019, inplace=True)\n",
    "# Prepare penetration rate values\n",
    "df['Penetration Rate'] = round(df['Penetration Rate'], 2)\n",
    "\n",
    "df"
   ]
  },
  {
   "attachments": {},
   "cell_type": "markdown",
   "metadata": {},
   "source": [
    "## Create chart"
   ]
  },
  {
   "attachments": {},
   "cell_type": "markdown",
   "metadata": {},
   "source": [
    "### Area chart"
   ]
  },
  {
   "cell_type": "code",
   "execution_count": 3,
   "metadata": {},
   "outputs": [
    {
     "data": {
      "text/html": [
       "\n",
       "<div id=\"altair-viz-470f995c41ed4259b2115f7e3b0136fb\"></div>\n",
       "<script type=\"text/javascript\">\n",
       "  var VEGA_DEBUG = (typeof VEGA_DEBUG == \"undefined\") ? {} : VEGA_DEBUG;\n",
       "  (function(spec, embedOpt){\n",
       "    let outputDiv = document.currentScript.previousElementSibling;\n",
       "    if (outputDiv.id !== \"altair-viz-470f995c41ed4259b2115f7e3b0136fb\") {\n",
       "      outputDiv = document.getElementById(\"altair-viz-470f995c41ed4259b2115f7e3b0136fb\");\n",
       "    }\n",
       "    const paths = {\n",
       "      \"vega\": \"https://cdn.jsdelivr.net/npm/vega@5?noext\",\n",
       "      \"vega-lib\": \"https://cdn.jsdelivr.net/npm/vega-lib?noext\",\n",
       "      \"vega-lite\": \"https://cdn.jsdelivr.net/npm/vega-lite@5.6.1?noext\",\n",
       "      \"vega-embed\": \"https://cdn.jsdelivr.net/npm/vega-embed@6?noext\",\n",
       "    };\n",
       "\n",
       "    function maybeLoadScript(lib, version) {\n",
       "      var key = `${lib.replace(\"-\", \"\")}_version`;\n",
       "      return (VEGA_DEBUG[key] == version) ?\n",
       "        Promise.resolve(paths[lib]) :\n",
       "        new Promise(function(resolve, reject) {\n",
       "          var s = document.createElement('script');\n",
       "          document.getElementsByTagName(\"head\")[0].appendChild(s);\n",
       "          s.async = true;\n",
       "          s.onload = () => {\n",
       "            VEGA_DEBUG[key] = version;\n",
       "            return resolve(paths[lib]);\n",
       "          };\n",
       "          s.onerror = () => reject(`Error loading script: ${paths[lib]}`);\n",
       "          s.src = paths[lib];\n",
       "        });\n",
       "    }\n",
       "\n",
       "    function showError(err) {\n",
       "      outputDiv.innerHTML = `<div class=\"error\" style=\"color:red;\">${err}</div>`;\n",
       "      throw err;\n",
       "    }\n",
       "\n",
       "    function displayChart(vegaEmbed) {\n",
       "      vegaEmbed(outputDiv, spec, embedOpt)\n",
       "        .catch(err => showError(`Javascript Error: ${err.message}<br>This usually means there's a typo in your chart specification. See the javascript console for the full traceback.`));\n",
       "    }\n",
       "\n",
       "    if(typeof define === \"function\" && define.amd) {\n",
       "      requirejs.config({paths});\n",
       "      require([\"vega-embed\"], displayChart, err => showError(`Error loading script: ${err.message}`));\n",
       "    } else {\n",
       "      maybeLoadScript(\"vega\", \"5\")\n",
       "        .then(() => maybeLoadScript(\"vega-lite\", \"5.6.1\"))\n",
       "        .then(() => maybeLoadScript(\"vega-embed\", \"6\"))\n",
       "        .catch(showError)\n",
       "        .then(() => displayChart(vegaEmbed));\n",
       "    }\n",
       "  })({\"config\": {\"view\": {\"continuousWidth\": 300, \"continuousHeight\": 300}}, \"data\": {\"name\": \"data-9a407c58750917fd14c863a70b66c286\"}, \"mark\": {\"type\": \"area\", \"color\": \"red\", \"fill\": \"lightgrey\", \"line\": true}, \"encoding\": {\"color\": {\"value\": \"red\"}, \"strokeWidth\": {\"value\": 3.5}, \"x\": {\"axis\": {\"format\": \"%b\", \"title\": \"2019\", \"titleAnchor\": \"start\"}, \"field\": \"Date\", \"type\": \"temporal\"}, \"y\": {\"axis\": {\"format\": \"%\", \"title\": \"% Of Dials\", \"titleAnchor\": \"end\"}, \"field\": \"Penetration Rate\", \"scale\": {\"domain\": [0, 1]}, \"type\": \"quantitative\"}}, \"$schema\": \"https://vega.github.io/schema/vega-lite/v5.6.1.json\", \"datasets\": {\"data-9a407c58750917fd14c863a70b66c286\": [{\"Dials Made\": 450000, \"Accounts Worked\": 225000, \"Not Worked\": 225000, \"Penetration Rate\": 0.5, \"Date\": \"2019-01-01T00:00:00\"}, {\"Dials Made\": 390000, \"Accounts Worked\": 185000, \"Not Worked\": 205000, \"Penetration Rate\": 0.47, \"Date\": \"2019-02-01T00:00:00\"}, {\"Dials Made\": 330000, \"Accounts Worked\": 138000, \"Not Worked\": 192000, \"Penetration Rate\": 0.42, \"Date\": \"2019-03-01T00:00:00\"}, {\"Dials Made\": 320000, \"Accounts Worked\": 137000, \"Not Worked\": 183000, \"Penetration Rate\": 0.43, \"Date\": \"2019-04-01T00:00:00\"}, {\"Dials Made\": 365000, \"Accounts Worked\": 150000, \"Not Worked\": 215000, \"Penetration Rate\": 0.41, \"Date\": \"2019-05-01T00:00:00\"}, {\"Dials Made\": 335000, \"Accounts Worked\": 115000, \"Not Worked\": 220000, \"Penetration Rate\": 0.34, \"Date\": \"2019-06-01T00:00:00\"}, {\"Dials Made\": 275000, \"Accounts Worked\": 100000, \"Not Worked\": 175000, \"Penetration Rate\": 0.36, \"Date\": \"2019-07-01T00:00:00\"}, {\"Dials Made\": 270000, \"Accounts Worked\": 108000, \"Not Worked\": 162000, \"Penetration Rate\": 0.4, \"Date\": \"2019-08-01T00:00:00\"}, {\"Dials Made\": 250000, \"Accounts Worked\": 90000, \"Not Worked\": 160000, \"Penetration Rate\": 0.36, \"Date\": \"2019-09-01T00:00:00\"}, {\"Dials Made\": 255000, \"Accounts Worked\": 95000, \"Not Worked\": 160000, \"Penetration Rate\": 0.37, \"Date\": \"2019-10-01T00:00:00\"}, {\"Dials Made\": 250000, \"Accounts Worked\": 80000, \"Not Worked\": 170000, \"Penetration Rate\": 0.32, \"Date\": \"2019-11-01T00:00:00\"}, {\"Dials Made\": 240000, \"Accounts Worked\": 65000, \"Not Worked\": 175000, \"Penetration Rate\": 0.27, \"Date\": \"2019-12-01T00:00:00\"}]}}, {\"mode\": \"vega-lite\"});\n",
       "</script>"
      ],
      "text/plain": [
       "alt.Chart(...)"
      ]
     },
     "execution_count": 3,
     "metadata": {},
     "output_type": "execute_result"
    }
   ],
   "source": [
    "# create area chart\n",
    "line = alt.Chart(df).mark_area(line=True, color='red', fill='lightgrey').encode(\n",
    "    x=alt.X('Date:T', \n",
    "            axis=alt.Axis(\n",
    "                format=(\"%b\"),\n",
    "                title='2019',\n",
    "                titleAnchor='start')\n",
    "            ),\n",
    "    y=alt.Y('Penetration Rate:Q', \n",
    "            axis=alt.Axis(\n",
    "                title='% Of Dials',\n",
    "                format='%',\n",
    "                titleAnchor='end',\n",
    "            ),\n",
    "            scale=alt.Scale(domain=[0, 1])\n",
    "            ),\n",
    "    color=alt.value('red'),        \n",
    "    strokeWidth=alt.value(3.5)\n",
    ")\n",
    "\n",
    "line\n"
   ]
  },
  {
   "attachments": {},
   "cell_type": "markdown",
   "metadata": {},
   "source": [
    "### Create point at end of the line"
   ]
  },
  {
   "cell_type": "code",
   "execution_count": 4,
   "metadata": {},
   "outputs": [
    {
     "data": {
      "text/html": [
       "<div>\n",
       "<style scoped>\n",
       "    .dataframe tbody tr th:only-of-type {\n",
       "        vertical-align: middle;\n",
       "    }\n",
       "\n",
       "    .dataframe tbody tr th {\n",
       "        vertical-align: top;\n",
       "    }\n",
       "\n",
       "    .dataframe thead th {\n",
       "        text-align: right;\n",
       "    }\n",
       "</style>\n",
       "<table border=\"1\" class=\"dataframe\">\n",
       "  <thead>\n",
       "    <tr style=\"text-align: right;\">\n",
       "      <th></th>\n",
       "      <th>Dials Made</th>\n",
       "      <th>Accounts Worked</th>\n",
       "      <th>Not Worked</th>\n",
       "      <th>Penetration Rate</th>\n",
       "      <th>Date</th>\n",
       "    </tr>\n",
       "  </thead>\n",
       "  <tbody>\n",
       "    <tr>\n",
       "      <th>11</th>\n",
       "      <td>240000</td>\n",
       "      <td>65000</td>\n",
       "      <td>175000</td>\n",
       "      <td>0.27</td>\n",
       "      <td>2019-12-01</td>\n",
       "    </tr>\n",
       "  </tbody>\n",
       "</table>\n",
       "</div>"
      ],
      "text/plain": [
       "    Dials Made  Accounts Worked  Not Worked  Penetration Rate       Date\n",
       "11      240000            65000      175000              0.27 2019-12-01"
      ]
     },
     "execution_count": 4,
     "metadata": {},
     "output_type": "execute_result"
    }
   ],
   "source": [
    "# sort dataframe so that max date is at end\n",
    "df = df.sort_values(by=['Date'])\n",
    "# select last row \n",
    "df_2 = df.tail(1)\n",
    "\n",
    "df_2"
   ]
  },
  {
   "cell_type": "code",
   "execution_count": 8,
   "metadata": {},
   "outputs": [
    {
     "data": {
      "text/html": [
       "\n",
       "<div id=\"altair-viz-36ee4d8c4b2f453d850c9bf6cbc34872\"></div>\n",
       "<script type=\"text/javascript\">\n",
       "  var VEGA_DEBUG = (typeof VEGA_DEBUG == \"undefined\") ? {} : VEGA_DEBUG;\n",
       "  (function(spec, embedOpt){\n",
       "    let outputDiv = document.currentScript.previousElementSibling;\n",
       "    if (outputDiv.id !== \"altair-viz-36ee4d8c4b2f453d850c9bf6cbc34872\") {\n",
       "      outputDiv = document.getElementById(\"altair-viz-36ee4d8c4b2f453d850c9bf6cbc34872\");\n",
       "    }\n",
       "    const paths = {\n",
       "      \"vega\": \"https://cdn.jsdelivr.net/npm/vega@5?noext\",\n",
       "      \"vega-lib\": \"https://cdn.jsdelivr.net/npm/vega-lib?noext\",\n",
       "      \"vega-lite\": \"https://cdn.jsdelivr.net/npm/vega-lite@5.6.1?noext\",\n",
       "      \"vega-embed\": \"https://cdn.jsdelivr.net/npm/vega-embed@6?noext\",\n",
       "    };\n",
       "\n",
       "    function maybeLoadScript(lib, version) {\n",
       "      var key = `${lib.replace(\"-\", \"\")}_version`;\n",
       "      return (VEGA_DEBUG[key] == version) ?\n",
       "        Promise.resolve(paths[lib]) :\n",
       "        new Promise(function(resolve, reject) {\n",
       "          var s = document.createElement('script');\n",
       "          document.getElementsByTagName(\"head\")[0].appendChild(s);\n",
       "          s.async = true;\n",
       "          s.onload = () => {\n",
       "            VEGA_DEBUG[key] = version;\n",
       "            return resolve(paths[lib]);\n",
       "          };\n",
       "          s.onerror = () => reject(`Error loading script: ${paths[lib]}`);\n",
       "          s.src = paths[lib];\n",
       "        });\n",
       "    }\n",
       "\n",
       "    function showError(err) {\n",
       "      outputDiv.innerHTML = `<div class=\"error\" style=\"color:red;\">${err}</div>`;\n",
       "      throw err;\n",
       "    }\n",
       "\n",
       "    function displayChart(vegaEmbed) {\n",
       "      vegaEmbed(outputDiv, spec, embedOpt)\n",
       "        .catch(err => showError(`Javascript Error: ${err.message}<br>This usually means there's a typo in your chart specification. See the javascript console for the full traceback.`));\n",
       "    }\n",
       "\n",
       "    if(typeof define === \"function\" && define.amd) {\n",
       "      requirejs.config({paths});\n",
       "      require([\"vega-embed\"], displayChart, err => showError(`Error loading script: ${err.message}`));\n",
       "    } else {\n",
       "      maybeLoadScript(\"vega\", \"5\")\n",
       "        .then(() => maybeLoadScript(\"vega-lite\", \"5.6.1\"))\n",
       "        .then(() => maybeLoadScript(\"vega-embed\", \"6\"))\n",
       "        .catch(showError)\n",
       "        .then(() => displayChart(vegaEmbed));\n",
       "    }\n",
       "  })({\"config\": {\"view\": {\"continuousWidth\": 300, \"continuousHeight\": 300}}, \"data\": {\"name\": \"data-368d46e6b0f745bd17181b8de2ce56c6\"}, \"mark\": {\"type\": \"circle\", \"color\": \"red\", \"opacity\": 1, \"size\": 110}, \"encoding\": {\"x\": {\"field\": \"Date\", \"type\": \"temporal\"}, \"y\": {\"field\": \"Penetration Rate\", \"type\": \"quantitative\"}}, \"$schema\": \"https://vega.github.io/schema/vega-lite/v5.6.1.json\", \"datasets\": {\"data-368d46e6b0f745bd17181b8de2ce56c6\": [{\"Dials Made\": 240000, \"Accounts Worked\": 65000, \"Not Worked\": 175000, \"Penetration Rate\": 0.27, \"Date\": \"2019-12-01T00:00:00\"}]}}, {\"mode\": \"vega-lite\"});\n",
       "</script>"
      ],
      "text/plain": [
       "alt.Chart(...)"
      ]
     },
     "execution_count": 8,
     "metadata": {},
     "output_type": "execute_result"
    }
   ],
   "source": [
    "# create point chart\n",
    "point = alt.Chart(df_2).mark_circle(size=110, opacity=1, color='red').encode(\n",
    "  x = alt.X('Date:T'),\n",
    "  y = alt.Y('Penetration Rate:Q')\n",
    ")\n",
    "point"
   ]
  },
  {
   "attachments": {},
   "cell_type": "markdown",
   "metadata": {},
   "source": [
    "### Create label"
   ]
  },
  {
   "cell_type": "code",
   "execution_count": 9,
   "metadata": {},
   "outputs": [],
   "source": [
    "# Create  label\n",
    "label =  alt.Chart(df_2).mark_text(\n",
    "                           align=\"left\", \n",
    "                           color='red',\n",
    "                           dx=10, \n",
    "                           size=14, \n",
    "                           fontWeight=\"bold\").encode(\n",
    "    alt.X(\"Date:T\", aggregate=\"max\"),\n",
    "    alt.Y(\"Penetration Rate:Q\", aggregate={\"argmax\": \"Date\"}),\n",
    "    alt.Text(\"Penetration Rate:Q\", format=\".0%\")\n",
    ")"
   ]
  },
  {
   "attachments": {},
   "cell_type": "markdown",
   "metadata": {},
   "source": [
    "## Combine all elements\n",
    "\n"
   ]
  },
  {
   "cell_type": "code",
   "execution_count": 10,
   "metadata": {},
   "outputs": [
    {
     "data": {
      "text/html": [
       "\n",
       "<div id=\"altair-viz-296c1b45c80e4bdfa14c8cec589dcf7f\"></div>\n",
       "<script type=\"text/javascript\">\n",
       "  var VEGA_DEBUG = (typeof VEGA_DEBUG == \"undefined\") ? {} : VEGA_DEBUG;\n",
       "  (function(spec, embedOpt){\n",
       "    let outputDiv = document.currentScript.previousElementSibling;\n",
       "    if (outputDiv.id !== \"altair-viz-296c1b45c80e4bdfa14c8cec589dcf7f\") {\n",
       "      outputDiv = document.getElementById(\"altair-viz-296c1b45c80e4bdfa14c8cec589dcf7f\");\n",
       "    }\n",
       "    const paths = {\n",
       "      \"vega\": \"https://cdn.jsdelivr.net/npm/vega@5?noext\",\n",
       "      \"vega-lib\": \"https://cdn.jsdelivr.net/npm/vega-lib?noext\",\n",
       "      \"vega-lite\": \"https://cdn.jsdelivr.net/npm/vega-lite@5.6.1?noext\",\n",
       "      \"vega-embed\": \"https://cdn.jsdelivr.net/npm/vega-embed@6?noext\",\n",
       "    };\n",
       "\n",
       "    function maybeLoadScript(lib, version) {\n",
       "      var key = `${lib.replace(\"-\", \"\")}_version`;\n",
       "      return (VEGA_DEBUG[key] == version) ?\n",
       "        Promise.resolve(paths[lib]) :\n",
       "        new Promise(function(resolve, reject) {\n",
       "          var s = document.createElement('script');\n",
       "          document.getElementsByTagName(\"head\")[0].appendChild(s);\n",
       "          s.async = true;\n",
       "          s.onload = () => {\n",
       "            VEGA_DEBUG[key] = version;\n",
       "            return resolve(paths[lib]);\n",
       "          };\n",
       "          s.onerror = () => reject(`Error loading script: ${paths[lib]}`);\n",
       "          s.src = paths[lib];\n",
       "        });\n",
       "    }\n",
       "\n",
       "    function showError(err) {\n",
       "      outputDiv.innerHTML = `<div class=\"error\" style=\"color:red;\">${err}</div>`;\n",
       "      throw err;\n",
       "    }\n",
       "\n",
       "    function displayChart(vegaEmbed) {\n",
       "      vegaEmbed(outputDiv, spec, embedOpt)\n",
       "        .catch(err => showError(`Javascript Error: ${err.message}<br>This usually means there's a typo in your chart specification. See the javascript console for the full traceback.`));\n",
       "    }\n",
       "\n",
       "    if(typeof define === \"function\" && define.amd) {\n",
       "      requirejs.config({paths});\n",
       "      require([\"vega-embed\"], displayChart, err => showError(`Error loading script: ${err.message}`));\n",
       "    } else {\n",
       "      maybeLoadScript(\"vega\", \"5\")\n",
       "        .then(() => maybeLoadScript(\"vega-lite\", \"5.6.1\"))\n",
       "        .then(() => maybeLoadScript(\"vega-embed\", \"6\"))\n",
       "        .catch(showError)\n",
       "        .then(() => displayChart(vegaEmbed));\n",
       "    }\n",
       "  })({\"config\": {\"view\": {\"continuousWidth\": 300, \"continuousHeight\": 300, \"strokeOpacity\": 0}, \"axis\": {\"grid\": false, \"labelColor\": \"grey\", \"labelFontSize\": 13, \"titleColor\": \"grey\", \"titleFontSize\": 13}, \"title\": {\"anchor\": \"start\", \"color\": \"grey\", \"font\": \"Arial\", \"fontSize\": 20}}, \"layer\": [{\"data\": {\"name\": \"data-9a407c58750917fd14c863a70b66c286\"}, \"mark\": {\"type\": \"area\", \"color\": \"red\", \"fill\": \"lightgrey\", \"line\": true}, \"encoding\": {\"color\": {\"value\": \"red\"}, \"strokeWidth\": {\"value\": 3.5}, \"x\": {\"axis\": {\"format\": \"%b\", \"title\": \"2019\", \"titleAnchor\": \"start\"}, \"field\": \"Date\", \"type\": \"temporal\"}, \"y\": {\"axis\": {\"format\": \"%\", \"title\": \"% Of Dials\", \"titleAnchor\": \"end\"}, \"field\": \"Penetration Rate\", \"scale\": {\"domain\": [0, 1]}, \"type\": \"quantitative\"}}}, {\"data\": {\"name\": \"data-368d46e6b0f745bd17181b8de2ce56c6\"}, \"mark\": {\"type\": \"circle\", \"color\": \"red\", \"opacity\": 1, \"size\": 110}, \"encoding\": {\"x\": {\"field\": \"Date\", \"type\": \"temporal\"}, \"y\": {\"field\": \"Penetration Rate\", \"type\": \"quantitative\"}}}, {\"data\": {\"name\": \"data-368d46e6b0f745bd17181b8de2ce56c6\"}, \"mark\": {\"type\": \"text\", \"align\": \"left\", \"color\": \"red\", \"dx\": 10, \"fontWeight\": \"bold\", \"size\": 14}, \"encoding\": {\"text\": {\"field\": \"Penetration Rate\", \"format\": \".0%\", \"type\": \"quantitative\"}, \"x\": {\"aggregate\": \"max\", \"field\": \"Date\", \"type\": \"temporal\"}, \"y\": {\"aggregate\": {\"argmax\": \"Date\"}, \"field\": \"Penetration Rate\", \"type\": \"quantitative\"}}}], \"height\": 300, \"title\": \"Call Breakdown over time\", \"width\": 450, \"$schema\": \"https://vega.github.io/schema/vega-lite/v5.6.1.json\", \"datasets\": {\"data-9a407c58750917fd14c863a70b66c286\": [{\"Dials Made\": 450000, \"Accounts Worked\": 225000, \"Not Worked\": 225000, \"Penetration Rate\": 0.5, \"Date\": \"2019-01-01T00:00:00\"}, {\"Dials Made\": 390000, \"Accounts Worked\": 185000, \"Not Worked\": 205000, \"Penetration Rate\": 0.47, \"Date\": \"2019-02-01T00:00:00\"}, {\"Dials Made\": 330000, \"Accounts Worked\": 138000, \"Not Worked\": 192000, \"Penetration Rate\": 0.42, \"Date\": \"2019-03-01T00:00:00\"}, {\"Dials Made\": 320000, \"Accounts Worked\": 137000, \"Not Worked\": 183000, \"Penetration Rate\": 0.43, \"Date\": \"2019-04-01T00:00:00\"}, {\"Dials Made\": 365000, \"Accounts Worked\": 150000, \"Not Worked\": 215000, \"Penetration Rate\": 0.41, \"Date\": \"2019-05-01T00:00:00\"}, {\"Dials Made\": 335000, \"Accounts Worked\": 115000, \"Not Worked\": 220000, \"Penetration Rate\": 0.34, \"Date\": \"2019-06-01T00:00:00\"}, {\"Dials Made\": 275000, \"Accounts Worked\": 100000, \"Not Worked\": 175000, \"Penetration Rate\": 0.36, \"Date\": \"2019-07-01T00:00:00\"}, {\"Dials Made\": 270000, \"Accounts Worked\": 108000, \"Not Worked\": 162000, \"Penetration Rate\": 0.4, \"Date\": \"2019-08-01T00:00:00\"}, {\"Dials Made\": 250000, \"Accounts Worked\": 90000, \"Not Worked\": 160000, \"Penetration Rate\": 0.36, \"Date\": \"2019-09-01T00:00:00\"}, {\"Dials Made\": 255000, \"Accounts Worked\": 95000, \"Not Worked\": 160000, \"Penetration Rate\": 0.37, \"Date\": \"2019-10-01T00:00:00\"}, {\"Dials Made\": 250000, \"Accounts Worked\": 80000, \"Not Worked\": 170000, \"Penetration Rate\": 0.32, \"Date\": \"2019-11-01T00:00:00\"}, {\"Dials Made\": 240000, \"Accounts Worked\": 65000, \"Not Worked\": 175000, \"Penetration Rate\": 0.27, \"Date\": \"2019-12-01T00:00:00\"}], \"data-368d46e6b0f745bd17181b8de2ce56c6\": [{\"Dials Made\": 240000, \"Accounts Worked\": 65000, \"Not Worked\": 175000, \"Penetration Rate\": 0.27, \"Date\": \"2019-12-01T00:00:00\"}]}}, {\"mode\": \"vega-lite\"});\n",
       "</script>"
      ],
      "text/plain": [
       "alt.LayerChart(...)"
      ]
     },
     "execution_count": 10,
     "metadata": {},
     "output_type": "execute_result"
    }
   ],
   "source": [
    "layer_chart = alt.layer(line, point, label).configure_title(\n",
    "    fontSize=20,\n",
    "    font='Arial',\n",
    "    anchor='start',\n",
    "    color='grey'\n",
    ").configure_axis(\n",
    "    labelFontSize=13,\n",
    "    titleFontSize=13,\n",
    "    titleColor='grey',\n",
    "    labelColor='grey',\n",
    "    grid=False\n",
    ").configure_view(\n",
    "    strokeOpacity=0\n",
    ").properties(\n",
    "    title= \"Call Breakdown over time\",\n",
    "    width=450,\n",
    "    height=300\n",
    ")\n",
    "\n",
    "layer_chart\n"
   ]
  }
 ],
 "metadata": {
  "kernelspec": {
   "display_name": "base",
   "language": "python",
   "name": "python3"
  },
  "language_info": {
   "codemirror_mode": {
    "name": "ipython",
    "version": 3
   },
   "file_extension": ".py",
   "mimetype": "text/x-python",
   "name": "python",
   "nbconvert_exporter": "python",
   "pygments_lexer": "ipython3",
   "version": "3.11.3"
  },
  "orig_nbformat": 4,
  "vscode": {
   "interpreter": {
    "hash": "e5d5ad5a916fd687aae8046816e24aad9db8c173e614e693cea264bee36691d3"
   }
  }
 },
 "nbformat": 4,
 "nbformat_minor": 2
}
