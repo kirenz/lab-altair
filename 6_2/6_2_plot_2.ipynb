{
 "cells": [
  {
   "attachments": {},
   "cell_type": "markdown",
   "metadata": {},
   "source": [
    "# Partial solution for bar charts, Exercise 6.2\n",
    "\n",
    "Demonstration of data preparation and options (this is not a final solution)"
   ]
  },
  {
   "attachments": {},
   "cell_type": "markdown",
   "metadata": {},
   "source": [
    "## Setup "
   ]
  },
  {
   "cell_type": "code",
   "execution_count": 1,
   "metadata": {},
   "outputs": [],
   "source": [
    "import pandas as pd\n",
    "import altair as alt"
   ]
  },
  {
   "attachments": {},
   "cell_type": "markdown",
   "metadata": {},
   "source": [
    "## Data"
   ]
  },
  {
   "cell_type": "code",
   "execution_count": 19,
   "metadata": {},
   "outputs": [
    {
     "data": {
      "text/html": [
       "<div>\n",
       "<style scoped>\n",
       "    .dataframe tbody tr th:only-of-type {\n",
       "        vertical-align: middle;\n",
       "    }\n",
       "\n",
       "    .dataframe tbody tr th {\n",
       "        vertical-align: top;\n",
       "    }\n",
       "\n",
       "    .dataframe thead th {\n",
       "        text-align: right;\n",
       "    }\n",
       "</style>\n",
       "<table border=\"1\" class=\"dataframe\">\n",
       "  <thead>\n",
       "    <tr style=\"text-align: right;\">\n",
       "      <th></th>\n",
       "      <th>Date</th>\n",
       "      <th>Accounts</th>\n",
       "      <th>Value</th>\n",
       "    </tr>\n",
       "  </thead>\n",
       "  <tbody>\n",
       "    <tr>\n",
       "      <th>0</th>\n",
       "      <td>2019-01-01</td>\n",
       "      <td>ACCOUNTS WORKED</td>\n",
       "      <td>225000</td>\n",
       "    </tr>\n",
       "    <tr>\n",
       "      <th>1</th>\n",
       "      <td>2019-02-01</td>\n",
       "      <td>ACCOUNTS WORKED</td>\n",
       "      <td>185000</td>\n",
       "    </tr>\n",
       "    <tr>\n",
       "      <th>2</th>\n",
       "      <td>2019-03-01</td>\n",
       "      <td>ACCOUNTS WORKED</td>\n",
       "      <td>138000</td>\n",
       "    </tr>\n",
       "    <tr>\n",
       "      <th>3</th>\n",
       "      <td>2019-04-01</td>\n",
       "      <td>ACCOUNTS WORKED</td>\n",
       "      <td>137000</td>\n",
       "    </tr>\n",
       "    <tr>\n",
       "      <th>4</th>\n",
       "      <td>2019-05-01</td>\n",
       "      <td>ACCOUNTS WORKED</td>\n",
       "      <td>150000</td>\n",
       "    </tr>\n",
       "  </tbody>\n",
       "</table>\n",
       "</div>"
      ],
      "text/plain": [
       "         Date         Accounts   Value\n",
       "0  2019-01-01  ACCOUNTS WORKED  225000\n",
       "1  2019-02-01  ACCOUNTS WORKED  185000\n",
       "2  2019-03-01  ACCOUNTS WORKED  138000\n",
       "3  2019-04-01  ACCOUNTS WORKED  137000\n",
       "4  2019-05-01  ACCOUNTS WORKED  150000"
      ]
     },
     "execution_count": 19,
     "metadata": {},
     "output_type": "execute_result"
    }
   ],
   "source": [
    "# Import data\n",
    "df = pd.read_csv(\"6_2_data.csv\")\n",
    "df.head()"
   ]
  },
  {
   "attachments": {},
   "cell_type": "markdown",
   "metadata": {},
   "source": [
    "## Create chart"
   ]
  },
  {
   "attachments": {},
   "cell_type": "markdown",
   "metadata": {},
   "source": [
    "### Bar chart 1"
   ]
  },
  {
   "cell_type": "code",
   "execution_count": 3,
   "metadata": {},
   "outputs": [
    {
     "data": {
      "text/html": [
       "\n",
       "<div id=\"altair-viz-2b1ffd9357704630ac86d5b0688ac2a9\"></div>\n",
       "<script type=\"text/javascript\">\n",
       "  var VEGA_DEBUG = (typeof VEGA_DEBUG == \"undefined\") ? {} : VEGA_DEBUG;\n",
       "  (function(spec, embedOpt){\n",
       "    let outputDiv = document.currentScript.previousElementSibling;\n",
       "    if (outputDiv.id !== \"altair-viz-2b1ffd9357704630ac86d5b0688ac2a9\") {\n",
       "      outputDiv = document.getElementById(\"altair-viz-2b1ffd9357704630ac86d5b0688ac2a9\");\n",
       "    }\n",
       "    const paths = {\n",
       "      \"vega\": \"https://cdn.jsdelivr.net/npm/vega@5?noext\",\n",
       "      \"vega-lib\": \"https://cdn.jsdelivr.net/npm/vega-lib?noext\",\n",
       "      \"vega-lite\": \"https://cdn.jsdelivr.net/npm/vega-lite@5.6.1?noext\",\n",
       "      \"vega-embed\": \"https://cdn.jsdelivr.net/npm/vega-embed@6?noext\",\n",
       "    };\n",
       "\n",
       "    function maybeLoadScript(lib, version) {\n",
       "      var key = `${lib.replace(\"-\", \"\")}_version`;\n",
       "      return (VEGA_DEBUG[key] == version) ?\n",
       "        Promise.resolve(paths[lib]) :\n",
       "        new Promise(function(resolve, reject) {\n",
       "          var s = document.createElement('script');\n",
       "          document.getElementsByTagName(\"head\")[0].appendChild(s);\n",
       "          s.async = true;\n",
       "          s.onload = () => {\n",
       "            VEGA_DEBUG[key] = version;\n",
       "            return resolve(paths[lib]);\n",
       "          };\n",
       "          s.onerror = () => reject(`Error loading script: ${paths[lib]}`);\n",
       "          s.src = paths[lib];\n",
       "        });\n",
       "    }\n",
       "\n",
       "    function showError(err) {\n",
       "      outputDiv.innerHTML = `<div class=\"error\" style=\"color:red;\">${err}</div>`;\n",
       "      throw err;\n",
       "    }\n",
       "\n",
       "    function displayChart(vegaEmbed) {\n",
       "      vegaEmbed(outputDiv, spec, embedOpt)\n",
       "        .catch(err => showError(`Javascript Error: ${err.message}<br>This usually means there's a typo in your chart specification. See the javascript console for the full traceback.`));\n",
       "    }\n",
       "\n",
       "    if(typeof define === \"function\" && define.amd) {\n",
       "      requirejs.config({paths});\n",
       "      require([\"vega-embed\"], displayChart, err => showError(`Error loading script: ${err.message}`));\n",
       "    } else {\n",
       "      maybeLoadScript(\"vega\", \"5\")\n",
       "        .then(() => maybeLoadScript(\"vega-lite\", \"5.6.1\"))\n",
       "        .then(() => maybeLoadScript(\"vega-embed\", \"6\"))\n",
       "        .catch(showError)\n",
       "        .then(() => displayChart(vegaEmbed));\n",
       "    }\n",
       "  })({\"config\": {\"view\": {\"continuousWidth\": 300, \"continuousHeight\": 300}}, \"data\": {\"name\": \"data-1e716fde4e8cb3fca9709a4b070ee694\"}, \"mark\": {\"type\": \"bar\"}, \"encoding\": {\"color\": {\"field\": \"Accounts\", \"type\": \"nominal\"}, \"x\": {\"field\": \"Date\", \"timeUnit\": \"month\", \"type\": \"temporal\"}, \"y\": {\"field\": \"Value\", \"type\": \"quantitative\"}}, \"$schema\": \"https://vega.github.io/schema/vega-lite/v5.6.1.json\", \"datasets\": {\"data-1e716fde4e8cb3fca9709a4b070ee694\": [{\"Date\": \"2019-01-01\", \"Accounts\": \"ACCOUNTS WORKED\", \"Value\": 225000}, {\"Date\": \"2019-02-01\", \"Accounts\": \"ACCOUNTS WORKED\", \"Value\": 185000}, {\"Date\": \"2019-03-01\", \"Accounts\": \"ACCOUNTS WORKED\", \"Value\": 138000}, {\"Date\": \"2019-04-01\", \"Accounts\": \"ACCOUNTS WORKED\", \"Value\": 137000}, {\"Date\": \"2019-05-01\", \"Accounts\": \"ACCOUNTS WORKED\", \"Value\": 150000}, {\"Date\": \"2019-06-01\", \"Accounts\": \"ACCOUNTS WORKED\", \"Value\": 115000}, {\"Date\": \"2019-07-01\", \"Accounts\": \"ACCOUNTS WORKED\", \"Value\": 100000}, {\"Date\": \"2019-08-01\", \"Accounts\": \"ACCOUNTS WORKED\", \"Value\": 108000}, {\"Date\": \"2019-09-01\", \"Accounts\": \"ACCOUNTS WORKED\", \"Value\": 90000}, {\"Date\": \"2019-10-01\", \"Accounts\": \"ACCOUNTS WORKED\", \"Value\": 95000}, {\"Date\": \"2019-11-01\", \"Accounts\": \"ACCOUNTS WORKED\", \"Value\": 80000}, {\"Date\": \"2019-12-01\", \"Accounts\": \"ACCOUNTS WORKED\", \"Value\": 65000}, {\"Date\": \"2019-01-01\", \"Accounts\": \"NOT WORKED\", \"Value\": 225000}, {\"Date\": \"2019-02-01\", \"Accounts\": \"NOT WORKED\", \"Value\": 205000}, {\"Date\": \"2019-03-01\", \"Accounts\": \"NOT WORKED\", \"Value\": 192000}, {\"Date\": \"2019-04-01\", \"Accounts\": \"NOT WORKED\", \"Value\": 183000}, {\"Date\": \"2019-05-01\", \"Accounts\": \"NOT WORKED\", \"Value\": 215000}, {\"Date\": \"2019-06-01\", \"Accounts\": \"NOT WORKED\", \"Value\": 220000}, {\"Date\": \"2019-07-01\", \"Accounts\": \"NOT WORKED\", \"Value\": 175000}, {\"Date\": \"2019-08-01\", \"Accounts\": \"NOT WORKED\", \"Value\": 162000}, {\"Date\": \"2019-09-01\", \"Accounts\": \"NOT WORKED\", \"Value\": 160000}, {\"Date\": \"2019-10-01\", \"Accounts\": \"NOT WORKED\", \"Value\": 160000}, {\"Date\": \"2019-11-01\", \"Accounts\": \"NOT WORKED\", \"Value\": 170000}, {\"Date\": \"2019-12-01\", \"Accounts\": \"NOT WORKED\", \"Value\": 175000}]}}, {\"mode\": \"vega-lite\"});\n",
       "</script>"
      ],
      "text/plain": [
       "alt.Chart(...)"
      ]
     },
     "execution_count": 3,
     "metadata": {},
     "output_type": "execute_result"
    }
   ],
   "source": [
    "alt.Chart(df).mark_bar().encode(\n",
    " x=alt.X('month(Date):T'),\n",
    " y=alt.Y('Value:Q'),\n",
    " color=alt.Color('Accounts:N')\n",
    " )"
   ]
  },
  {
   "attachments": {},
   "cell_type": "markdown",
   "metadata": {},
   "source": [
    "### Bar chart 2"
   ]
  },
  {
   "cell_type": "code",
   "execution_count": 4,
   "metadata": {},
   "outputs": [
    {
     "data": {
      "text/html": [
       "\n",
       "<div id=\"altair-viz-2ff13bace8dc4ef4b3beb59e9a4185ee\"></div>\n",
       "<script type=\"text/javascript\">\n",
       "  var VEGA_DEBUG = (typeof VEGA_DEBUG == \"undefined\") ? {} : VEGA_DEBUG;\n",
       "  (function(spec, embedOpt){\n",
       "    let outputDiv = document.currentScript.previousElementSibling;\n",
       "    if (outputDiv.id !== \"altair-viz-2ff13bace8dc4ef4b3beb59e9a4185ee\") {\n",
       "      outputDiv = document.getElementById(\"altair-viz-2ff13bace8dc4ef4b3beb59e9a4185ee\");\n",
       "    }\n",
       "    const paths = {\n",
       "      \"vega\": \"https://cdn.jsdelivr.net/npm/vega@5?noext\",\n",
       "      \"vega-lib\": \"https://cdn.jsdelivr.net/npm/vega-lib?noext\",\n",
       "      \"vega-lite\": \"https://cdn.jsdelivr.net/npm/vega-lite@5.6.1?noext\",\n",
       "      \"vega-embed\": \"https://cdn.jsdelivr.net/npm/vega-embed@6?noext\",\n",
       "    };\n",
       "\n",
       "    function maybeLoadScript(lib, version) {\n",
       "      var key = `${lib.replace(\"-\", \"\")}_version`;\n",
       "      return (VEGA_DEBUG[key] == version) ?\n",
       "        Promise.resolve(paths[lib]) :\n",
       "        new Promise(function(resolve, reject) {\n",
       "          var s = document.createElement('script');\n",
       "          document.getElementsByTagName(\"head\")[0].appendChild(s);\n",
       "          s.async = true;\n",
       "          s.onload = () => {\n",
       "            VEGA_DEBUG[key] = version;\n",
       "            return resolve(paths[lib]);\n",
       "          };\n",
       "          s.onerror = () => reject(`Error loading script: ${paths[lib]}`);\n",
       "          s.src = paths[lib];\n",
       "        });\n",
       "    }\n",
       "\n",
       "    function showError(err) {\n",
       "      outputDiv.innerHTML = `<div class=\"error\" style=\"color:red;\">${err}</div>`;\n",
       "      throw err;\n",
       "    }\n",
       "\n",
       "    function displayChart(vegaEmbed) {\n",
       "      vegaEmbed(outputDiv, spec, embedOpt)\n",
       "        .catch(err => showError(`Javascript Error: ${err.message}<br>This usually means there's a typo in your chart specification. See the javascript console for the full traceback.`));\n",
       "    }\n",
       "\n",
       "    if(typeof define === \"function\" && define.amd) {\n",
       "      requirejs.config({paths});\n",
       "      require([\"vega-embed\"], displayChart, err => showError(`Error loading script: ${err.message}`));\n",
       "    } else {\n",
       "      maybeLoadScript(\"vega\", \"5\")\n",
       "        .then(() => maybeLoadScript(\"vega-lite\", \"5.6.1\"))\n",
       "        .then(() => maybeLoadScript(\"vega-embed\", \"6\"))\n",
       "        .catch(showError)\n",
       "        .then(() => displayChart(vegaEmbed));\n",
       "    }\n",
       "  })({\"config\": {\"view\": {\"continuousWidth\": 300, \"continuousHeight\": 300}}, \"data\": {\"name\": \"data-1e716fde4e8cb3fca9709a4b070ee694\"}, \"mark\": {\"type\": \"bar\"}, \"encoding\": {\"color\": {\"field\": \"Accounts\", \"type\": \"nominal\"}, \"x\": {\"field\": \"Date\", \"timeUnit\": \"month\", \"type\": \"temporal\"}, \"y\": {\"field\": \"Value\", \"stack\": \"normalize\", \"type\": \"quantitative\"}}, \"$schema\": \"https://vega.github.io/schema/vega-lite/v5.6.1.json\", \"datasets\": {\"data-1e716fde4e8cb3fca9709a4b070ee694\": [{\"Date\": \"2019-01-01\", \"Accounts\": \"ACCOUNTS WORKED\", \"Value\": 225000}, {\"Date\": \"2019-02-01\", \"Accounts\": \"ACCOUNTS WORKED\", \"Value\": 185000}, {\"Date\": \"2019-03-01\", \"Accounts\": \"ACCOUNTS WORKED\", \"Value\": 138000}, {\"Date\": \"2019-04-01\", \"Accounts\": \"ACCOUNTS WORKED\", \"Value\": 137000}, {\"Date\": \"2019-05-01\", \"Accounts\": \"ACCOUNTS WORKED\", \"Value\": 150000}, {\"Date\": \"2019-06-01\", \"Accounts\": \"ACCOUNTS WORKED\", \"Value\": 115000}, {\"Date\": \"2019-07-01\", \"Accounts\": \"ACCOUNTS WORKED\", \"Value\": 100000}, {\"Date\": \"2019-08-01\", \"Accounts\": \"ACCOUNTS WORKED\", \"Value\": 108000}, {\"Date\": \"2019-09-01\", \"Accounts\": \"ACCOUNTS WORKED\", \"Value\": 90000}, {\"Date\": \"2019-10-01\", \"Accounts\": \"ACCOUNTS WORKED\", \"Value\": 95000}, {\"Date\": \"2019-11-01\", \"Accounts\": \"ACCOUNTS WORKED\", \"Value\": 80000}, {\"Date\": \"2019-12-01\", \"Accounts\": \"ACCOUNTS WORKED\", \"Value\": 65000}, {\"Date\": \"2019-01-01\", \"Accounts\": \"NOT WORKED\", \"Value\": 225000}, {\"Date\": \"2019-02-01\", \"Accounts\": \"NOT WORKED\", \"Value\": 205000}, {\"Date\": \"2019-03-01\", \"Accounts\": \"NOT WORKED\", \"Value\": 192000}, {\"Date\": \"2019-04-01\", \"Accounts\": \"NOT WORKED\", \"Value\": 183000}, {\"Date\": \"2019-05-01\", \"Accounts\": \"NOT WORKED\", \"Value\": 215000}, {\"Date\": \"2019-06-01\", \"Accounts\": \"NOT WORKED\", \"Value\": 220000}, {\"Date\": \"2019-07-01\", \"Accounts\": \"NOT WORKED\", \"Value\": 175000}, {\"Date\": \"2019-08-01\", \"Accounts\": \"NOT WORKED\", \"Value\": 162000}, {\"Date\": \"2019-09-01\", \"Accounts\": \"NOT WORKED\", \"Value\": 160000}, {\"Date\": \"2019-10-01\", \"Accounts\": \"NOT WORKED\", \"Value\": 160000}, {\"Date\": \"2019-11-01\", \"Accounts\": \"NOT WORKED\", \"Value\": 170000}, {\"Date\": \"2019-12-01\", \"Accounts\": \"NOT WORKED\", \"Value\": 175000}]}}, {\"mode\": \"vega-lite\"});\n",
       "</script>"
      ],
      "text/plain": [
       "alt.Chart(...)"
      ]
     },
     "execution_count": 4,
     "metadata": {},
     "output_type": "execute_result"
    }
   ],
   "source": [
    "alt.Chart(df).mark_bar().encode(\n",
    " x=alt.X('month(Date):T'),\n",
    " y=alt.Y('Value:Q', stack=\"normalize\"),\n",
    " color=alt.Color('Accounts:N')\n",
    " )"
   ]
  }
 ],
 "metadata": {
  "kernelspec": {
   "display_name": "base",
   "language": "python",
   "name": "python3"
  },
  "language_info": {
   "codemirror_mode": {
    "name": "ipython",
    "version": 3
   },
   "file_extension": ".py",
   "mimetype": "text/x-python",
   "name": "python",
   "nbconvert_exporter": "python",
   "pygments_lexer": "ipython3",
   "version": "3.11.3"
  },
  "orig_nbformat": 4,
  "vscode": {
   "interpreter": {
    "hash": "e5d5ad5a916fd687aae8046816e24aad9db8c173e614e693cea264bee36691d3"
   }
  }
 },
 "nbformat": 4,
 "nbformat_minor": 2
}
